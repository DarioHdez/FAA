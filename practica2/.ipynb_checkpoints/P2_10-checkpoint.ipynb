{
 "cells": [
  {
   "cell_type": "code",
   "execution_count": 1,
   "metadata": {},
   "outputs": [],
   "source": [
    "from Datos import Datos\n",
    "from Clasificador import  ClasificadorVecinosProximos,ClasificadorRegresionLogistica,Clasificador\n",
    "from EstrategiaParticionado import  ValidacionCruzada,ValidacionSimple,ValidacionBootstrap\n",
    "import numpy as np\n",
    "from sklearn.linear_model import LogisticRegression\n",
    "from sklearn.model_selection import cross_val_score\n",
    "from sklearn.neighbors import KNeighborsClassifier\n",
    "from scipy.special import expit\n",
    "from plotModel import plotModel\n",
    "import matplotlib.pyplot as plt\n",
    "%matplotlib inline"
   ]
  },
  {
   "cell_type": "code",
   "execution_count": 2,
   "metadata": {},
   "outputs": [
    {
     "name": "stdout",
     "output_type": "stream",
     "text": [
      "[1. 2. 2.]\n",
      "[1. 2. 2. 2.]\n"
     ]
    }
   ],
   "source": [
    "a = np.ones(3)\n",
    "b = np.array([2.,2.,2.])\n",
    "a[1:3] = b[0:2]\n",
    "print(a)\n",
    "c = np.insert(b,0,1)\n",
    "print(c)"
   ]
  },
  {
   "cell_type": "code",
   "execution_count": 3,
   "metadata": {},
   "outputs": [
    {
     "name": "stdout",
     "output_type": "stream",
     "text": [
      "\n",
      "\n",
      "Grafica generada con exito\n",
      "---------------------------------\n"
     ]
    },
    {
     "name": "stderr",
     "output_type": "stream",
     "text": [
      "C:\\Users\\Darío\\Anaconda3\\lib\\site-packages\\matplotlib\\contour.py:1230: UserWarning: No contour levels were found within the data range.\n",
      "  warnings.warn(\"No contour levels were found\"\n"
     ]
    },
    {
     "data": {
      "text/plain": [
       "[<matplotlib.lines.Line2D at 0x1bc3bbda470>]"
      ]
     },
     "execution_count": 3,
     "metadata": {},
     "output_type": "execute_result"
    },
    {
     "data": {
      "image/png": "[encoded data removed]",
      "text/plain": [
       "<Figure size 432x288 with 1 Axes>"
      ]
     },
     "metadata": {
      "needs_background": "light"
     },
     "output_type": "display_data"
    },
    {
     "data": {
      "image/png": "[encoded data removed]",
      "text/plain": [
       "<Figure size 432x288 with 1 Axes>"
      ]
     },
     "metadata": {
      "needs_background": "light"
     },
     "output_type": "display_data"
    }
   ],
   "source": [
    "print('\\n')\n",
    "# print(dataset_tictactoe.datos)\n",
    "# print('\\n\\n')\n",
    "# print(dataset_german.datos)\n",
    "\n",
    "\n",
    "d = Datos('ConjuntosDatos/example4.data')\n",
    "\n",
    "# print(\"\\n\\n SubMatriz: \\n\\n\")\n",
    "# print(d.extraeDatos([1,2,3,5,7,8]))\n",
    "e = ValidacionSimple()\n",
    "e.creaParticiones(d.datos)\n",
    "\n",
    "#d.calcularMediasDesv(d.extraeDatos(e.particiones[0].indicesTrain))\n",
    "#d.normalizarDatos()\n",
    "\n",
    "c = ClasificadorRegresionLogistica(20)\n",
    "c.entrenamiento(datostrain=d.extraeDatos(idx=e.particiones[0].indicesTrain))\n",
    "\n",
    "ii = e.particiones[0].indicesTrain\n",
    "\n",
    "plotModel(d.datos[ii,0],d.datos[ii,1],d.datos[ii,-1]!=0,c,\"Frontera\",d.diccionarios)\n",
    "print (\"Grafica generada con exito\")\n",
    "print (\"---------------------------------\")\n",
    "plt.figure()\n",
    "plt.plot(d.datos[d.datos[:,-1]==0,0],\n",
    " d.datos[d.datos[:,-1]==0,1],'bo')\n",
    "plt.plot(d.datos[d.datos[:,-1]==1,0],\n",
    " d.datos[d.datos[:,-1]==1,1],'ro')\n"
   ]
  },
  {
   "cell_type": "code",
   "execution_count": 4,
   "metadata": {},
   "outputs": [
    {
     "ename": "NameError",
     "evalue": "name 'estrategia' is not defined",
     "output_type": "error",
     "traceback": [
      "\u001b[1;31m---------------------------------------------------------------------------\u001b[0m",
      "\u001b[1;31mNameError\u001b[0m                                 Traceback (most recent call last)",
      "\u001b[1;32m<ipython-input-4-a6241bb75840>\u001b[0m in \u001b[0;36m<module>\u001b[1;34m()\u001b[0m\n\u001b[0;32m      1\u001b[0m \u001b[0me\u001b[0m\u001b[1;33m=\u001b[0m \u001b[0mValidacionSimple\u001b[0m\u001b[1;33m(\u001b[0m\u001b[1;33m)\u001b[0m\u001b[1;33m\u001b[0m\u001b[0m\n\u001b[1;32m----> 2\u001b[1;33m \u001b[0mii\u001b[0m \u001b[1;33m=\u001b[0m \u001b[0mestrategia\u001b[0m\u001b[1;33m.\u001b[0m\u001b[0mparticiones\u001b[0m\u001b[1;33m[\u001b[0m\u001b[1;33m-\u001b[0m\u001b[1;36m1\u001b[0m\u001b[1;33m]\u001b[0m\u001b[1;33m.\u001b[0m\u001b[0mindicesTrain\u001b[0m\u001b[1;33m\u001b[0m\u001b[0m\n\u001b[0m\u001b[0;32m      3\u001b[0m \u001b[1;33m\u001b[0m\u001b[0m\n\u001b[0;32m      4\u001b[0m \u001b[0mplotModel\u001b[0m\u001b[1;33m(\u001b[0m\u001b[0md\u001b[0m\u001b[1;33m.\u001b[0m\u001b[0mdatos\u001b[0m\u001b[1;33m[\u001b[0m\u001b[0mii\u001b[0m\u001b[1;33m,\u001b[0m\u001b[1;36m0\u001b[0m\u001b[1;33m]\u001b[0m\u001b[1;33m,\u001b[0m\u001b[0md\u001b[0m\u001b[1;33m.\u001b[0m\u001b[0mdatos\u001b[0m\u001b[1;33m[\u001b[0m\u001b[0mii\u001b[0m\u001b[1;33m,\u001b[0m\u001b[1;36m1\u001b[0m\u001b[1;33m]\u001b[0m\u001b[1;33m,\u001b[0m\u001b[0md\u001b[0m\u001b[1;33m.\u001b[0m\u001b[0mdatos\u001b[0m\u001b[1;33m[\u001b[0m\u001b[0mii\u001b[0m\u001b[1;33m,\u001b[0m\u001b[1;33m-\u001b[0m\u001b[1;36m1\u001b[0m\u001b[1;33m]\u001b[0m\u001b[1;33m!=\u001b[0m\u001b[1;36m0\u001b[0m\u001b[1;33m,\u001b[0m\u001b[0mc\u001b[0m\u001b[1;33m,\u001b[0m\u001b[1;34m\"Frontera\"\u001b[0m\u001b[1;33m,\u001b[0m\u001b[0md\u001b[0m\u001b[1;33m.\u001b[0m\u001b[0mdiccionarios\u001b[0m\u001b[1;33m)\u001b[0m\u001b[1;33m\u001b[0m\u001b[0m\n",
      "\u001b[1;31mNameError\u001b[0m: name 'estrategia' is not defined"
     ]
    }
   ],
   "source": [
    "e= ValidacionSimple()\n",
    "ii = e.particiones[-1].indicesTrain\n",
    "\n",
    "plotModel(d.datos[ii,0],d.datos[ii,1],d.datos[ii,-1]!=0,c,\"Frontera\",d.diccionarios) \n"
   ]
  },
  {
   "cell_type": "code",
   "execution_count": null,
   "metadata": {},
   "outputs": [],
   "source": [
    "#import matplotlib.pyplot as plt\n",
    "#%matplotlib inline\n",
    "import numpy as np\n",
    "from sklearn.linear_model import LogisticRegression\n",
    "import Datos\n",
    "\n",
    "from sklearn.model_selection import cross_val_score\n",
    "from Datos import Datos\n",
    "\n",
    "\n",
    "print (\"REGRESION LOGISTICA SCIKIT\")\n",
    "print (\"---------------------------------\")\n",
    "print (\"Procesando fichero: example1.data\")\n",
    "print (\"---------------------------------\")\n",
    "dataset = Datos(\"./ConjuntosDatos/example1.data\")\n",
    "\n",
    "X=dataset.datos[:,:-1]\n",
    "Y=dataset.datos[:,-1]\n",
    "\n",
    "\n",
    "\n",
    "logreg = LogisticRegression(C=1e5) # Creando el modelo\n",
    "\n",
    "logreg.fit(X, Y) #ajustando el modelo\n",
    "\n",
    "# we create an instance of Neighbours Classifier and fit the data.\n",
    "logreg.fit(X, Y)\n",
    "\n",
    "cvs =cross_val_score(logreg, X,Y, cv=10,n_jobs=-1)\n",
    "print (\"Media erronea del fichero: example3.data  :\",(1-np.mean((cvs))), \"con Desviacion Tipica (std) = \", (np.std((cvs))))\n",
    "print (\"---------------------------------\")\n",
    "\n",
    "\n",
    "# Plot the decision boundary. For that, we will assign a color to each\n",
    "# point in the mesh [x_min, x_max]x[y_min, y_max].\n",
    "x_min, x_max = X[:, 0].min() - .5, X[:, 0].max() + .5\n",
    "y_min, y_max = X[:, 1].min() - .5, X[:, 1].max() + .5\n",
    "xx, yy = np.meshgrid(np.arange(x_min, x_max, h), np.arange(y_min, y_max, h))\n",
    "Z = logreg.predict(np.c_[xx.ravel(), yy.ravel()])\n",
    "\n",
    "# Put the result into a color plot\n",
    "Z = Z.reshape(xx.shape)\n",
    "plt.figure(1, figsize=(4, 3))\n",
    "plt.pcolormesh(xx, yy, Z, cmap=plt.cm.Paired)\n",
    "\n",
    "# Plot also the training points\n",
    "plt.scatter(X[:, 0], X[:, 1], c=Y, edgecolors='k', cmap=plt.cm.Paired)\n",
    "plt.xlabel('x')\n",
    "plt.ylabel('y')\n",
    "plt.xlim(xx.min(), xx.max())\n",
    "plt.ylim(yy.min(), yy.max())\n",
    "plt.xticks(())\n",
    "plt.yticks(())\n",
    "plt.show()"
   ]
  },
  {
   "cell_type": "code",
   "execution_count": null,
   "metadata": {},
   "outputs": [],
   "source": [
    "#import matplotlib.pyplot as plt\n",
    "#%matplotlib inline\n",
    "import numpy as np\n",
    "from sklearn.linear_model import LogisticRegression\n",
    "import Datos\n",
    "\n",
    "from sklearn.model_selection import cross_val_score\n",
    "from Datos import Datos\n",
    "\n",
    "\n",
    "print (\"REGRESION LOGISTICA SCIKIT\")\n",
    "print (\"---------------------------------\")\n",
    "print (\"Procesando fichero: example1.data\")\n",
    "print (\"---------------------------------\")\n",
    "dataset = Datos(\"./ConjuntosDatos/example1.data\")\n",
    "\n",
    "X=dataset.datos[:,:-1]\n",
    "Y=dataset.datos[:,-1]\n",
    "\n",
    "\n",
    "\n",
    "logreg = LogisticRegression(C=1e5) # Creando el modelo\n",
    "\n",
    "logreg.fit(X, Y) #ajustando el modelo\n",
    "\n",
    "# we create an instance of Neighbours Classifier and fit the data.\n",
    "logreg.fit(X, Y)\n",
    "\n",
    "cvs =cross_val_score(logreg, X,Y, cv=10,n_jobs=-1)\n",
    "print (\"Media erronea del fichero: example3.data  :\",(1-np.mean((cvs))), \"con Desviacion Tipica (std) = \", (np.std((cvs))))\n",
    "print (\"---------------------------------\")\n",
    "\n",
    "\n",
    "# Plot the decision boundary. For that, we will assign a color to each\n",
    "# point in the mesh [x_min, x_max]x[y_min, y_max].\n",
    "x_min, x_max = X[:, 0].min() - .5, X[:, 0].max() + .5\n",
    "y_min, y_max = X[:, 1].min() - .5, X[:, 1].max() + .5\n",
    "xx, yy = np.meshgrid(np.arange(x_min, x_max, h), np.arange(y_min, y_max, h))\n",
    "Z = logreg.predict(np.c_[xx.ravel(), yy.ravel()])\n",
    "\n",
    "# Put the result into a color plot\n",
    "Z = Z.reshape(xx.shape)\n",
    "plt.figure(1, figsize=(4, 3))\n",
    "plt.pcolormesh(xx, yy, Z, cmap=plt.cm.Paired)\n",
    "\n",
    "# Plot also the training points\n",
    "plt.scatter(X[:, 0], X[:, 1], c=Y, edgecolors='k', cmap=plt.cm.Paired)\n",
    "plt.xlabel('x')\n",
    "plt.ylabel('y')\n",
    "plt.xlim(xx.min(), xx.max())\n",
    "plt.ylim(yy.min(), yy.max())\n",
    "plt.xticks(())\n",
    "plt.yticks(())\n",
    "plt.show()"
   ]
  }
 ],
 "metadata": {
  "kernelspec": {
   "display_name": "Python 3",
   "language": "python",
   "name": "python3"
  },
  "language_info": {
   "codemirror_mode": {
    "name": "ipython",
    "version": 3
   },
   "file_extension": ".py",
   "mimetype": "text/x-python",
   "name": "python",
   "nbconvert_exporter": "python",
   "pygments_lexer": "ipython3",
   "version": "3.7.0"
  }
 },
 "nbformat": 4,
 "nbformat_minor": 2
}
