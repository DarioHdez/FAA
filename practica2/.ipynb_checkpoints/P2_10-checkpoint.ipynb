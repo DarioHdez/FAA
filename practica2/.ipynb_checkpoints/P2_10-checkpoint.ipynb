{
 "cells": [
  {
   "cell_type": "code",
   "execution_count": 1,
   "metadata": {},
   "outputs": [],
   "source": [
    "from Datos import Datos\n",
    "from Clasificador import  ClasificadorVecinosProximos,ClasificadorRegresionLogistica,Clasificador\n",
    "from EstrategiaParticionado import EstrategiaParticionado,ValidacionCruzada,ValidacionSimple,ValidacionBootstrap\n",
    "import numpy as np\n",
    "from sklearn.linear_model import LogisticRegression\n",
    "from sklearn import preprocessing\n",
    "from sklearn.model_selection import cross_val_score\n",
    "from sklearn.neighbors import KNeighborsClassifier\n",
    "from sklearn.metrics import accuracy_score\n",
    "from scipy.special import expit\n",
    "from plotModel import plotModel\n",
    "import matplotlib.pyplot as plt\n",
    "from IPython.display import HTML, display\n",
    "%matplotlib inline"
   ]
  },
  {
   "cell_type": "markdown",
   "metadata": {},
   "source": [
    "# Apartado 1"
   ]
  },
  {
   "cell_type": "markdown",
   "metadata": {},
   "source": [
    "## Vecinos próximos"
   ]
  },
  {
   "cell_type": "markdown",
   "metadata": {},
   "source": [
    "Vamos a ejecutar primero las pruebas de Scikit, anotando los resultados para K = 1,3,5,11,21,51 "
   ]
  },
  {
   "cell_type": "code",
   "execution_count": 2,
   "metadata": {},
   "outputs": [
    {
     "name": "stdout",
     "output_type": "stream",
     "text": [
      "VECINOS PROXIMOS SCIKIT\n",
      "---------------------------------\n",
      "Procesando fichero: example1.data\n",
      "---------------------------------\n",
      "K =  1\n",
      "Media erronea del fichero: example1.data : 0.17000000000000015 con Desviacion Tipica (std) =  0.06204836822995429\n",
      "---------------------------------\n",
      "K =  3\n",
      "Media erronea del fichero: example1.data : 0.14249999999999985 con Desviacion Tipica (std) =  0.06427480066091222\n",
      "---------------------------------\n",
      "K =  5\n",
      "Media erronea del fichero: example1.data : 0.135 con Desviacion Tipica (std) =  0.05830951894845303\n",
      "---------------------------------\n",
      "K =  11\n",
      "Media erronea del fichero: example1.data : 0.13749999999999996 con Desviacion Tipica (std) =  0.05031152949374529\n",
      "---------------------------------\n",
      "K =  21\n",
      "Media erronea del fichero: example1.data : 0.14250000000000007 con Desviacion Tipica (std) =  0.07335700375560605\n",
      "---------------------------------\n",
      "K =  51\n",
      "Media erronea del fichero: example1.data : 0.125 con Desviacion Tipica (std) =  0.048733971724044825\n",
      "---------------------------------\n"
     ]
    }
   ],
   "source": [
    "print (\"VECINOS PROXIMOS SCIKIT\")\n",
    "print (\"---------------------------------\")\n",
    "print (\"Procesando fichero: example1.data\")\n",
    "print (\"---------------------------------\")\n",
    "dataset = Datos(\"./ConjuntosDatos/example1.data\")    \n",
    "X=dataset.datos[:,:-1]\n",
    "Y=dataset.datos[:,-1]\n",
    "for i in [1,3,5,11,21,51]:\n",
    "    print (\"K = \",  i)\n",
    "    resultado = KNeighborsClassifier(n_neighbors=i)\n",
    "    cvs = cross_val_score(resultado, X,Y, cv=10)\n",
    "    print (\"Media erronea del fichero: example1.data :\",(1-np.mean((cvs))), \"con Desviacion Tipica (std) = \", (np.std((cvs))))\n",
    "    print (\"---------------------------------\")"
   ]
  },
  {
   "cell_type": "code",
   "execution_count": 3,
   "metadata": {},
   "outputs": [
    {
     "name": "stdout",
     "output_type": "stream",
     "text": [
      "VECINOS PROXIMOS SCIKIT\n",
      "---------------------------------\n",
      "Procesando fichero: example2.data\n",
      "---------------------------------\n",
      "K =  1\n",
      "Media erronea del fichero: example2.data : 0.0 con Desviacion Tipica (std) =  0.0\n",
      "---------------------------------\n",
      "K =  3\n",
      "Media erronea del fichero: example2.data : 0.0 con Desviacion Tipica (std) =  0.0\n",
      "---------------------------------\n",
      "K =  5\n",
      "Media erronea del fichero: example2.data : 0.0 con Desviacion Tipica (std) =  0.0\n",
      "---------------------------------\n",
      "K =  11\n",
      "Media erronea del fichero: example2.data : 0.0 con Desviacion Tipica (std) =  0.0\n",
      "---------------------------------\n",
      "K =  21\n",
      "Media erronea del fichero: example2.data : 0.0 con Desviacion Tipica (std) =  0.0\n",
      "---------------------------------\n",
      "K =  51\n",
      "Media erronea del fichero: example2.data : 0.0 con Desviacion Tipica (std) =  0.0\n",
      "---------------------------------\n"
     ]
    }
   ],
   "source": [
    "print (\"VECINOS PROXIMOS SCIKIT\")\n",
    "print (\"---------------------------------\")\n",
    "print (\"Procesando fichero: example2.data\")\n",
    "print (\"---------------------------------\")\n",
    "dataset = Datos(\"./ConjuntosDatos/example2.data\")    \n",
    "X=dataset.datos[:,:-1]\n",
    "Y=dataset.datos[:,-1]\n",
    "for i in [1,3,5,11,21,51]:\n",
    "    print (\"K = \",  i)\n",
    "    resultado = KNeighborsClassifier(n_neighbors=i)\n",
    "    cvs = cross_val_score(resultado, X,Y, cv=10)\n",
    "    print (\"Media erronea del fichero: example2.data :\",(1-np.mean((cvs))), \"con Desviacion Tipica (std) = \", (np.std((cvs))))\n",
    "    print (\"---------------------------------\")"
   ]
  },
  {
   "cell_type": "code",
   "execution_count": 4,
   "metadata": {},
   "outputs": [
    {
     "name": "stdout",
     "output_type": "stream",
     "text": [
      "VECINOS PROXIMOS SCIKIT\n",
      "---------------------------------\n",
      "Procesando fichero: example3.data\n",
      "---------------------------------\n",
      "K =  1\n",
      "Media erronea del fichero: example3.data : 0.02750000000000019 con Desviacion Tipica (std) =  0.020766559657295205\n",
      "---------------------------------\n",
      "K =  3\n",
      "Media erronea del fichero: example3.data : 0.03749999999999987 con Desviacion Tipica (std) =  0.025617376914898987\n",
      "---------------------------------\n",
      "K =  5\n",
      "Media erronea del fichero: example3.data : 0.03249999999999997 con Desviacion Tipica (std) =  0.02749999999999999\n",
      "---------------------------------\n",
      "K =  11\n",
      "Media erronea del fichero: example3.data : 0.022499999999999964 con Desviacion Tipica (std) =  0.026100766272276376\n",
      "---------------------------------\n",
      "K =  21\n",
      "Media erronea del fichero: example3.data : 0.030000000000000027 con Desviacion Tipica (std) =  0.029154759474226494\n",
      "---------------------------------\n",
      "K =  51\n",
      "Media erronea del fichero: example3.data : 0.029999999999999916 con Desviacion Tipica (std) =  0.026925824035672508\n",
      "---------------------------------\n"
     ]
    }
   ],
   "source": [
    "print (\"VECINOS PROXIMOS SCIKIT\")\n",
    "print (\"---------------------------------\")\n",
    "print (\"Procesando fichero: example3.data\")\n",
    "print (\"---------------------------------\")\n",
    "dataset = Datos(\"./ConjuntosDatos/example3.data\")    \n",
    "X=dataset.datos[:,:-1]\n",
    "Y=dataset.datos[:,-1]\n",
    "for i in [1,3,5,11,21,51]:\n",
    "    print (\"K = \",  i)\n",
    "    resultado = KNeighborsClassifier(n_neighbors=i)\n",
    "    cvs = cross_val_score(resultado, X,Y, cv=10)\n",
    "    print (\"Media erronea del fichero: example3.data :\",(1-np.mean((cvs))), \"con Desviacion Tipica (std) = \", (np.std((cvs))))\n",
    "    print (\"---------------------------------\")"
   ]
  },
  {
   "cell_type": "code",
   "execution_count": 5,
   "metadata": {},
   "outputs": [
    {
     "name": "stdout",
     "output_type": "stream",
     "text": [
      "VECINOS PROXIMOS SCIKIT\n",
      "---------------------------------\n",
      "Procesando fichero: example4.data\n",
      "---------------------------------\n",
      "K =  1\n",
      "Media erronea del fichero: example4.data : 0.030000000000000027 con Desviacion Tipica (std) =  0.045825756949558386\n",
      "---------------------------------\n",
      "K =  3\n",
      "Media erronea del fichero: example4.data : 0.09000000000000008 con Desviacion Tipica (std) =  0.09433981132056604\n",
      "---------------------------------\n",
      "K =  5\n",
      "Media erronea del fichero: example4.data : 0.10999999999999999 con Desviacion Tipica (std) =  0.1044030650891055\n",
      "---------------------------------\n",
      "K =  11\n",
      "Media erronea del fichero: example4.data : 0.19999999999999996 con Desviacion Tipica (std) =  0.07745966692414837\n",
      "---------------------------------\n",
      "K =  21\n",
      "Media erronea del fichero: example4.data : 0.3400000000000001 con Desviacion Tipica (std) =  0.12000000000000001\n",
      "---------------------------------\n",
      "K =  51\n",
      "Media erronea del fichero: example4.data : 0.5200000000000001 con Desviacion Tipica (std) =  0.18867962264113208\n",
      "---------------------------------\n"
     ]
    }
   ],
   "source": [
    "print (\"VECINOS PROXIMOS SCIKIT\")\n",
    "print (\"---------------------------------\")\n",
    "print (\"Procesando fichero: example4.data\")\n",
    "print (\"---------------------------------\")\n",
    "dataset = Datos(\"./ConjuntosDatos/example4.data\")    \n",
    "X=dataset.datos[:,:-1]\n",
    "Y=dataset.datos[:,-1]\n",
    "for i in [1,3,5,11,21,51]:\n",
    "    print (\"K = \",  i)\n",
    "    resultado = KNeighborsClassifier(n_neighbors=i)\n",
    "    cvs = cross_val_score(resultado, X,Y, cv=10)\n",
    "    print (\"Media erronea del fichero: example4.data :\",(1-np.mean((cvs))), \"con Desviacion Tipica (std) = \", (np.std((cvs))))\n",
    "    print (\"---------------------------------\")"
   ]
  },
  {
   "cell_type": "markdown",
   "metadata": {},
   "source": [
    "Vamos a ejecutar todos los conjuntos de datos, primero sin normalizar y luego normalizando los datos"
   ]
  },
  {
   "cell_type": "markdown",
   "metadata": {},
   "source": [
    "### Example 4"
   ]
  },
  {
   "cell_type": "code",
   "execution_count": null,
   "metadata": {},
   "outputs": [],
   "source": []
  },
  {
   "cell_type": "code",
   "execution_count": null,
   "metadata": {},
   "outputs": [],
   "source": []
  },
  {
   "cell_type": "code",
   "execution_count": null,
   "metadata": {},
   "outputs": [],
   "source": []
  },
  {
   "cell_type": "code",
   "execution_count": null,
   "metadata": {},
   "outputs": [],
   "source": []
  },
  {
   "cell_type": "code",
   "execution_count": null,
   "metadata": {},
   "outputs": [],
   "source": []
  },
  {
   "cell_type": "code",
   "execution_count": null,
   "metadata": {},
   "outputs": [],
   "source": []
  },
  {
   "cell_type": "markdown",
   "metadata": {},
   "source": [
    "### Example 1"
   ]
  },
  {
   "cell_type": "code",
   "execution_count": 6,
   "metadata": {
    "scrolled": true
   },
   "outputs": [
    {
     "name": "stdout",
     "output_type": "stream",
     "text": [
      "Procesando fichero: example1.data\n",
      "---------------------------------\n",
      "Media del fichero: example1.data\n",
      "0.5175000000000001\n",
      "---------------------------------\n",
      "Desviacion tipica del fichero: example1.data\n",
      "0.07504165509901818\n",
      "---------------------------------\n",
      "Media del fichero: example1.data con datos normalizados\n",
      "0.5050000000000001\n",
      "---------------------------------\n",
      "Desviacion tipica del fichero: example1.data con datos normalizados\n",
      "0.08860022573334675\n",
      "---------------------------------\n",
      "\n",
      "Generando grafica del fichero: example1.data\n",
      "Grafica generada con exito\n",
      "---------------------------------\n"
     ]
    }
   ],
   "source": [
    "d = Datos('ConjuntosDatos/example1.data')\n",
    "e = ValidacionCruzada()\n",
    "\n",
    "k = 1\n",
    "\n",
    "c = ClasificadorVecinosProximos(k)\n",
    "errores = c.validacion(particionado=e,dataset=d,clasificador=c)\n",
    "\n",
    "d.calcularMediasDesv(d.extraeDatos(e.particiones[0].indicesTrain))\n",
    "d.normalizarDatos()\n",
    "\n",
    "c = ClasificadorVecinosProximos(k)\n",
    "errores_norm = c.validacion(particionado=e,dataset=d,clasificador=c)\n",
    "\n",
    "print (\"Procesando fichero: example1.data\")\n",
    "print (\"---------------------------------\")\n",
    "print (\"Media del fichero: example1.data\")\n",
    "print (np.mean(errores))\n",
    "print (\"---------------------------------\")\n",
    "print (\"Desviacion tipica del fichero: example1.data\")\n",
    "print (np.std(errores))\n",
    "print (\"---------------------------------\")\n",
    "print (\"Media del fichero: example1.data con datos normalizados\")\n",
    "print (np.mean(errores_norm))\n",
    "print (\"---------------------------------\")\n",
    "print (\"Desviacion tipica del fichero: example1.data con datos normalizados\")\n",
    "print (np.std(errores_norm))\n",
    "print (\"---------------------------------\")\n",
    "print (\"\\nGenerando grafica del fichero: example1.data\")\n",
    "\n",
    "ii = e.particiones[-1].indicesTrain\n",
    "# plotModel(d.datos[ii,0],d.datos[ii,1],d.datos[ii,-1]!=0,c,\"Frontera\",d.diccionarios)\n",
    "print (\"Grafica generada con exito\")\n",
    "print (\"---------------------------------\")\n"
   ]
  },
  {
   "cell_type": "code",
   "execution_count": 7,
   "metadata": {},
   "outputs": [
    {
     "name": "stdout",
     "output_type": "stream",
     "text": [
      "Procesando fichero: example1.data\n",
      "---------------------------------\n",
      "Media del fichero: example1.data\n",
      "0.5075000000000001\n",
      "---------------------------------\n",
      "Desviacion tipica del fichero: example1.data\n",
      "0.082196411113868\n",
      "---------------------------------\n",
      "Media del fichero: example1.data con datos normalizados\n",
      "0.5075\n",
      "---------------------------------\n",
      "Desviacion tipica del fichero: example1.data con datos normalizados\n",
      "\n",
      "Generando grafica del fichero: example1.data\n",
      "Grafica generada con exito\n",
      "---------------------------------\n"
     ]
    }
   ],
   "source": [
    "d = Datos('ConjuntosDatos/example1.data')\n",
    "e = ValidacionCruzada()\n",
    "k = 3\n",
    "\n",
    "c = ClasificadorVecinosProximos(k)\n",
    "errores = c.validacion(particionado=e,dataset=d,clasificador=c)\n",
    "\n",
    "d.calcularMediasDesv(d.extraeDatos(e.particiones[0].indicesTrain))\n",
    "d.normalizarDatos()\n",
    "\n",
    "c = ClasificadorVecinosProximos(k)\n",
    "errores_norm = c.validacion(particionado=e,dataset=d,clasificador=c)\n",
    "\n",
    "print (\"Procesando fichero: example1.data\")\n",
    "print (\"---------------------------------\")\n",
    "print (\"Media del fichero: example1.data\")\n",
    "print (np.average(errores))\n",
    "print (\"---------------------------------\")\n",
    "print (\"Desviacion tipica del fichero: example1.data\")\n",
    "print (np.std(errores))\n",
    "print (\"---------------------------------\")\n",
    "print (\"Media del fichero: example1.data con datos normalizados\")\n",
    "print (np.mean(errores_norm))\n",
    "print (\"---------------------------------\")\n",
    "print (\"Desviacion tipica del fichero: example1.data con datos normalizados\")\n",
    "print (\"\\nGenerando grafica del fichero: example1.data\")\n",
    "\n",
    "ii = e.particiones[-1].indicesTrain\n",
    "# plotModel(d.datos[ii,0],d.datos[ii,1],d.datos[ii,-1]!=0,c,\"Frontera\",d.diccionarios)\n",
    "print (\"Grafica generada con exito\")\n",
    "print (\"---------------------------------\")"
   ]
  },
  {
   "cell_type": "code",
   "execution_count": 8,
   "metadata": {},
   "outputs": [
    {
     "name": "stdout",
     "output_type": "stream",
     "text": [
      "Procesando fichero: example1.data\n",
      "---------------------------------\n",
      "Media del fichero: example1.data\n",
      "0.515\n",
      "---------------------------------\n",
      "Desviacion tipica del fichero: example1.data\n",
      "0.07262919523166977\n",
      "---------------------------------\n",
      "Media del fichero: example1.data con datos normalizados\n",
      "0.5125\n",
      "---------------------------------\n",
      "Desviacion tipica del fichero: example1.data con datos normalizados\n",
      "\n",
      "Generando grafica del fichero: example1.data\n",
      "Grafica generada con exito\n",
      "---------------------------------\n"
     ]
    }
   ],
   "source": [
    "d = Datos('ConjuntosDatos/example1.data')\n",
    "e = ValidacionCruzada()\n",
    "k = 5\n",
    "\n",
    "c = ClasificadorVecinosProximos(k)\n",
    "errores = c.validacion(particionado=e,dataset=d,clasificador=c)\n",
    "\n",
    "d.calcularMediasDesv(d.extraeDatos(e.particiones[0].indicesTrain))\n",
    "d.normalizarDatos()\n",
    "\n",
    "c = ClasificadorVecinosProximos(k)\n",
    "errores_norm = c.validacion(particionado=e,dataset=d,clasificador=c)\n",
    "\n",
    "print (\"Procesando fichero: example1.data\")\n",
    "print (\"---------------------------------\")\n",
    "print (\"Media del fichero: example1.data\")\n",
    "print (np.average(errores))\n",
    "print (\"---------------------------------\")\n",
    "print (\"Desviacion tipica del fichero: example1.data\")\n",
    "print (np.std(errores))\n",
    "print (\"---------------------------------\")\n",
    "print (\"Media del fichero: example1.data con datos normalizados\")\n",
    "print (np.mean(errores_norm))\n",
    "print (\"---------------------------------\")\n",
    "print (\"Desviacion tipica del fichero: example1.data con datos normalizados\")\n",
    "print (\"\\nGenerando grafica del fichero: example1.data\")\n",
    "\n",
    "ii = e.particiones[-1].indicesTrain\n",
    "# plotModel(d.datos[ii,0],d.datos[ii,1],d.datos[ii,-1]!=0,c,\"Frontera\",d.diccionarios)\n",
    "print (\"Grafica generada con exito\")\n",
    "print (\"---------------------------------\")"
   ]
  },
  {
   "cell_type": "code",
   "execution_count": 9,
   "metadata": {},
   "outputs": [
    {
     "name": "stdout",
     "output_type": "stream",
     "text": [
      "Procesando fichero: example1.data\n",
      "---------------------------------\n",
      "Media del fichero: example1.data\n",
      "0.5175000000000001\n",
      "---------------------------------\n",
      "Desviacion tipica del fichero: example1.data\n",
      "0.05482928049865325\n",
      "---------------------------------\n",
      "Media del fichero: example1.data con datos normalizados\n",
      "0.5225\n",
      "---------------------------------\n",
      "Desviacion tipica del fichero: example1.data con datos normalizados\n",
      "\n",
      "Generando grafica del fichero: example1.data\n",
      "Grafica generada con exito\n",
      "---------------------------------\n"
     ]
    }
   ],
   "source": [
    "d = Datos('ConjuntosDatos/example1.data')\n",
    "e = ValidacionCruzada()\n",
    "k = 11\n",
    "\n",
    "c = ClasificadorVecinosProximos(k)\n",
    "errores = c.validacion(particionado=e,dataset=d,clasificador=c)\n",
    "\n",
    "d.calcularMediasDesv(d.extraeDatos(e.particiones[0].indicesTrain))\n",
    "d.normalizarDatos()\n",
    "\n",
    "c = ClasificadorVecinosProximos(k)\n",
    "errores_norm = c.validacion(particionado=e,dataset=d,clasificador=c)\n",
    "\n",
    "print (\"Procesando fichero: example1.data\")\n",
    "print (\"---------------------------------\")\n",
    "print (\"Media del fichero: example1.data\")\n",
    "print (np.average(errores))\n",
    "print (\"---------------------------------\")\n",
    "print (\"Desviacion tipica del fichero: example1.data\")\n",
    "print (np.std(errores))\n",
    "print (\"---------------------------------\")\n",
    "print (\"Media del fichero: example1.data con datos normalizados\")\n",
    "print (np.mean(errores_norm))\n",
    "print (\"---------------------------------\")\n",
    "print (\"Desviacion tipica del fichero: example1.data con datos normalizados\")\n",
    "print (\"\\nGenerando grafica del fichero: example1.data\")\n",
    "\n",
    "ii = e.particiones[-1].indicesTrain\n",
    "# plotModel(d.datos[ii,0],d.datos[ii,1],d.datos[ii,-1]!=0,c,\"Frontera\",d.diccionarios)\n",
    "print (\"Grafica generada con exito\")\n",
    "print (\"---------------------------------\")"
   ]
  },
  {
   "cell_type": "code",
   "execution_count": 10,
   "metadata": {},
   "outputs": [
    {
     "name": "stdout",
     "output_type": "stream",
     "text": [
      "Procesando fichero: example1.data\n",
      "---------------------------------\n",
      "Media del fichero: example1.data\n",
      "0.5225\n",
      "---------------------------------\n",
      "Desviacion tipica del fichero: example1.data\n",
      "0.05749999999999998\n",
      "---------------------------------\n",
      "Media del fichero: example1.data con datos normalizados\n",
      "0.5225000000000001\n",
      "---------------------------------\n",
      "Desviacion tipica del fichero: example1.data con datos normalizados\n",
      "\n",
      "Generando grafica del fichero: example1.data\n",
      "Grafica generada con exito\n",
      "---------------------------------\n"
     ]
    }
   ],
   "source": [
    "d = Datos('ConjuntosDatos/example1.data')\n",
    "e = ValidacionCruzada()\n",
    "k = 21\n",
    "\n",
    "c = ClasificadorVecinosProximos(k)\n",
    "errores = c.validacion(particionado=e,dataset=d,clasificador=c)\n",
    "\n",
    "d.calcularMediasDesv(d.extraeDatos(e.particiones[0].indicesTrain))\n",
    "d.normalizarDatos()\n",
    "\n",
    "c = ClasificadorVecinosProximos(k)\n",
    "errores_norm = c.validacion(particionado=e,dataset=d,clasificador=c)\n",
    "\n",
    "print (\"Procesando fichero: example1.data\")\n",
    "print (\"---------------------------------\")\n",
    "print (\"Media del fichero: example1.data\")\n",
    "print (np.average(errores))\n",
    "print (\"---------------------------------\")\n",
    "print (\"Desviacion tipica del fichero: example1.data\")\n",
    "print (np.std(errores))\n",
    "print (\"---------------------------------\")\n",
    "print (\"Media del fichero: example1.data con datos normalizados\")\n",
    "print (np.mean(errores_norm))\n",
    "print (\"---------------------------------\")\n",
    "print (\"Desviacion tipica del fichero: example1.data con datos normalizados\")\n",
    "print (\"\\nGenerando grafica del fichero: example1.data\")\n",
    "\n",
    "ii = e.particiones[-1].indicesTrain\n",
    "# plotModel(d.datos[ii,0],d.datos[ii,1],d.datos[ii,-1]!=0,c,\"Frontera\",d.diccionarios)\n",
    "print (\"Grafica generada con exito\")\n",
    "print (\"---------------------------------\")"
   ]
  },
  {
   "cell_type": "code",
   "execution_count": 11,
   "metadata": {},
   "outputs": [
    {
     "name": "stdout",
     "output_type": "stream",
     "text": [
      "Procesando fichero: example1.data\n",
      "---------------------------------\n",
      "Media del fichero: example1.data\n",
      "0.5225\n",
      "---------------------------------\n",
      "Desviacion tipica del fichero: example1.data\n",
      "0.08325412902673354\n",
      "---------------------------------\n",
      "Media del fichero: example1.data con datos normalizados\n",
      "0.5175000000000002\n",
      "---------------------------------\n",
      "Desviacion tipica del fichero: example1.data con datos normalizados\n",
      "\n",
      "Generando grafica del fichero: example1.data\n",
      "Grafica generada con exito\n",
      "---------------------------------\n"
     ]
    }
   ],
   "source": [
    "d = Datos('ConjuntosDatos/example1.data')\n",
    "e = ValidacionCruzada()\n",
    "k = 51\n",
    "\n",
    "c = ClasificadorVecinosProximos(k)\n",
    "errores = c.validacion(particionado=e,dataset=d,clasificador=c)\n",
    "\n",
    "d.calcularMediasDesv(d.extraeDatos(e.particiones[0].indicesTrain))\n",
    "d.normalizarDatos()\n",
    "\n",
    "c = ClasificadorVecinosProximos(k)\n",
    "errores_norm = c.validacion(particionado=e,dataset=d,clasificador=c)\n",
    "\n",
    "print (\"Procesando fichero: example1.data\")\n",
    "print (\"---------------------------------\")\n",
    "print (\"Media del fichero: example1.data\")\n",
    "print (np.average(errores))\n",
    "print (\"---------------------------------\")\n",
    "print (\"Desviacion tipica del fichero: example1.data\")\n",
    "print (np.std(errores))\n",
    "print (\"---------------------------------\")\n",
    "print (\"Media del fichero: example1.data con datos normalizados\")\n",
    "print (np.mean(errores_norm))\n",
    "print (\"---------------------------------\")\n",
    "print (\"Desviacion tipica del fichero: example1.data con datos normalizados\")\n",
    "print (\"\\nGenerando grafica del fichero: example1.data\")\n",
    "\n",
    "ii = e.particiones[-1].indicesTrain\n",
    "# plotModel(d.datos[ii,0],d.datos[ii,1],d.datos[ii,-1]!=0,c,\"Frontera\",d.diccionarios)\n",
    "print (\"Grafica generada con exito\")\n",
    "print (\"---------------------------------\")"
   ]
  },
  {
   "cell_type": "markdown",
   "metadata": {},
   "source": [
    "### Example 2"
   ]
  },
  {
   "cell_type": "code",
   "execution_count": 12,
   "metadata": {},
   "outputs": [
    {
     "name": "stdout",
     "output_type": "stream",
     "text": [
      "Procesando fichero: example2.data\n",
      "---------------------------------\n",
      "Media del fichero: example2.data\n",
      "0.515\n",
      "---------------------------------\n",
      "Desviacion tipica del fichero: example2.data\n",
      "0.07262919523166976\n",
      "---------------------------------\n",
      "\n",
      "Generando grafica del fichero: example2.data\n",
      "Grafica generada con exito\n",
      "---------------------------------\n"
     ]
    }
   ],
   "source": [
    "d = Datos('ConjuntosDatos/example2.data')\n",
    "\n",
    "e = ValidacionCruzada()\n",
    "e.creaParticiones(d.datos)\n",
    "\n",
    "d.calcularMediasDesv(d.extraeDatos(e.particiones[0].indicesTrain))\n",
    "d.normalizarDatos()\n",
    "\n",
    "c = ClasificadorVecinosProximos(1)\n",
    "errores = c.validacion(particionado=e,dataset=d,clasificador=c)\n",
    "\n",
    "print (\"Procesando fichero: example2.data\")\n",
    "print (\"---------------------------------\")\n",
    "print (\"Media del fichero: example2.data\")\n",
    "print (np.average(errores))\n",
    "print (\"---------------------------------\")\n",
    "print (\"Desviacion tipica del fichero: example2.data\")\n",
    "print (np.std(errores))\n",
    "print (\"---------------------------------\")\n",
    "print (\"\\nGenerando grafica del fichero: example2.data\")\n",
    "\n",
    "ii = e.particiones[-1].indicesTrain\n",
    "# plotModel(d.datos[ii,0],d.datos[ii,1],d.datos[ii,-1]!=0,c,\"Frontera\",d.diccionarios)\n",
    "print (\"Grafica generada con exito\")\n",
    "print (\"---------------------------------\")"
   ]
  },
  {
   "cell_type": "code",
   "execution_count": 13,
   "metadata": {},
   "outputs": [
    {
     "name": "stdout",
     "output_type": "stream",
     "text": [
      "Procesando fichero: example2.data\n",
      "---------------------------------\n",
      "Media del fichero: example2.data\n",
      "0.515\n",
      "---------------------------------\n",
      "Desviacion tipica del fichero: example2.data\n",
      "0.07262919523166976\n",
      "---------------------------------\n",
      "\n",
      "Generando grafica del fichero: example2.data\n",
      "Grafica generada con exito\n",
      "---------------------------------\n"
     ]
    }
   ],
   "source": [
    "d = Datos('ConjuntosDatos/example2.data')\n",
    "\n",
    "e = ValidacionCruzada()\n",
    "e.creaParticiones(d.datos)\n",
    "\n",
    "d.calcularMediasDesv(d.extraeDatos(e.particiones[0].indicesTrain))\n",
    "d.normalizarDatos()\n",
    "\n",
    "c = ClasificadorVecinosProximos(3)\n",
    "errores = c.validacion(particionado=e,dataset=d,clasificador=c)\n",
    "\n",
    "print (\"Procesando fichero: example2.data\")\n",
    "print (\"---------------------------------\")\n",
    "print (\"Media del fichero: example2.data\")\n",
    "print (np.average(errores))\n",
    "print (\"---------------------------------\")\n",
    "print (\"Desviacion tipica del fichero: example2.data\")\n",
    "print (np.std(errores))\n",
    "print (\"---------------------------------\")\n",
    "print (\"\\nGenerando grafica del fichero: example2.data\")\n",
    "\n",
    "ii = e.particiones[-1].indicesTrain\n",
    "# plotModel(d.datos[ii,0],d.datos[ii,1],d.datos[ii,-1]!=0,c,\"Frontera\",d.diccionarios)\n",
    "print (\"Grafica generada con exito\")\n",
    "print (\"---------------------------------\")"
   ]
  },
  {
   "cell_type": "code",
   "execution_count": 14,
   "metadata": {},
   "outputs": [
    {
     "name": "stdout",
     "output_type": "stream",
     "text": [
      "Procesando fichero: example2.data\n",
      "---------------------------------\n",
      "Media del fichero: example2.data\n",
      "0.515\n",
      "---------------------------------\n",
      "Desviacion tipica del fichero: example2.data\n",
      "0.07262919523166976\n",
      "---------------------------------\n",
      "\n",
      "Generando grafica del fichero: example2.data\n",
      "Grafica generada con exito\n",
      "---------------------------------\n"
     ]
    }
   ],
   "source": [
    "d = Datos('ConjuntosDatos/example2.data')\n",
    "\n",
    "e = ValidacionCruzada()\n",
    "e.creaParticiones(d.datos)\n",
    "\n",
    "d.calcularMediasDesv(d.extraeDatos(e.particiones[0].indicesTrain))\n",
    "d.normalizarDatos()\n",
    "\n",
    "c = ClasificadorVecinosProximos(5)\n",
    "errores = c.validacion(particionado=e,dataset=d,clasificador=c)\n",
    "\n",
    "print (\"Procesando fichero: example2.data\")\n",
    "print (\"---------------------------------\")\n",
    "print (\"Media del fichero: example2.data\")\n",
    "print (np.average(errores))\n",
    "print (\"---------------------------------\")\n",
    "print (\"Desviacion tipica del fichero: example2.data\")\n",
    "print (np.std(errores))\n",
    "print (\"---------------------------------\")\n",
    "print (\"\\nGenerando grafica del fichero: example2.data\")\n",
    "\n",
    "ii = e.particiones[-1].indicesTrain\n",
    "# plotModel(d.datos[ii,0],d.datos[ii,1],d.datos[ii,-1]!=0,c,\"Frontera\",d.diccionarios)\n",
    "print (\"Grafica generada con exito\")\n",
    "print (\"---------------------------------\")"
   ]
  },
  {
   "cell_type": "code",
   "execution_count": 15,
   "metadata": {},
   "outputs": [
    {
     "name": "stdout",
     "output_type": "stream",
     "text": [
      "Procesando fichero: example2.data\n",
      "---------------------------------\n",
      "Media del fichero: example2.data\n",
      "0.515\n",
      "---------------------------------\n",
      "Desviacion tipica del fichero: example2.data\n",
      "0.07262919523166976\n",
      "---------------------------------\n",
      "\n",
      "Generando grafica del fichero: example2.data\n",
      "Grafica generada con exito\n",
      "---------------------------------\n"
     ]
    }
   ],
   "source": [
    "d = Datos('ConjuntosDatos/example2.data')\n",
    "\n",
    "e = ValidacionCruzada()\n",
    "e.creaParticiones(d.datos)\n",
    "\n",
    "d.calcularMediasDesv(d.extraeDatos(e.particiones[0].indicesTrain))\n",
    "d.normalizarDatos()\n",
    "\n",
    "c = ClasificadorVecinosProximos(11)\n",
    "errores = c.validacion(particionado=e,dataset=d,clasificador=c)\n",
    "\n",
    "print (\"Procesando fichero: example2.data\")\n",
    "print (\"---------------------------------\")\n",
    "print (\"Media del fichero: example2.data\")\n",
    "print (np.average(errores))\n",
    "print (\"---------------------------------\")\n",
    "print (\"Desviacion tipica del fichero: example2.data\")\n",
    "print (np.std(errores))\n",
    "print (\"---------------------------------\")\n",
    "print (\"\\nGenerando grafica del fichero: example2.data\")\n",
    "\n",
    "ii = e.particiones[-1].indicesTrain\n",
    "# plotModel(d.datos[ii,0],d.datos[ii,1],d.datos[ii,-1]!=0,c,\"Frontera\",d.diccionarios)\n",
    "print (\"Grafica generada con exito\")\n",
    "print (\"---------------------------------\")"
   ]
  },
  {
   "cell_type": "code",
   "execution_count": 16,
   "metadata": {},
   "outputs": [
    {
     "name": "stdout",
     "output_type": "stream",
     "text": [
      "Procesando fichero: example2.data\n",
      "---------------------------------\n",
      "Media del fichero: example2.data\n",
      "0.515\n",
      "---------------------------------\n",
      "Desviacion tipica del fichero: example2.data\n",
      "0.07262919523166976\n",
      "---------------------------------\n",
      "\n",
      "Generando grafica del fichero: example2.data\n",
      "Grafica generada con exito\n",
      "---------------------------------\n"
     ]
    }
   ],
   "source": [
    "d = Datos('ConjuntosDatos/example2.data')\n",
    "\n",
    "e = ValidacionCruzada()\n",
    "e.creaParticiones(d.datos)\n",
    "\n",
    "d.calcularMediasDesv(d.extraeDatos(e.particiones[0].indicesTrain))\n",
    "d.normalizarDatos()\n",
    "\n",
    "c = ClasificadorVecinosProximos(21)\n",
    "errores = c.validacion(particionado=e,dataset=d,clasificador=c)\n",
    "\n",
    "print (\"Procesando fichero: example2.data\")\n",
    "print (\"---------------------------------\")\n",
    "print (\"Media del fichero: example2.data\")\n",
    "print (np.average(errores))\n",
    "print (\"---------------------------------\")\n",
    "print (\"Desviacion tipica del fichero: example2.data\")\n",
    "print (np.std(errores))\n",
    "print (\"---------------------------------\")\n",
    "print (\"\\nGenerando grafica del fichero: example2.data\")\n",
    "\n",
    "ii = e.particiones[-1].indicesTrain\n",
    "# plotModel(d.datos[ii,0],d.datos[ii,1],d.datos[ii,-1]!=0,c,\"Frontera\",d.diccionarios)\n",
    "print (\"Grafica generada con exito\")\n",
    "print (\"---------------------------------\")"
   ]
  },
  {
   "cell_type": "code",
   "execution_count": 17,
   "metadata": {},
   "outputs": [
    {
     "name": "stdout",
     "output_type": "stream",
     "text": [
      "Procesando fichero: example2.data\n",
      "---------------------------------\n",
      "Media del fichero: example2.data\n",
      "0.515\n",
      "---------------------------------\n",
      "Desviacion tipica del fichero: example2.data\n",
      "0.07262919523166976\n",
      "---------------------------------\n",
      "\n",
      "Generando grafica del fichero: example2.data\n",
      "Grafica generada con exito\n",
      "---------------------------------\n"
     ]
    }
   ],
   "source": [
    "d = Datos('ConjuntosDatos/example2.data')\n",
    "\n",
    "e = ValidacionCruzada()\n",
    "e.creaParticiones(d.datos)\n",
    "\n",
    "d.calcularMediasDesv(d.extraeDatos(e.particiones[0].indicesTrain))\n",
    "d.normalizarDatos()\n",
    "\n",
    "c = ClasificadorVecinosProximos(51)\n",
    "errores = c.validacion(particionado=e,dataset=d,clasificador=c)\n",
    "\n",
    "print (\"Procesando fichero: example2.data\")\n",
    "print (\"---------------------------------\")\n",
    "print (\"Media del fichero: example2.data\")\n",
    "print (np.average(errores))\n",
    "print (\"---------------------------------\")\n",
    "print (\"Desviacion tipica del fichero: example2.data\")\n",
    "print (np.std(errores))\n",
    "print (\"---------------------------------\")\n",
    "print (\"\\nGenerando grafica del fichero: example2.data\")\n",
    "\n",
    "ii = e.particiones[-1].indicesTrain\n",
    "# plotModel(d.datos[ii,0],d.datos[ii,1],d.datos[ii,-1]!=0,c,\"Frontera\",d.diccionarios)\n",
    "print (\"Grafica generada con exito\")\n",
    "print (\"---------------------------------\")"
   ]
  },
  {
   "cell_type": "markdown",
   "metadata": {},
   "source": [
    "### Example 3"
   ]
  },
  {
   "cell_type": "code",
   "execution_count": 18,
   "metadata": {},
   "outputs": [
    {
     "name": "stdout",
     "output_type": "stream",
     "text": [
      "Procesando fichero: example3.data\n",
      "---------------------------------\n",
      "Media del fichero: example3.data\n",
      "0.48\n",
      "---------------------------------\n",
      "Desviacion tipica del fichero: example3.data\n",
      "0.06873863542433759\n",
      "---------------------------------\n",
      "\n",
      "Generando grafica del fichero: example3.data\n",
      "Grafica generada con exito\n",
      "---------------------------------\n"
     ]
    }
   ],
   "source": [
    "d = Datos('ConjuntosDatos/example3.data')\n",
    "\n",
    "e = ValidacionCruzada()\n",
    "e.creaParticiones(d.datos)\n",
    "\n",
    "d.calcularMediasDesv(d.extraeDatos(e.particiones[0].indicesTrain))\n",
    "d.normalizarDatos()\n",
    "\n",
    "c = ClasificadorVecinosProximos(1)\n",
    "errores = c.validacion(particionado=e,dataset=d,clasificador=c)\n",
    "\n",
    "print (\"Procesando fichero: example3.data\")\n",
    "print (\"---------------------------------\")\n",
    "print (\"Media del fichero: example3.data\")\n",
    "print (np.average(errores))\n",
    "print (\"---------------------------------\")\n",
    "print (\"Desviacion tipica del fichero: example3.data\")\n",
    "print (np.std(errores))\n",
    "print (\"---------------------------------\")\n",
    "print (\"\\nGenerando grafica del fichero: example3.data\")\n",
    "\n",
    "ii = e.particiones[-1].indicesTrain\n",
    "# plotModel(d.datos[ii,0],d.datos[ii,1],d.datos[ii,-1]!=0,c,\"Frontera\",d.diccionarios)\n",
    "print (\"Grafica generada con exito\")\n",
    "print (\"---------------------------------\")"
   ]
  },
  {
   "cell_type": "code",
   "execution_count": 19,
   "metadata": {},
   "outputs": [
    {
     "name": "stdout",
     "output_type": "stream",
     "text": [
      "Procesando fichero: example3.data\n",
      "---------------------------------\n",
      "Media del fichero: example3.data\n",
      "0.4725\n",
      "---------------------------------\n",
      "Desviacion tipica del fichero: example3.data\n",
      "0.0897566153550812\n",
      "---------------------------------\n",
      "\n",
      "Generando grafica del fichero: example3.data\n",
      "Grafica generada con exito\n",
      "---------------------------------\n"
     ]
    }
   ],
   "source": [
    "d = Datos('ConjuntosDatos/example3.data')\n",
    "\n",
    "e = ValidacionCruzada()\n",
    "e.creaParticiones(d.datos)\n",
    "\n",
    "d.calcularMediasDesv(d.extraeDatos(e.particiones[0].indicesTrain))\n",
    "d.normalizarDatos()\n",
    "\n",
    "c = ClasificadorVecinosProximos(3)\n",
    "errores = c.validacion(particionado=e,dataset=d,clasificador=c)\n",
    "\n",
    "print (\"Procesando fichero: example3.data\")\n",
    "print (\"---------------------------------\")\n",
    "print (\"Media del fichero: example3.data\")\n",
    "print (np.average(errores))\n",
    "print (\"---------------------------------\")\n",
    "print (\"Desviacion tipica del fichero: example3.data\")\n",
    "print (np.std(errores))\n",
    "print (\"---------------------------------\")\n",
    "print (\"\\nGenerando grafica del fichero: example3.data\")\n",
    "\n",
    "ii = e.particiones[-1].indicesTrain\n",
    "# plotModel(d.datos[ii,0],d.datos[ii,1],d.datos[ii,-1]!=0,c,\"Frontera\",d.diccionarios)\n",
    "print (\"Grafica generada con exito\")\n",
    "print (\"---------------------------------\")"
   ]
  },
  {
   "cell_type": "code",
   "execution_count": 20,
   "metadata": {},
   "outputs": [
    {
     "name": "stdout",
     "output_type": "stream",
     "text": [
      "Procesando fichero: example3.data\n",
      "---------------------------------\n",
      "Media del fichero: example3.data\n",
      "0.4725\n",
      "---------------------------------\n",
      "Desviacion tipica del fichero: example3.data\n",
      "0.08692669325356854\n",
      "---------------------------------\n",
      "\n",
      "Generando grafica del fichero: example3.data\n",
      "Grafica generada con exito\n",
      "---------------------------------\n"
     ]
    }
   ],
   "source": [
    "d = Datos('ConjuntosDatos/example3.data')\n",
    "\n",
    "e = ValidacionCruzada()\n",
    "e.creaParticiones(d.datos)\n",
    "\n",
    "d.calcularMediasDesv(d.extraeDatos(e.particiones[0].indicesTrain))\n",
    "d.normalizarDatos()\n",
    "\n",
    "c = ClasificadorVecinosProximos(5)\n",
    "errores = c.validacion(particionado=e,dataset=d,clasificador=c)\n",
    "\n",
    "print (\"Procesando fichero: example3.data\")\n",
    "print (\"---------------------------------\")\n",
    "print (\"Media del fichero: example3.data\")\n",
    "print (np.average(errores))\n",
    "print (\"---------------------------------\")\n",
    "print (\"Desviacion tipica del fichero: example3.data\")\n",
    "print (np.std(errores))\n",
    "print (\"---------------------------------\")\n",
    "print (\"\\nGenerando grafica del fichero: example3.data\")\n",
    "\n",
    "ii = e.particiones[-1].indicesTrain\n",
    "# plotModel(d.datos[ii,0],d.datos[ii,1],d.datos[ii,-1]!=0,c,\"Frontera\",d.diccionarios)\n",
    "print (\"Grafica generada con exito\")\n",
    "print (\"---------------------------------\")"
   ]
  },
  {
   "cell_type": "code",
   "execution_count": 21,
   "metadata": {},
   "outputs": [
    {
     "name": "stdout",
     "output_type": "stream",
     "text": [
      "Procesando fichero: example3.data\n",
      "---------------------------------\n",
      "Media del fichero: example3.data\n",
      "0.46499999999999997\n",
      "---------------------------------\n",
      "Desviacion tipica del fichero: example3.data\n",
      "0.08154753215150046\n",
      "---------------------------------\n",
      "\n",
      "Generando grafica del fichero: example3.data\n",
      "Grafica generada con exito\n",
      "---------------------------------\n"
     ]
    }
   ],
   "source": [
    "d = Datos('ConjuntosDatos/example3.data')\n",
    "\n",
    "e = ValidacionCruzada()\n",
    "e.creaParticiones(d.datos)\n",
    "\n",
    "d.calcularMediasDesv(d.extraeDatos(e.particiones[0].indicesTrain))\n",
    "d.normalizarDatos()\n",
    "\n",
    "c = ClasificadorVecinosProximos(11)\n",
    "errores = c.validacion(particionado=e,dataset=d,clasificador=c)\n",
    "\n",
    "print (\"Procesando fichero: example3.data\")\n",
    "print (\"---------------------------------\")\n",
    "print (\"Media del fichero: example3.data\")\n",
    "print (np.average(errores))\n",
    "print (\"---------------------------------\")\n",
    "print (\"Desviacion tipica del fichero: example3.data\")\n",
    "print (np.std(errores))\n",
    "print (\"---------------------------------\")\n",
    "print (\"\\nGenerando grafica del fichero: example3.data\")\n",
    "\n",
    "ii = e.particiones[-1].indicesTrain\n",
    "# plotModel(d.datos[ii,0],d.datos[ii,1],d.datos[ii,-1]!=0,c,\"Frontera\",d.diccionarios)\n",
    "print (\"Grafica generada con exito\")\n",
    "print (\"---------------------------------\")"
   ]
  },
  {
   "cell_type": "code",
   "execution_count": 22,
   "metadata": {},
   "outputs": [
    {
     "name": "stdout",
     "output_type": "stream",
     "text": [
      "Procesando fichero: example3.data\n",
      "---------------------------------\n",
      "Media del fichero: example3.data\n",
      "0.4674999999999999\n",
      "---------------------------------\n",
      "Desviacion tipica del fichero: example3.data\n",
      "0.08806957476904269\n",
      "---------------------------------\n",
      "\n",
      "Generando grafica del fichero: example3.data\n",
      "Grafica generada con exito\n",
      "---------------------------------\n"
     ]
    }
   ],
   "source": [
    "d = Datos('ConjuntosDatos/example3.data')\n",
    "\n",
    "e = ValidacionCruzada()\n",
    "e.creaParticiones(d.datos)\n",
    "\n",
    "d.calcularMediasDesv(d.extraeDatos(e.particiones[0].indicesTrain))\n",
    "d.normalizarDatos()\n",
    "\n",
    "c = ClasificadorVecinosProximos(21)\n",
    "errores = c.validacion(particionado=e,dataset=d,clasificador=c)\n",
    "\n",
    "print (\"Procesando fichero: example3.data\")\n",
    "print (\"---------------------------------\")\n",
    "print (\"Media del fichero: example3.data\")\n",
    "print (np.average(errores))\n",
    "print (\"---------------------------------\")\n",
    "print (\"Desviacion tipica del fichero: example3.data\")\n",
    "print (np.std(errores))\n",
    "print (\"---------------------------------\")\n",
    "print (\"\\nGenerando grafica del fichero: example3.data\")\n",
    "\n",
    "ii = e.particiones[-1].indicesTrain\n",
    "# plotModel(d.datos[ii,0],d.datos[ii,1],d.datos[ii,-1]!=0,c,\"Frontera\",d.diccionarios)\n",
    "print (\"Grafica generada con exito\")\n",
    "print (\"---------------------------------\")"
   ]
  },
  {
   "cell_type": "code",
   "execution_count": 23,
   "metadata": {},
   "outputs": [
    {
     "name": "stdout",
     "output_type": "stream",
     "text": [
      "Procesando fichero: example3.data\n",
      "---------------------------------\n",
      "Media del fichero: example3.data\n",
      "0.45499999999999996\n",
      "---------------------------------\n",
      "Desviacion tipica del fichero: example3.data\n",
      "0.07729812416870153\n",
      "---------------------------------\n",
      "\n",
      "Generando grafica del fichero: example3.data\n",
      "Grafica generada con exito\n",
      "---------------------------------\n"
     ]
    }
   ],
   "source": [
    "d = Datos('ConjuntosDatos/example3.data')\n",
    "\n",
    "e = ValidacionCruzada()\n",
    "e.creaParticiones(d.datos)\n",
    "\n",
    "d.calcularMediasDesv(d.extraeDatos(e.particiones[0].indicesTrain))\n",
    "d.normalizarDatos()\n",
    "\n",
    "c = ClasificadorVecinosProximos(51)\n",
    "errores = c.validacion(particionado=e,dataset=d,clasificador=c)\n",
    "\n",
    "print (\"Procesando fichero: example3.data\")\n",
    "print (\"---------------------------------\")\n",
    "print (\"Media del fichero: example3.data\")\n",
    "print (np.average(errores))\n",
    "print (\"---------------------------------\")\n",
    "print (\"Desviacion tipica del fichero: example3.data\")\n",
    "print (np.std(errores))\n",
    "print (\"---------------------------------\")\n",
    "print (\"\\nGenerando grafica del fichero: example3.data\")\n",
    "\n",
    "ii = e.particiones[-1].indicesTrain\n",
    "# plotModel(d.datos[ii,0],d.datos[ii,1],d.datos[ii,-1]!=0,c,\"Frontera\",d.diccionarios)\n",
    "print (\"Grafica generada con exito\")\n",
    "print (\"---------------------------------\")"
   ]
  },
  {
   "cell_type": "code",
   "execution_count": 24,
   "metadata": {},
   "outputs": [
    {
     "name": "stdout",
     "output_type": "stream",
     "text": [
      "10\n"
     ]
    }
   ],
   "source": [
    "d = Datos('ConjuntosDatos/example4.data')\n",
    "e = ValidacionCruzada()\n",
    "e.creaParticiones(d.datos)\n",
    "\n",
    "print(len(e.particiones))\n",
    "a  = e.particiones[0].indicesTrain\n",
    "# print(d.extraeDatos(a))"
   ]
  },
  {
   "cell_type": "markdown",
   "metadata": {},
   "source": [
    "### Example 4"
   ]
  },
  {
   "cell_type": "code",
   "execution_count": 25,
   "metadata": {},
   "outputs": [
    {
     "name": "stdout",
     "output_type": "stream",
     "text": [
      "Procesando fichero: example4.data\n",
      "---------------------------------\n",
      "Media del fichero: example4.data\n",
      "0.52\n",
      "---------------------------------\n",
      "Desviacion tipica del fichero: example4.data\n",
      "0.08717797887081345\n",
      "---------------------------------\n",
      "\n",
      "Generando grafica del fichero: example4.data\n",
      "Grafica generada con exito\n",
      "---------------------------------\n"
     ]
    }
   ],
   "source": [
    "d = Datos('ConjuntosDatos/example4.data')\n",
    "e = ValidacionCruzada()\n",
    "e.creaParticiones(d.datos)\n",
    "\n",
    "# d.calcularMediasDesv(d.extraeDatos(e.particiones[0].indicesTrain))\n",
    "# d.normalizarDatos()\n",
    "\n",
    "c = ClasificadorVecinosProximos(1)\n",
    "errores = c.validacion(particionado=e,dataset=d,clasificador=c)\n",
    "\n",
    "print (\"Procesando fichero: example4.data\")\n",
    "print (\"---------------------------------\")\n",
    "print (\"Media del fichero: example4.data\")\n",
    "print (np.average(errores))\n",
    "print (\"---------------------------------\")\n",
    "print (\"Desviacion tipica del fichero: example4.data\")\n",
    "print (np.std(errores))\n",
    "print (\"---------------------------------\")\n",
    "print (\"\\nGenerando grafica del fichero: example4.data\")\n",
    "\n",
    "\n",
    "ii = e.particiones[-1].indicesTrain\n",
    "# plotModel(d.datos[ii,0],d.datos[ii,1],d.datos[ii,-1]!=0,c,\"Frontera\",d.diccionarios)\n",
    "print (\"Grafica generada con exito\")\n",
    "print (\"---------------------------------\")"
   ]
  },
  {
   "cell_type": "code",
   "execution_count": 26,
   "metadata": {},
   "outputs": [
    {
     "name": "stdout",
     "output_type": "stream",
     "text": [
      "Procesando fichero: example4.data\n",
      "---------------------------------\n",
      "Media del fichero: example4.data\n",
      "0.5700000000000001\n",
      "---------------------------------\n",
      "Desviacion tipica del fichero: example4.data\n",
      "0.1004987562112089\n",
      "---------------------------------\n",
      "\n",
      "Generando grafica del fichero: example4.data\n",
      "Grafica generada con exito\n",
      "---------------------------------\n"
     ]
    }
   ],
   "source": [
    "d = Datos('ConjuntosDatos/example4.data')\n",
    "\n",
    "e = ValidacionCruzada()\n",
    "e.creaParticiones(d.datos)\n",
    "\n",
    "d.calcularMediasDesv(d.extraeDatos(e.particiones[0].indicesTrain))\n",
    "d.normalizarDatos()\n",
    "\n",
    "c = ClasificadorVecinosProximos(3)\n",
    "errores = c.validacion(particionado=e,dataset=d,clasificador=c)\n",
    "\n",
    "print (\"Procesando fichero: example4.data\")\n",
    "print (\"---------------------------------\")\n",
    "print (\"Media del fichero: example4.data\")\n",
    "print (np.average(errores))\n",
    "print (\"---------------------------------\")\n",
    "print (\"Desviacion tipica del fichero: example4.data\")\n",
    "print (np.std(errores))\n",
    "print (\"---------------------------------\")\n",
    "print (\"\\nGenerando grafica del fichero: example4.data\")\n",
    "\n",
    "ii = e.particiones[-1].indicesTrain\n",
    "# plotModel(d.datos[ii,0],d.datos[ii,1],d.datos[ii,-1]!=0,c,\"Frontera\",d.diccionarios)\n",
    "print (\"Grafica generada con exito\")\n",
    "print (\"---------------------------------\")"
   ]
  },
  {
   "cell_type": "code",
   "execution_count": 27,
   "metadata": {},
   "outputs": [
    {
     "name": "stdout",
     "output_type": "stream",
     "text": [
      "Procesando fichero: example4.data\n",
      "---------------------------------\n",
      "Media del fichero: example4.data\n",
      "0.5700000000000001\n",
      "---------------------------------\n",
      "Desviacion tipica del fichero: example4.data\n",
      "0.1004987562112089\n",
      "---------------------------------\n",
      "\n",
      "Generando grafica del fichero: example4.data\n",
      "Grafica generada con exito\n",
      "---------------------------------\n"
     ]
    }
   ],
   "source": [
    "d = Datos('ConjuntosDatos/example4.data')\n",
    "\n",
    "e = ValidacionCruzada()\n",
    "e.creaParticiones(d.datos)\n",
    "\n",
    "d.calcularMediasDesv(d.extraeDatos(e.particiones[0].indicesTrain))\n",
    "d.normalizarDatos()\n",
    "\n",
    "c = ClasificadorVecinosProximos(5)\n",
    "errores = c.validacion(particionado=e,dataset=d,clasificador=c)\n",
    "\n",
    "print (\"Procesando fichero: example4.data\")\n",
    "print (\"---------------------------------\")\n",
    "print (\"Media del fichero: example4.data\")\n",
    "print (np.average(errores))\n",
    "print (\"---------------------------------\")\n",
    "print (\"Desviacion tipica del fichero: example4.data\")\n",
    "print (np.std(errores))\n",
    "print (\"---------------------------------\")\n",
    "print (\"\\nGenerando grafica del fichero: example4.data\")\n",
    "\n",
    "ii = e.particiones[-1].indicesTrain\n",
    "# plotModel(d.datos[ii,0],d.datos[ii,1],d.datos[ii,-1]!=0,c,\"Frontera\",d.diccionarios)\n",
    "print (\"Grafica generada con exito\")\n",
    "print (\"---------------------------------\")"
   ]
  },
  {
   "cell_type": "code",
   "execution_count": 28,
   "metadata": {},
   "outputs": [
    {
     "name": "stdout",
     "output_type": "stream",
     "text": [
      "Procesando fichero: example4.data\n",
      "---------------------------------\n",
      "Media del fichero: example4.data\n",
      "0.5000000000000001\n",
      "---------------------------------\n",
      "Desviacion tipica del fichero: example4.data\n",
      "0.08944271909999156\n",
      "---------------------------------\n",
      "\n",
      "Generando grafica del fichero: example4.data\n",
      "Grafica generada con exito\n",
      "---------------------------------\n"
     ]
    }
   ],
   "source": [
    "d = Datos('ConjuntosDatos/example4.data')\n",
    "\n",
    "e = ValidacionCruzada()\n",
    "e.creaParticiones(d.datos)\n",
    "\n",
    "d.calcularMediasDesv(d.extraeDatos(e.particiones[0].indicesTrain))\n",
    "d.normalizarDatos()\n",
    "\n",
    "c = ClasificadorVecinosProximos(11)\n",
    "errores = c.validacion(particionado=e,dataset=d,clasificador=c)\n",
    "\n",
    "print (\"Procesando fichero: example4.data\")\n",
    "print (\"---------------------------------\")\n",
    "print (\"Media del fichero: example4.data\")\n",
    "print (np.average(errores))\n",
    "print (\"---------------------------------\")\n",
    "print (\"Desviacion tipica del fichero: example4.data\")\n",
    "print (np.std(errores))\n",
    "print (\"---------------------------------\")\n",
    "print (\"\\nGenerando grafica del fichero: example4.data\")\n",
    "\n",
    "ii = e.particiones[-1].indicesTrain\n",
    "# plotModel(d.datos[ii,0],d.datos[ii,1],d.datos[ii,-1]!=0,c,\"Frontera\",d.diccionarios)\n",
    "print (\"Grafica generada con exito\")\n",
    "print (\"---------------------------------\")"
   ]
  },
  {
   "cell_type": "code",
   "execution_count": 29,
   "metadata": {},
   "outputs": [
    {
     "name": "stdout",
     "output_type": "stream",
     "text": [
      "Procesando fichero: example4.data\n",
      "---------------------------------\n",
      "Media del fichero: example4.data\n",
      "0.5200000000000001\n",
      "---------------------------------\n",
      "Desviacion tipica del fichero: example4.data\n",
      "0.0748331477354788\n",
      "---------------------------------\n",
      "\n",
      "Generando grafica del fichero: example4.data\n",
      "Grafica generada con exito\n",
      "---------------------------------\n"
     ]
    }
   ],
   "source": [
    "d = Datos('ConjuntosDatos/example4.data')\n",
    "\n",
    "e = ValidacionCruzada()\n",
    "e.creaParticiones(d.datos)\n",
    "\n",
    "d.calcularMediasDesv(d.extraeDatos(e.particiones[0].indicesTrain))\n",
    "d.normalizarDatos()\n",
    "\n",
    "c = ClasificadorVecinosProximos(21)\n",
    "errores = c.validacion(particionado=e,dataset=d,clasificador=c)\n",
    "\n",
    "print (\"Procesando fichero: example4.data\")\n",
    "print (\"---------------------------------\")\n",
    "print (\"Media del fichero: example4.data\")\n",
    "print (np.average(errores))\n",
    "print (\"---------------------------------\")\n",
    "print (\"Desviacion tipica del fichero: example4.data\")\n",
    "print (np.std(errores))\n",
    "print (\"---------------------------------\")\n",
    "print (\"\\nGenerando grafica del fichero: example4.data\")\n",
    "\n",
    "ii = e.particiones[-1].indicesTrain\n",
    "# plotModel(d.datos[ii,0],d.datos[ii,1],d.datos[ii,-1]!=0,c,\"Frontera\",d.diccionarios)\n",
    "print (\"Grafica generada con exito\")\n",
    "print (\"---------------------------------\")"
   ]
  },
  {
   "cell_type": "code",
   "execution_count": 30,
   "metadata": {},
   "outputs": [
    {
     "name": "stdout",
     "output_type": "stream",
     "text": [
      "Procesando fichero: example4.data\n",
      "---------------------------------\n",
      "Media del fichero: example4.data\n",
      "0.5100000000000001\n",
      "---------------------------------\n",
      "Desviacion tipica del fichero: example4.data\n",
      "0.08306623862918074\n",
      "---------------------------------\n",
      "\n",
      "Generando grafica del fichero: example4.data\n",
      "Grafica generada con exito\n",
      "---------------------------------\n"
     ]
    }
   ],
   "source": [
    "d = Datos('ConjuntosDatos/example4.data')\n",
    "\n",
    "e = ValidacionCruzada()\n",
    "e.creaParticiones(d.datos)\n",
    "\n",
    "d.calcularMediasDesv(d.extraeDatos(e.particiones[0].indicesTrain))\n",
    "d.normalizarDatos()\n",
    "\n",
    "c = ClasificadorVecinosProximos(51)\n",
    "errores = c.validacion(particionado=e,dataset=d,clasificador=c)\n",
    "\n",
    "print (\"Procesando fichero: example4.data\")\n",
    "print (\"---------------------------------\")\n",
    "print (\"Media del fichero: example4.data\")\n",
    "print (np.average(errores))\n",
    "print (\"---------------------------------\")\n",
    "print (\"Desviacion tipica del fichero: example4.data\")\n",
    "print (np.std(errores))\n",
    "print (\"---------------------------------\")\n",
    "print (\"\\nGenerando grafica del fichero: example4.data\")\n",
    "\n",
    "ii = e.particiones[-1].indicesTrain\n",
    "# plotModel(d.datos[ii,0],d.datos[ii,1],d.datos[ii,-1]!=0,c,\"Frontera\",d.diccionarios)\n",
    "print (\"Grafica generada con exito\")\n",
    "print (\"---------------------------------\")"
   ]
  },
  {
   "cell_type": "markdown",
   "metadata": {},
   "source": [
    "## Regresión Logística"
   ]
  },
  {
   "cell_type": "code",
   "execution_count": 31,
   "metadata": {},
   "outputs": [
    {
     "name": "stdout",
     "output_type": "stream",
     "text": [
      "Grafica generada con exito\n",
      "---------------------------------\n"
     ]
    },
    {
     "data": {
      "image/png": "[encoded data removed]",
      "text/plain": [
       "<Figure size 432x288 with 1 Axes>"
      ]
     },
     "metadata": {
      "needs_background": "light"
     },
     "output_type": "display_data"
    }
   ],
   "source": [
    "d = Datos('ConjuntosDatos/example1.data')\n",
    "e = ValidacionCruzada()\n",
    "e.creaParticiones(d.datos)\n",
    "\n",
    "c = ClasificadorRegresionLogistica(20)\n",
    "c.entrenamiento(datostrain=d.extraeDatos(idx=e.particiones[0].indicesTrain))\n",
    "\n",
    "ii = e.particiones[-1].indicesTrain\n",
    "plotModel(d.datos[ii,0],d.datos[ii,1],d.datos[ii,-1]!=0,c,\"Frontera\",d.diccionarios)\n",
    "print (\"Grafica generada con exito\")\n",
    "print (\"---------------------------------\")\n",
    "# plt.figure()\n",
    "# plt.plot(d.datos[d.datos[:,-1]==0,0],d.datos[d.datos[:,-1]==0,1],'bo')\n",
    "# plt.plot(d.datos[d.datos[:,-1]==1,0],d.datos[d.datos[:,-1]==1,1],'ro')\n"
   ]
  },
  {
   "cell_type": "code",
   "execution_count": 32,
   "metadata": {},
   "outputs": [
    {
     "data": {
      "image/png": "[encoded data removed]",
      "text/plain": [
       "<Figure size 432x288 with 1 Axes>"
      ]
     },
     "metadata": {
      "needs_background": "light"
     },
     "output_type": "display_data"
    }
   ],
   "source": [
    "e= ValidacionSimple()\n",
    "ii = e.particiones[-1].indicesTrain\n",
    "\n",
    "plotModel(d.datos[ii,0],d.datos[ii,1],d.datos[ii,-1]!=0,c,\"Frontera\",d.diccionarios) \n"
   ]
  },
  {
   "cell_type": "code",
   "execution_count": 33,
   "metadata": {},
   "outputs": [
    {
     "name": "stdout",
     "output_type": "stream",
     "text": [
      "REGRESION LOGISTICA SCIKIT\n",
      "---------------------------------\n",
      "Procesando fichero: example1.data\n",
      "---------------------------------\n",
      "Media erronea del fichero: example3.data  : 0.5775 con Desviacion Tipica (std) =  0.05963430220938282\n",
      "---------------------------------\n"
     ]
    },
    {
     "data": {
      "image/png": "[encoded data removed]",
      "text/plain": [
       "<Figure size 288x216 with 1 Axes>"
      ]
     },
     "metadata": {},
     "output_type": "display_data"
    }
   ],
   "source": [
    "#import matplotlib.pyplot as plt\n",
    "#%matplotlib inline\n",
    "import numpy as np\n",
    "from sklearn.linear_model import LogisticRegression\n",
    "from sklearn.model_selection import cross_val_score\n",
    "from Datos import Datos\n",
    "\n",
    "\n",
    "print (\"REGRESION LOGISTICA SCIKIT\")\n",
    "print (\"---------------------------------\")\n",
    "print (\"Procesando fichero: example1.data\")\n",
    "print (\"---------------------------------\")\n",
    "dataset = Datos(\"./ConjuntosDatos/example1.data\")\n",
    "\n",
    "X=dataset.datos[:,:-1]\n",
    "Y=dataset.datos[:,-1]\n",
    "\n",
    "\n",
    "\n",
    "logreg = LogisticRegression(C=1e5,max_iter=100) # Creando el modelo\n",
    "\n",
    "logreg.fit(X, Y) #ajustando el modelo\n",
    "\n",
    "# we create an instance of Neighbours Classifier and fit the data.\n",
    "logreg.fit(X, Y)\n",
    "\n",
    "cvs =cross_val_score(logreg, X,Y, cv=10,n_jobs=-1)\n",
    "print (\"Media erronea del fichero: example3.data  :\",(1-np.mean((cvs))), \"con Desviacion Tipica (std) = \", (np.std((cvs))))\n",
    "print (\"---------------------------------\")\n",
    "\n",
    "h = .02\n",
    "# Plot the decision boundary. For that, we will assign a color to each\n",
    "# point in the mesh [x_min, x_max]x[y_min, y_max].\n",
    "x_min, x_max = X[:, 0].min() - .5, X[:, 0].max() + .5\n",
    "y_min, y_max = X[:, 1].min() - .5, X[:, 1].max() + .5\n",
    "xx, yy = np.meshgrid(np.arange(x_min, x_max, h), np.arange(y_min, y_max, h))\n",
    "Z = logreg.predict(np.c_[xx.ravel(), yy.ravel()])\n",
    "\n",
    "# Put the result into a color plot\n",
    "Z = Z.reshape(xx.shape)\n",
    "plt.figure(1, figsize=(4, 3))\n",
    "plt.pcolormesh(xx, yy, Z, cmap=plt.cm.Paired)\n",
    "\n",
    "# Plot also the training points\n",
    "plt.scatter(X[:, 0], X[:, 1], c=Y, edgecolors='k', cmap=plt.cm.Paired)\n",
    "plt.xlabel('x')\n",
    "plt.ylabel('y')\n",
    "plt.xlim(xx.min(), xx.max())\n",
    "plt.ylim(yy.min(), yy.max())\n",
    "plt.xticks(())\n",
    "plt.yticks(())\n",
    "plt.show()"
   ]
  },
  {
   "cell_type": "code",
   "execution_count": 34,
   "metadata": {},
   "outputs": [
    {
     "name": "stdout",
     "output_type": "stream",
     "text": [
      "REGRESION LOGISTICA SCIKIT\n",
      "---------------------------------\n",
      "Procesando fichero: example1.data\n",
      "---------------------------------\n",
      "Media erronea del fichero: example3.data  : 0.5775 con Desviacion Tipica (std) =  0.05963430220938282\n",
      "---------------------------------\n"
     ]
    },
    {
     "data": {
      "image/png": "[encoded data removed]",
      "text/plain": [
       "<Figure size 288x216 with 1 Axes>"
      ]
     },
     "metadata": {},
     "output_type": "display_data"
    }
   ],
   "source": [
    "#import matplotlib.pyplot as plt\n",
    "#%matplotlib inline\n",
    "import numpy as np\n",
    "from sklearn.linear_model import LogisticRegression\n",
    "import Datos\n",
    "\n",
    "from sklearn.model_selection import cross_val_score\n",
    "from Datos import Datos\n",
    "\n",
    "\n",
    "print (\"REGRESION LOGISTICA SCIKIT\")\n",
    "print (\"---------------------------------\")\n",
    "print (\"Procesando fichero: example1.data\")\n",
    "print (\"---------------------------------\")\n",
    "dataset = Datos(\"./ConjuntosDatos/example1.data\")\n",
    "\n",
    "X=dataset.datos[:,:-1]\n",
    "Y=dataset.datos[:,-1]\n",
    "\n",
    "\n",
    "\n",
    "logreg = LogisticRegression(C=1e5) # Creando el modelo\n",
    "\n",
    "logreg.fit(X, Y) #ajustando el modelo\n",
    "\n",
    "# we create an instance of Neighbours Classifier and fit the data.\n",
    "logreg.fit(X, Y)\n",
    "\n",
    "cvs =cross_val_score(logreg, X,Y, cv=10,n_jobs=-1)\n",
    "print (\"Media erronea del fichero: example3.data  :\",(1-np.mean((cvs))), \"con Desviacion Tipica (std) = \", (np.std((cvs))))\n",
    "print (\"---------------------------------\")\n",
    "\n",
    "\n",
    "# Plot the decision boundary. For that, we will assign a color to each\n",
    "# point in the mesh [x_min, x_max]x[y_min, y_max].\n",
    "x_min, x_max = X[:, 0].min() - .5, X[:, 0].max() + .5\n",
    "y_min, y_max = X[:, 1].min() - .5, X[:, 1].max() + .5\n",
    "xx, yy = np.meshgrid(np.arange(x_min, x_max, h), np.arange(y_min, y_max, h))\n",
    "Z = logreg.predict(np.c_[xx.ravel(), yy.ravel()])\n",
    "\n",
    "# Put the result into a color plot\n",
    "Z = Z.reshape(xx.shape)\n",
    "plt.figure(1, figsize=(4, 3))\n",
    "plt.pcolormesh(xx, yy, Z, cmap=plt.cm.Paired)\n",
    "\n",
    "# Plot also the training points\n",
    "plt.scatter(X[:, 0], X[:, 1], c=Y, edgecolors='k', cmap=plt.cm.Paired)\n",
    "plt.xlabel('x')\n",
    "plt.ylabel('y')\n",
    "plt.xlim(xx.min(), xx.max())\n",
    "plt.ylim(yy.min(), yy.max())\n",
    "plt.xticks(())\n",
    "plt.yticks(())\n",
    "plt.show()"
   ]
  }
 ],
 "metadata": {
  "kernelspec": {
   "display_name": "Python 3",
   "language": "python",
   "name": "python3"
  },
  "language_info": {
   "codemirror_mode": {
    "name": "ipython",
    "version": 3
   },
   "file_extension": ".py",
   "mimetype": "text/x-python",
   "name": "python",
   "nbconvert_exporter": "python",
   "pygments_lexer": "ipython3",
   "version": "3.7.0"
  }
 },
 "nbformat": 4,
 "nbformat_minor": 2
}
