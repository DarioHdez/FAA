{
 "cells": [
  {
   "cell_type": "code",
   "execution_count": 1,
   "metadata": {},
   "outputs": [],
   "source": [
    "from Datos import Datos\n",
    "from Clasificador import  ClasificadorVecinosProximos,ClasificadorRegresionLogistica,Clasificador\n",
    "from EstrategiaParticionado import EstrategiaParticionado,ValidacionCruzada,ValidacionSimple,ValidacionBootstrap\n",
    "import numpy as np\n",
    "from sklearn.linear_model import LogisticRegression\n",
    "from sklearn import preprocessing\n",
    "from sklearn.model_selection import cross_val_score\n",
    "from sklearn.neighbors import KNeighborsClassifier\n",
    "from sklearn.metrics import accuracy_score\n",
    "from scipy.special import expit\n",
    "from plotModel import plotModel\n",
    "import matplotlib.pyplot as plt\n",
    "from IPython.display import HTML, display\n",
    "%matplotlib inline"
   ]
  },
  {
   "cell_type": "markdown",
   "metadata": {},
   "source": [
    "# Apartado 1"
   ]
  },
  {
   "cell_type": "code",
   "execution_count": 5,
   "metadata": {},
   "outputs": [
    {
     "name": "stdout",
     "output_type": "stream",
     "text": [
      "La media de error de Naive Bayes  usando Validacion Simple con Laplace es :0.3649080000000001 con Desviacion Tipica = 0.02825695553310726\n",
      "\n",
      "La media de error de Naive Bayes  usando Validacion Cruzada con Laplace es :0.361 con Desviacion Tipica = 0.025000000000000022\n",
      "\n",
      "La media de error de Naive Bayes es  usando Validacion Simple sin Laplace es :0.3649080000000001 con Desviacion Tipica = 0.02825695553310726\n",
      "\n",
      "La media de error de Naive Bayes  usando Validacion Cruzada con Laplace es :0.361 con Desviacion Tipica = 0.025000000000000022\n",
      "\n"
     ]
    }
   ],
   "source": [
    "import numpy as np\n",
    "from Datos import Datos\n",
    "from sklearn import preprocessing\n",
    "from sklearn.naive_bayes import MultinomialNB\n",
    "from sklearn.model_selection import cross_val_score\n",
    "from sklearn.model_selection import ShuffleSplit\n",
    "\n",
    "\n",
    "dataset = Datos('german.data')\n",
    "validacionSimple = ShuffleSplit(len(dataset.datos), test_size=.25, random_state=0)\n",
    "validacionCruzada=2\n",
    "#Validacion Simple Laplace\n",
    "file = open(\"Scikit-Learn\",\"w\")\n",
    "\n",
    "\n",
    "atributos =preprocessing.OneHotEncoder(categorical_features=dataset.nominalAtributos[:-1],sparse=False)\n",
    "X = atributos.fit_transform(dataset.datos[:,:-1])\n",
    "Y=dataset.datos[:,-1]\n",
    "\n",
    "clf = MultinomialNB(alpha=1, class_prior=None, fit_prior=True)\n",
    "clf.fit(X, Y)\n",
    "\n",
    "cvs = cross_val_score(clf, X,Y,cv=validacionSimple)\n",
    "print (\"La media de error de Naive Bayes  usando Validacion Simple con Laplace es :\" + str((1-np.mean((cvs))) )+ \" con Desviacion Tipica = \" +  str((np.std((cvs)))) + \"\\n\")\n",
    "\n",
    "\n",
    "\n",
    "\n",
    "\n",
    "atributos =preprocessing.OneHotEncoder(categorical_features=dataset.nominalAtributos[:-1],sparse=False)\n",
    "X = atributos.fit_transform(dataset.datos[:,:-1])\n",
    "Y=dataset.datos[:,-1]\n",
    "\n",
    "clf = MultinomialNB(alpha=1, class_prior=None, fit_prior=True)\n",
    "clf.fit(X, Y)\n",
    "\n",
    "cvs = cross_val_score(clf, X,Y,cv=validacionCruzada)\n",
    "print (\"La media de error de Naive Bayes  usando Validacion Cruzada con Laplace es :\" +str((1-np.mean((cvs))))+\" con Desviacion Tipica = \" +  str((np.std((cvs)))) + \"\\n\")\n",
    "\n",
    "\n",
    "\n",
    "#Validacion Simple Laplace\n",
    "\n",
    "\n",
    "atributos =preprocessing.OneHotEncoder(categorical_features=dataset.nominalAtributos[:-1],sparse=False)\n",
    "X = atributos.fit_transform(dataset.datos[:,:-1])\n",
    "Y=dataset.datos[:,-1]\n",
    "\n",
    "clf = MultinomialNB(alpha=1, class_prior=None, fit_prior=True)\n",
    "clf.fit(X, Y)\n",
    "\n",
    "cvs = cross_val_score(clf, X,Y,cv=validacionSimple)\n",
    "print(\"La media de error de Naive Bayes es  usando Validacion Simple sin Laplace es :\" +str((1-np.mean((cvs))))+\" con Desviacion Tipica = \" +  str((np.std((cvs)))) + \"\\n\")\n",
    "\n",
    "\n",
    "\n",
    "file.write(\"Validacion Cruzada sin Laplace\")\n",
    "\n",
    "atributos =preprocessing.OneHotEncoder(categorical_features=dataset.nominalAtributos[:-1],sparse=False)\n",
    "X = atributos.fit_transform(dataset.datos[:,:-1])\n",
    "Y=dataset.datos[:,-1]\n",
    "\n",
    "clf = MultinomialNB(alpha=1, class_prior=None, fit_prior=True)\n",
    "clf.fit(X, Y)\n",
    "\n",
    "cvs = cross_val_score(clf, X,Y,cv=validacionCruzada)\n",
    "print (\"La media de error de Naive Bayes  usando Validacion Cruzada con Laplace es :\"+ str((1-np.mean((cvs)))) +\" con Desviacion Tipica = \" +  str((np.std((cvs)))) + \"\\n\")\n",
    "\n",
    "file.close()\n"
   ]
  },
  {
   "cell_type": "markdown",
   "metadata": {},
   "source": [
    "## Vecinos próximos"
   ]
  },
  {
   "cell_type": "markdown",
   "metadata": {},
   "source": [
    "Vamos a ejecutar primero las pruebas de Scikit, anotando los resultados para K = 1,3,5,11,21,51 "
   ]
  },
  {
   "cell_type": "code",
   "execution_count": 2,
   "metadata": {},
   "outputs": [
    {
     "name": "stdout",
     "output_type": "stream",
     "text": [
      "VECINOS PROXIMOS SCIKIT\n",
      "---------------------------------\n",
      "Procesando fichero: example1.data\n",
      "---------------------------------\n",
      "K =  1\n",
      "Media erronea del fichero: example1.data : 0.17000000000000015 con Desviacion Tipica (std) =  0.06204836822995429\n",
      "---------------------------------\n",
      "K =  3\n",
      "Media erronea del fichero: example1.data : 0.14249999999999985 con Desviacion Tipica (std) =  0.06427480066091222\n",
      "---------------------------------\n",
      "K =  5\n",
      "Media erronea del fichero: example1.data : 0.135 con Desviacion Tipica (std) =  0.05830951894845303\n",
      "---------------------------------\n",
      "K =  11\n",
      "Media erronea del fichero: example1.data : 0.13749999999999996 con Desviacion Tipica (std) =  0.05031152949374529\n",
      "---------------------------------\n",
      "K =  21\n",
      "Media erronea del fichero: example1.data : 0.14250000000000007 con Desviacion Tipica (std) =  0.07335700375560605\n",
      "---------------------------------\n",
      "K =  51\n",
      "Media erronea del fichero: example1.data : 0.125 con Desviacion Tipica (std) =  0.048733971724044825\n",
      "---------------------------------\n"
     ]
    }
   ],
   "source": [
    "print (\"VECINOS PROXIMOS SCIKIT\")\n",
    "print (\"---------------------------------\")\n",
    "print (\"Procesando fichero: example1.data\")\n",
    "print (\"---------------------------------\")\n",
    "dataset = Datos(\"./ConjuntosDatos/example1.data\")    \n",
    "X=dataset.datos[:,:-1]\n",
    "Y=dataset.datos[:,-1]\n",
    "for i in [1,3,5,11,21,51]:\n",
    "    print (\"K = \",  i)\n",
    "    resultado = KNeighborsClassifier(n_neighbors=i)\n",
    "    cvs = cross_val_score(resultado, X,Y, cv=10)\n",
    "    print (\"Media erronea del fichero: example1.data :\",(1-np.mean((cvs))), \"con Desviacion Tipica (std) = \", (np.std((cvs))))\n",
    "    print (\"---------------------------------\")"
   ]
  },
  {
   "cell_type": "code",
   "execution_count": 3,
   "metadata": {},
   "outputs": [
    {
     "name": "stdout",
     "output_type": "stream",
     "text": [
      "VECINOS PROXIMOS SCIKIT\n",
      "---------------------------------\n",
      "Procesando fichero: example2.data\n",
      "---------------------------------\n",
      "K =  1\n",
      "Media erronea del fichero: example2.data : 0.0 con Desviacion Tipica (std) =  0.0\n",
      "---------------------------------\n",
      "K =  3\n",
      "Media erronea del fichero: example2.data : 0.0 con Desviacion Tipica (std) =  0.0\n",
      "---------------------------------\n",
      "K =  5\n",
      "Media erronea del fichero: example2.data : 0.0 con Desviacion Tipica (std) =  0.0\n",
      "---------------------------------\n",
      "K =  11\n",
      "Media erronea del fichero: example2.data : 0.0 con Desviacion Tipica (std) =  0.0\n",
      "---------------------------------\n",
      "K =  21\n",
      "Media erronea del fichero: example2.data : 0.0 con Desviacion Tipica (std) =  0.0\n",
      "---------------------------------\n",
      "K =  51\n",
      "Media erronea del fichero: example2.data : 0.0 con Desviacion Tipica (std) =  0.0\n",
      "---------------------------------\n"
     ]
    }
   ],
   "source": [
    "print (\"VECINOS PROXIMOS SCIKIT\")\n",
    "print (\"---------------------------------\")\n",
    "print (\"Procesando fichero: example2.data\")\n",
    "print (\"---------------------------------\")\n",
    "dataset = Datos(\"./ConjuntosDatos/example2.data\")    \n",
    "X=dataset.datos[:,:-1]\n",
    "Y=dataset.datos[:,-1]\n",
    "for i in [1,3,5,11,21,51]:\n",
    "    print (\"K = \",  i)\n",
    "    resultado = KNeighborsClassifier(n_neighbors=i)\n",
    "    cvs = cross_val_score(resultado, X,Y, cv=10)\n",
    "    print (\"Media erronea del fichero: example2.data :\",(1-np.mean((cvs))), \"con Desviacion Tipica (std) = \", (np.std((cvs))))\n",
    "    print (\"---------------------------------\")"
   ]
  },
  {
   "cell_type": "code",
   "execution_count": 4,
   "metadata": {},
   "outputs": [
    {
     "name": "stdout",
     "output_type": "stream",
     "text": [
      "VECINOS PROXIMOS SCIKIT\n",
      "---------------------------------\n",
      "Procesando fichero: example3.data\n",
      "---------------------------------\n",
      "K =  1\n",
      "Media erronea del fichero: example3.data : 0.02750000000000019 con Desviacion Tipica (std) =  0.020766559657295205\n",
      "---------------------------------\n",
      "K =  3\n",
      "Media erronea del fichero: example3.data : 0.03749999999999987 con Desviacion Tipica (std) =  0.025617376914898987\n",
      "---------------------------------\n",
      "K =  5\n",
      "Media erronea del fichero: example3.data : 0.03249999999999997 con Desviacion Tipica (std) =  0.02749999999999999\n",
      "---------------------------------\n",
      "K =  11\n",
      "Media erronea del fichero: example3.data : 0.022499999999999964 con Desviacion Tipica (std) =  0.026100766272276376\n",
      "---------------------------------\n",
      "K =  21\n",
      "Media erronea del fichero: example3.data : 0.030000000000000027 con Desviacion Tipica (std) =  0.029154759474226494\n",
      "---------------------------------\n",
      "K =  51\n",
      "Media erronea del fichero: example3.data : 0.029999999999999916 con Desviacion Tipica (std) =  0.026925824035672508\n",
      "---------------------------------\n"
     ]
    }
   ],
   "source": [
    "print (\"VECINOS PROXIMOS SCIKIT\")\n",
    "print (\"---------------------------------\")\n",
    "print (\"Procesando fichero: example3.data\")\n",
    "print (\"---------------------------------\")\n",
    "dataset = Datos(\"./ConjuntosDatos/example3.data\")    \n",
    "X=dataset.datos[:,:-1]\n",
    "Y=dataset.datos[:,-1]\n",
    "for i in [1,3,5,11,21,51]:\n",
    "    print (\"K = \",  i)\n",
    "    resultado = KNeighborsClassifier(n_neighbors=i)\n",
    "    cvs = cross_val_score(resultado, X,Y, cv=10)\n",
    "    print (\"Media erronea del fichero: example3.data :\",(1-np.mean((cvs))), \"con Desviacion Tipica (std) = \", (np.std((cvs))))\n",
    "    print (\"---------------------------------\")"
   ]
  },
  {
   "cell_type": "code",
   "execution_count": 5,
   "metadata": {},
   "outputs": [
    {
     "name": "stdout",
     "output_type": "stream",
     "text": [
      "VECINOS PROXIMOS SCIKIT\n",
      "---------------------------------\n",
      "Procesando fichero: example4.data\n",
      "---------------------------------\n",
      "K =  1\n",
      "Media erronea del fichero: example4.data : 0.030000000000000027 con Desviacion Tipica (std) =  0.045825756949558386\n",
      "---------------------------------\n",
      "K =  3\n",
      "Media erronea del fichero: example4.data : 0.09000000000000008 con Desviacion Tipica (std) =  0.09433981132056604\n",
      "---------------------------------\n",
      "K =  5\n",
      "Media erronea del fichero: example4.data : 0.10999999999999999 con Desviacion Tipica (std) =  0.1044030650891055\n",
      "---------------------------------\n",
      "K =  11\n",
      "Media erronea del fichero: example4.data : 0.19999999999999996 con Desviacion Tipica (std) =  0.07745966692414837\n",
      "---------------------------------\n",
      "K =  21\n",
      "Media erronea del fichero: example4.data : 0.3400000000000001 con Desviacion Tipica (std) =  0.12000000000000001\n",
      "---------------------------------\n",
      "K =  51\n",
      "Media erronea del fichero: example4.data : 0.5200000000000001 con Desviacion Tipica (std) =  0.18867962264113208\n",
      "---------------------------------\n"
     ]
    }
   ],
   "source": [
    "print (\"VECINOS PROXIMOS SCIKIT\")\n",
    "print (\"---------------------------------\")\n",
    "print (\"Procesando fichero: example4.data\")\n",
    "print (\"---------------------------------\")\n",
    "dataset = Datos(\"./ConjuntosDatos/example4.data\")    \n",
    "X=dataset.datos[:,:-1]\n",
    "Y=dataset.datos[:,-1]\n",
    "for i in [1,3,5,11,21,51]:\n",
    "    print (\"K = \",  i)\n",
    "    resultado = KNeighborsClassifier(n_neighbors=i)\n",
    "    cvs = cross_val_score(resultado, X,Y, cv=10)\n",
    "    print (\"Media erronea del fichero: example4.data :\",(1-np.mean((cvs))), \"con Desviacion Tipica (std) = \", (np.std((cvs))))\n",
    "    print (\"---------------------------------\")"
   ]
  },
  {
   "cell_type": "markdown",
   "metadata": {},
   "source": [
    "Vamos a ejecutar todos los conjuntos de datos, primero sin normalizar y luego normalizando los datos"
   ]
  },
  {
   "cell_type": "markdown",
   "metadata": {},
   "source": [
    "### Example 1"
   ]
  },
  {
   "cell_type": "code",
   "execution_count": 6,
   "metadata": {
    "scrolled": true
   },
   "outputs": [
    {
     "name": "stdout",
     "output_type": "stream",
     "text": [
      "Procesando fichero: example1.data\n",
      "---------------------------------\n",
      "Media del fichero: example1.data\n",
      "0.4974999999999999\n",
      "---------------------------------\n",
      "Desviacion tipica del fichero: example1.data\n",
      "0.07701460900374682\n",
      "---------------------------------\n",
      "Media del fichero: example1.data con datos normalizados\n",
      "0.53\n",
      "---------------------------------\n",
      "Desviacion tipica del fichero: example1.data con datos normalizados\n",
      "0.03674234614174767\n",
      "---------------------------------\n",
      "\n",
      "Generando grafica del fichero: example1.data\n",
      "Grafica generada con exito\n",
      "---------------------------------\n"
     ]
    }
   ],
   "source": [
    "d = Datos('ConjuntosDatos/example1.data')\n",
    "e = ValidacionCruzada()\n",
    "\n",
    "k = 1\n",
    "\n",
    "c = ClasificadorVecinosProximos(k)\n",
    "errores = c.validacion(particionado=e,dataset=d,clasificador=c)\n",
    "\n",
    "d.calcularMediasDesv(d.extraeDatos(e.particiones[0].indicesTrain))\n",
    "d.normalizarDatos()\n",
    "\n",
    "c = ClasificadorVecinosProximos(k)\n",
    "errores_norm = c.validacion(particionado=e,dataset=d,clasificador=c)\n",
    "\n",
    "print (\"Procesando fichero: example1.data\")\n",
    "print (\"---------------------------------\")\n",
    "print (\"Media del fichero: example1.data\")\n",
    "print (np.mean(errores))\n",
    "print (\"---------------------------------\")\n",
    "print (\"Desviacion tipica del fichero: example1.data\")\n",
    "print (np.std(errores))\n",
    "print (\"---------------------------------\")\n",
    "print (\"Media del fichero: example1.data con datos normalizados\")\n",
    "print (np.mean(errores_norm))\n",
    "print (\"---------------------------------\")\n",
    "print (\"Desviacion tipica del fichero: example1.data con datos normalizados\")\n",
    "print (np.std(errores_norm))\n",
    "print (\"---------------------------------\")\n",
    "print (\"\\nGenerando grafica del fichero: example1.data\")\n",
    "\n",
    "ii = e.particiones[-1].indicesTrain\n",
    "# plotModel(d.datos[ii,0],d.datos[ii,1],d.datos[ii,-1]!=0,c,\"Frontera\",d.diccionarios)\n",
    "print (\"Grafica generada con exito\")\n",
    "print (\"---------------------------------\")\n"
   ]
  },
  {
   "cell_type": "code",
   "execution_count": 7,
   "metadata": {},
   "outputs": [
    {
     "name": "stdout",
     "output_type": "stream",
     "text": [
      "Procesando fichero: example1.data\n",
      "---------------------------------\n",
      "Media del fichero: example1.data\n",
      "0.48\n",
      "---------------------------------\n",
      "Desviacion tipica del fichero: example1.data\n",
      "0.09137833441248533\n",
      "---------------------------------\n",
      "Media del fichero: example1.data con datos normalizados\n",
      "0.5225000000000001\n",
      "---------------------------------\n",
      "Desviacion tipica del fichero: example1.data con datos normalizados\n",
      "0.07284401142166731\n",
      "---------------------------------\n",
      "\n",
      "Generando grafica del fichero: example1.data\n",
      "Grafica generada con exito\n",
      "---------------------------------\n"
     ]
    }
   ],
   "source": [
    "d = Datos('ConjuntosDatos/example1.data')\n",
    "e = ValidacionCruzada()\n",
    "k = 3\n",
    "\n",
    "c = ClasificadorVecinosProximos(k)\n",
    "errores = c.validacion(particionado=e,dataset=d,clasificador=c)\n",
    "\n",
    "d.calcularMediasDesv(d.extraeDatos(e.particiones[0].indicesTrain))\n",
    "d.normalizarDatos()\n",
    "\n",
    "c = ClasificadorVecinosProximos(k)\n",
    "errores_norm = c.validacion(particionado=e,dataset=d,clasificador=c)\n",
    "\n",
    "print (\"Procesando fichero: example1.data\")\n",
    "print (\"---------------------------------\")\n",
    "print (\"Media del fichero: example1.data\")\n",
    "print (np.average(errores))\n",
    "print (\"---------------------------------\")\n",
    "print (\"Desviacion tipica del fichero: example1.data\")\n",
    "print (np.std(errores))\n",
    "print (\"---------------------------------\")\n",
    "print (\"Media del fichero: example1.data con datos normalizados\")\n",
    "print (np.mean(errores_norm))\n",
    "print (\"---------------------------------\")\n",
    "print (\"Desviacion tipica del fichero: example1.data con datos normalizados\")\n",
    "print (np.std(errores_norm))\n",
    "print (\"---------------------------------\")\n",
    "\n",
    "print (\"\\nGenerando grafica del fichero: example1.data\")\n",
    "\n",
    "ii = e.particiones[-1].indicesTrain\n",
    "# plotModel(d.datos[ii,0],d.datos[ii,1],d.datos[ii,-1]!=0,c,\"Frontera\",d.diccionarios)\n",
    "print (\"Grafica generada con exito\")\n",
    "print (\"---------------------------------\")"
   ]
  },
  {
   "cell_type": "code",
   "execution_count": 8,
   "metadata": {},
   "outputs": [
    {
     "name": "stdout",
     "output_type": "stream",
     "text": [
      "Procesando fichero: example1.data\n",
      "---------------------------------\n",
      "Media del fichero: example1.data\n",
      "0.48249999999999993\n",
      "---------------------------------\n",
      "Desviacion tipica del fichero: example1.data\n",
      "0.05249999999999999\n",
      "---------------------------------\n",
      "Media del fichero: example1.data con datos normalizados\n",
      "0.4825000000000001\n",
      "---------------------------------\n",
      "Desviacion tipica del fichero: example1.data con datos normalizados\n",
      "0.05706356105256662\n",
      "---------------------------------\n",
      "\n",
      "Generando grafica del fichero: example1.data\n",
      "Grafica generada con exito\n",
      "---------------------------------\n"
     ]
    }
   ],
   "source": [
    "d = Datos('ConjuntosDatos/example1.data')\n",
    "e = ValidacionCruzada()\n",
    "k = 5\n",
    "\n",
    "c = ClasificadorVecinosProximos(k)\n",
    "errores = c.validacion(particionado=e,dataset=d,clasificador=c)\n",
    "\n",
    "d.calcularMediasDesv(d.extraeDatos(e.particiones[0].indicesTrain))\n",
    "d.normalizarDatos()\n",
    "\n",
    "c = ClasificadorVecinosProximos(k)\n",
    "errores_norm = c.validacion(particionado=e,dataset=d,clasificador=c)\n",
    "\n",
    "print (\"Procesando fichero: example1.data\")\n",
    "print (\"---------------------------------\")\n",
    "print (\"Media del fichero: example1.data\")\n",
    "print (np.average(errores))\n",
    "print (\"---------------------------------\")\n",
    "print (\"Desviacion tipica del fichero: example1.data\")\n",
    "print (np.std(errores))\n",
    "print (\"---------------------------------\")\n",
    "print (\"Media del fichero: example1.data con datos normalizados\")\n",
    "print (np.mean(errores_norm))\n",
    "print (\"---------------------------------\")\n",
    "print (\"Desviacion tipica del fichero: example1.data con datos normalizados\")\n",
    "print (np.std(errores_norm))\n",
    "print (\"---------------------------------\")\n",
    "\n",
    "print (\"\\nGenerando grafica del fichero: example1.data\")\n",
    "\n",
    "ii = e.particiones[-1].indicesTrain\n",
    "# plotModel(d.datos[ii,0],d.datos[ii,1],d.datos[ii,-1]!=0,c,\"Frontera\",d.diccionarios)\n",
    "print (\"Grafica generada con exito\")\n",
    "print (\"---------------------------------\")"
   ]
  },
  {
   "cell_type": "code",
   "execution_count": 9,
   "metadata": {},
   "outputs": [
    {
     "name": "stdout",
     "output_type": "stream",
     "text": [
      "Procesando fichero: example1.data\n",
      "---------------------------------\n",
      "Media del fichero: example1.data\n",
      "0.45500000000000007\n",
      "---------------------------------\n",
      "Desviacion tipica del fichero: example1.data\n",
      "0.0788986691902975\n",
      "---------------------------------\n",
      "Media del fichero: example1.data con datos normalizados\n",
      "0.4600000000000001\n",
      "---------------------------------\n",
      "Desviacion tipica del fichero: example1.data con datos normalizados\n",
      "0.06144102863722253\n",
      "---------------------------------\n",
      "\n",
      "Generando grafica del fichero: example1.data\n",
      "Grafica generada con exito\n",
      "---------------------------------\n"
     ]
    }
   ],
   "source": [
    "d = Datos('ConjuntosDatos/example1.data')\n",
    "e = ValidacionCruzada()\n",
    "k = 11\n",
    "\n",
    "c = ClasificadorVecinosProximos(k)\n",
    "errores = c.validacion(particionado=e,dataset=d,clasificador=c)\n",
    "\n",
    "d.calcularMediasDesv(d.extraeDatos(e.particiones[0].indicesTrain))\n",
    "d.normalizarDatos()\n",
    "\n",
    "c = ClasificadorVecinosProximos(k)\n",
    "errores_norm = c.validacion(particionado=e,dataset=d,clasificador=c)\n",
    "\n",
    "print (\"Procesando fichero: example1.data\")\n",
    "print (\"---------------------------------\")\n",
    "print (\"Media del fichero: example1.data\")\n",
    "print (np.average(errores))\n",
    "print (\"---------------------------------\")\n",
    "print (\"Desviacion tipica del fichero: example1.data\")\n",
    "print (np.std(errores))\n",
    "print (\"---------------------------------\")\n",
    "print (\"Media del fichero: example1.data con datos normalizados\")\n",
    "print (np.mean(errores_norm))\n",
    "print (\"---------------------------------\")\n",
    "print (\"Desviacion tipica del fichero: example1.data con datos normalizados\")\n",
    "print (np.std(errores_norm))\n",
    "print (\"---------------------------------\")\n",
    "\n",
    "print (\"\\nGenerando grafica del fichero: example1.data\")\n",
    "\n",
    "ii = e.particiones[-1].indicesTrain\n",
    "# plotModel(d.datos[ii,0],d.datos[ii,1],d.datos[ii,-1]!=0,c,\"Frontera\",d.diccionarios)\n",
    "print (\"Grafica generada con exito\")\n",
    "print (\"---------------------------------\")"
   ]
  },
  {
   "cell_type": "code",
   "execution_count": 10,
   "metadata": {},
   "outputs": [
    {
     "name": "stdout",
     "output_type": "stream",
     "text": [
      "Procesando fichero: example1.data\n",
      "---------------------------------\n",
      "Media del fichero: example1.data\n",
      "0.49499999999999994\n",
      "---------------------------------\n",
      "Desviacion tipica del fichero: example1.data\n",
      "0.04847679857416328\n",
      "---------------------------------\n",
      "Media del fichero: example1.data con datos normalizados\n",
      "0.48999999999999994\n",
      "---------------------------------\n",
      "Desviacion tipica del fichero: example1.data con datos normalizados\n",
      "0.04636809247747851\n",
      "---------------------------------\n",
      "\n",
      "Generando grafica del fichero: example1.data\n",
      "Grafica generada con exito\n",
      "---------------------------------\n"
     ]
    }
   ],
   "source": [
    "d = Datos('ConjuntosDatos/example1.data')\n",
    "e = ValidacionCruzada()\n",
    "k = 21\n",
    "\n",
    "c = ClasificadorVecinosProximos(k)\n",
    "errores = c.validacion(particionado=e,dataset=d,clasificador=c)\n",
    "\n",
    "d.calcularMediasDesv(d.extraeDatos(e.particiones[0].indicesTrain))\n",
    "d.normalizarDatos()\n",
    "\n",
    "c = ClasificadorVecinosProximos(k)\n",
    "errores_norm = c.validacion(particionado=e,dataset=d,clasificador=c)\n",
    "\n",
    "print (\"Procesando fichero: example1.data\")\n",
    "print (\"---------------------------------\")\n",
    "print (\"Media del fichero: example1.data\")\n",
    "print (np.average(errores))\n",
    "print (\"---------------------------------\")\n",
    "print (\"Desviacion tipica del fichero: example1.data\")\n",
    "print (np.std(errores))\n",
    "print (\"---------------------------------\")\n",
    "print (\"Media del fichero: example1.data con datos normalizados\")\n",
    "print (np.mean(errores_norm))\n",
    "print (\"---------------------------------\")\n",
    "print (\"Desviacion tipica del fichero: example1.data con datos normalizados\")\n",
    "print (np.std(errores_norm))\n",
    "print (\"---------------------------------\")\n",
    "\n",
    "print (\"\\nGenerando grafica del fichero: example1.data\")\n",
    "\n",
    "ii = e.particiones[-1].indicesTrain\n",
    "# plotModel(d.datos[ii,0],d.datos[ii,1],d.datos[ii,-1]!=0,c,\"Frontera\",d.diccionarios)\n",
    "print (\"Grafica generada con exito\")\n",
    "print (\"---------------------------------\")"
   ]
  },
  {
   "cell_type": "code",
   "execution_count": 11,
   "metadata": {},
   "outputs": [
    {
     "name": "stdout",
     "output_type": "stream",
     "text": [
      "Procesando fichero: example1.data\n",
      "---------------------------------\n",
      "Media del fichero: example1.data\n",
      "0.5375\n",
      "---------------------------------\n",
      "Desviacion tipica del fichero: example1.data\n",
      "0.06637959023675875\n",
      "---------------------------------\n",
      "Media del fichero: example1.data con datos normalizados\n",
      "0.5225000000000002\n",
      "---------------------------------\n",
      "Desviacion tipica del fichero: example1.data con datos normalizados\n",
      "0.05640257086339239\n",
      "---------------------------------\n",
      "\n",
      "Generando grafica del fichero: example1.data\n",
      "Grafica generada con exito\n",
      "---------------------------------\n"
     ]
    }
   ],
   "source": [
    "d = Datos('ConjuntosDatos/example1.data')\n",
    "e = ValidacionCruzada()\n",
    "k = 51\n",
    "\n",
    "c = ClasificadorVecinosProximos(k)\n",
    "errores = c.validacion(particionado=e,dataset=d,clasificador=c)\n",
    "\n",
    "d.calcularMediasDesv(d.extraeDatos(e.particiones[0].indicesTrain))\n",
    "d.normalizarDatos()\n",
    "\n",
    "c = ClasificadorVecinosProximos(k)\n",
    "errores_norm = c.validacion(particionado=e,dataset=d,clasificador=c)\n",
    "\n",
    "print (\"Procesando fichero: example1.data\")\n",
    "print (\"---------------------------------\")\n",
    "print (\"Media del fichero: example1.data\")\n",
    "print (np.average(errores))\n",
    "print (\"---------------------------------\")\n",
    "print (\"Desviacion tipica del fichero: example1.data\")\n",
    "print (np.std(errores))\n",
    "print (\"---------------------------------\")\n",
    "print (\"Media del fichero: example1.data con datos normalizados\")\n",
    "print (np.mean(errores_norm))\n",
    "print (\"---------------------------------\")\n",
    "print (\"Desviacion tipica del fichero: example1.data con datos normalizados\")\n",
    "print (np.std(errores_norm))\n",
    "print (\"---------------------------------\")\n",
    "\n",
    "print (\"\\nGenerando grafica del fichero: example1.data\")\n",
    "\n",
    "ii = e.particiones[-1].indicesTrain\n",
    "# plotModel(d.datos[ii,0],d.datos[ii,1],d.datos[ii,-1]!=0,c,\"Frontera\",d.diccionarios)\n",
    "print (\"Grafica generada con exito\")\n",
    "print (\"---------------------------------\")"
   ]
  },
  {
   "cell_type": "markdown",
   "metadata": {},
   "source": [
    "### Example 2"
   ]
  },
  {
   "cell_type": "code",
   "execution_count": 12,
   "metadata": {},
   "outputs": [
    {
     "name": "stdout",
     "output_type": "stream",
     "text": [
      "Procesando fichero: example2.data\n",
      "---------------------------------\n",
      "Media del fichero: example2.data\n",
      "0.46499999999999997\n",
      "---------------------------------\n",
      "Desviacion tipica del fichero: example2.data\n",
      "0.051478150704935\n",
      "---------------------------------\n",
      "Media del fichero: example2.data con datos normalizados\n",
      "0.46499999999999997\n",
      "---------------------------------\n",
      "Desviacion tipica del fichero: example2.data con datos normalizados\n",
      "0.051478150704935\n",
      "---------------------------------\n",
      "\n",
      "Generando grafica del fichero: example2.data\n",
      "Grafica generada con exito\n",
      "---------------------------------\n"
     ]
    }
   ],
   "source": [
    "d = Datos('ConjuntosDatos/example2.data')\n",
    "e = ValidacionCruzada()\n",
    "K = 1\n",
    "\n",
    "c = ClasificadorVecinosProximos(k)\n",
    "errores = c.validacion(particionado=e,dataset=d,clasificador=c)\n",
    "\n",
    "d.calcularMediasDesv(d.extraeDatos(e.particiones[0].indicesTrain))\n",
    "d.normalizarDatos()\n",
    "\n",
    "c = ClasificadorVecinosProximos(k)\n",
    "errores_norm = c.validacion(particionado=e,dataset=d,clasificador=c)\n",
    "\n",
    "print (\"Procesando fichero: example2.data\")\n",
    "print (\"---------------------------------\")\n",
    "print (\"Media del fichero: example2.data\")\n",
    "print (np.average(errores))\n",
    "print (\"---------------------------------\")\n",
    "print (\"Desviacion tipica del fichero: example2.data\")\n",
    "print (np.std(errores))\n",
    "print (\"---------------------------------\")\n",
    "print (\"Media del fichero: example2.data con datos normalizados\")\n",
    "print (np.mean(errores_norm))\n",
    "print (\"---------------------------------\")\n",
    "print (\"Desviacion tipica del fichero: example2.data con datos normalizados\")\n",
    "print (np.std(errores_norm))\n",
    "print (\"---------------------------------\")\n",
    "\n",
    "print (\"\\nGenerando grafica del fichero: example2.data\")\n",
    "\n",
    "ii = e.particiones[-1].indicesTrain\n",
    "# plotModel(d.datos[ii,0],d.datos[ii,1],d.datos[ii,-1]!=0,c,\"Frontera\",d.diccionarios)\n",
    "print (\"Grafica generada con exito\")\n",
    "print (\"---------------------------------\")"
   ]
  },
  {
   "cell_type": "code",
   "execution_count": 13,
   "metadata": {},
   "outputs": [
    {
     "name": "stdout",
     "output_type": "stream",
     "text": [
      "Procesando fichero: example2.data\n",
      "---------------------------------\n",
      "Media del fichero: example2.data\n",
      "0.4899999999999999\n",
      "---------------------------------\n",
      "Desviacion tipica del fichero: example2.data\n",
      "0.07516648189186455\n",
      "---------------------------------\n",
      "Media del fichero: example2.data con datos normalizados\n",
      "0.4899999999999999\n",
      "---------------------------------\n",
      "Desviacion tipica del fichero: example2.data con datos normalizados\n",
      "0.07516648189186455\n",
      "---------------------------------\n",
      "\n",
      "Generando grafica del fichero: example2.data\n",
      "Grafica generada con exito\n",
      "---------------------------------\n"
     ]
    }
   ],
   "source": [
    "d = Datos('ConjuntosDatos/example2.data')\n",
    "e = ValidacionCruzada()\n",
    "K = 3\n",
    "\n",
    "c = ClasificadorVecinosProximos(k)\n",
    "errores = c.validacion(particionado=e,dataset=d,clasificador=c)\n",
    "\n",
    "d.calcularMediasDesv(d.extraeDatos(e.particiones[0].indicesTrain))\n",
    "d.normalizarDatos()\n",
    "\n",
    "c = ClasificadorVecinosProximos(k)\n",
    "errores_norm = c.validacion(particionado=e,dataset=d,clasificador=c)\n",
    "\n",
    "print (\"Procesando fichero: example2.data\")\n",
    "print (\"---------------------------------\")\n",
    "print (\"Media del fichero: example2.data\")\n",
    "print (np.average(errores))\n",
    "print (\"---------------------------------\")\n",
    "print (\"Desviacion tipica del fichero: example2.data\")\n",
    "print (np.std(errores))\n",
    "print (\"---------------------------------\")\n",
    "print (\"Media del fichero: example2.data con datos normalizados\")\n",
    "print (np.mean(errores_norm))\n",
    "print (\"---------------------------------\")\n",
    "print (\"Desviacion tipica del fichero: example2.data con datos normalizados\")\n",
    "print (np.std(errores_norm))\n",
    "print (\"---------------------------------\")\n",
    "\n",
    "print (\"\\nGenerando grafica del fichero: example2.data\")\n",
    "\n",
    "ii = e.particiones[-1].indicesTrain\n",
    "# plotModel(d.datos[ii,0],d.datos[ii,1],d.datos[ii,-1]!=0,c,\"Frontera\",d.diccionarios)\n",
    "print (\"Grafica generada con exito\")\n",
    "print (\"---------------------------------\")"
   ]
  },
  {
   "cell_type": "code",
   "execution_count": 14,
   "metadata": {},
   "outputs": [
    {
     "name": "stdout",
     "output_type": "stream",
     "text": [
      "Procesando fichero: example2.data\n",
      "---------------------------------\n",
      "Media del fichero: example2.data\n",
      "0.52\n",
      "---------------------------------\n",
      "Desviacion tipica del fichero: example2.data\n",
      "0.1041633332799983\n",
      "---------------------------------\n",
      "Media del fichero: example2.data con datos normalizados\n",
      "0.52\n",
      "---------------------------------\n",
      "Desviacion tipica del fichero: example2.data con datos normalizados\n",
      "0.1041633332799983\n",
      "---------------------------------\n",
      "\n",
      "Generando grafica del fichero: example2.data\n",
      "Grafica generada con exito\n",
      "---------------------------------\n"
     ]
    }
   ],
   "source": [
    "d = Datos('ConjuntosDatos/example2.data')\n",
    "e = ValidacionCruzada()\n",
    "K = 5\n",
    "\n",
    "c = ClasificadorVecinosProximos(k)\n",
    "errores = c.validacion(particionado=e,dataset=d,clasificador=c)\n",
    "\n",
    "d.calcularMediasDesv(d.extraeDatos(e.particiones[0].indicesTrain))\n",
    "d.normalizarDatos()\n",
    "\n",
    "c = ClasificadorVecinosProximos(k)\n",
    "errores_norm = c.validacion(particionado=e,dataset=d,clasificador=c)\n",
    "\n",
    "print (\"Procesando fichero: example2.data\")\n",
    "print (\"---------------------------------\")\n",
    "print (\"Media del fichero: example2.data\")\n",
    "print (np.average(errores))\n",
    "print (\"---------------------------------\")\n",
    "print (\"Desviacion tipica del fichero: example2.data\")\n",
    "print (np.std(errores))\n",
    "print (\"---------------------------------\")\n",
    "print (\"Media del fichero: example2.data con datos normalizados\")\n",
    "print (np.mean(errores_norm))\n",
    "print (\"---------------------------------\")\n",
    "print (\"Desviacion tipica del fichero: example2.data con datos normalizados\")\n",
    "print (np.std(errores_norm))\n",
    "print (\"---------------------------------\")\n",
    "\n",
    "print (\"\\nGenerando grafica del fichero: example2.data\")\n",
    "\n",
    "ii = e.particiones[-1].indicesTrain\n",
    "# plotModel(d.datos[ii,0],d.datos[ii,1],d.datos[ii,-1]!=0,c,\"Frontera\",d.diccionarios)\n",
    "print (\"Grafica generada con exito\")\n",
    "print (\"---------------------------------\")"
   ]
  },
  {
   "cell_type": "code",
   "execution_count": 15,
   "metadata": {},
   "outputs": [
    {
     "name": "stdout",
     "output_type": "stream",
     "text": [
      "Procesando fichero: example2.data\n",
      "---------------------------------\n",
      "Media del fichero: example2.data\n",
      "0.48\n",
      "---------------------------------\n",
      "Desviacion tipica del fichero: example2.data\n",
      "0.0714142842854285\n",
      "---------------------------------\n",
      "Media del fichero: example2.data con datos normalizados\n",
      "0.48\n",
      "---------------------------------\n",
      "Desviacion tipica del fichero: example2.data con datos normalizados\n",
      "0.0714142842854285\n",
      "---------------------------------\n",
      "\n",
      "Generando grafica del fichero: example2.data\n",
      "Grafica generada con exito\n",
      "---------------------------------\n"
     ]
    }
   ],
   "source": [
    "d = Datos('ConjuntosDatos/example2.data')\n",
    "e = ValidacionCruzada()\n",
    "K = 11\n",
    "\n",
    "c = ClasificadorVecinosProximos(k)\n",
    "errores = c.validacion(particionado=e,dataset=d,clasificador=c)\n",
    "\n",
    "d.calcularMediasDesv(d.extraeDatos(e.particiones[0].indicesTrain))\n",
    "d.normalizarDatos()\n",
    "\n",
    "c = ClasificadorVecinosProximos(k)\n",
    "errores_norm = c.validacion(particionado=e,dataset=d,clasificador=c)\n",
    "\n",
    "print (\"Procesando fichero: example2.data\")\n",
    "print (\"---------------------------------\")\n",
    "print (\"Media del fichero: example2.data\")\n",
    "print (np.average(errores))\n",
    "print (\"---------------------------------\")\n",
    "print (\"Desviacion tipica del fichero: example2.data\")\n",
    "print (np.std(errores))\n",
    "print (\"---------------------------------\")\n",
    "print (\"Media del fichero: example2.data con datos normalizados\")\n",
    "print (np.mean(errores_norm))\n",
    "print (\"---------------------------------\")\n",
    "print (\"Desviacion tipica del fichero: example2.data con datos normalizados\")\n",
    "print (np.std(errores_norm))\n",
    "print (\"---------------------------------\")\n",
    "\n",
    "print (\"\\nGenerando grafica del fichero: example2.data\")\n",
    "\n",
    "ii = e.particiones[-1].indicesTrain\n",
    "# plotModel(d.datos[ii,0],d.datos[ii,1],d.datos[ii,-1]!=0,c,\"Frontera\",d.diccionarios)\n",
    "print (\"Grafica generada con exito\")\n",
    "print (\"---------------------------------\")"
   ]
  },
  {
   "cell_type": "code",
   "execution_count": 16,
   "metadata": {},
   "outputs": [
    {
     "name": "stdout",
     "output_type": "stream",
     "text": [
      "Procesando fichero: example2.data\n",
      "---------------------------------\n",
      "Media del fichero: example2.data\n",
      "0.49499999999999994\n",
      "---------------------------------\n",
      "Desviacion tipica del fichero: example2.data\n",
      "0.06873863542433761\n",
      "---------------------------------\n",
      "Media del fichero: example2.data con datos normalizados\n",
      "0.49499999999999994\n",
      "---------------------------------\n",
      "Desviacion tipica del fichero: example2.data con datos normalizados\n",
      "0.06873863542433761\n",
      "---------------------------------\n",
      "\n",
      "Generando grafica del fichero: example2.data\n",
      "Grafica generada con exito\n",
      "---------------------------------\n"
     ]
    }
   ],
   "source": [
    "d = Datos('ConjuntosDatos/example2.data')\n",
    "e = ValidacionCruzada()\n",
    "K = 21\n",
    "\n",
    "c = ClasificadorVecinosProximos(k)\n",
    "errores = c.validacion(particionado=e,dataset=d,clasificador=c)\n",
    "\n",
    "d.calcularMediasDesv(d.extraeDatos(e.particiones[0].indicesTrain))\n",
    "d.normalizarDatos()\n",
    "\n",
    "c = ClasificadorVecinosProximos(k)\n",
    "errores_norm = c.validacion(particionado=e,dataset=d,clasificador=c)\n",
    "\n",
    "print (\"Procesando fichero: example2.data\")\n",
    "print (\"---------------------------------\")\n",
    "print (\"Media del fichero: example2.data\")\n",
    "print (np.average(errores))\n",
    "print (\"---------------------------------\")\n",
    "print (\"Desviacion tipica del fichero: example2.data\")\n",
    "print (np.std(errores))\n",
    "print (\"---------------------------------\")\n",
    "print (\"Media del fichero: example2.data con datos normalizados\")\n",
    "print (np.mean(errores_norm))\n",
    "print (\"---------------------------------\")\n",
    "print (\"Desviacion tipica del fichero: example2.data con datos normalizados\")\n",
    "print (np.std(errores_norm))\n",
    "print (\"---------------------------------\")\n",
    "\n",
    "print (\"\\nGenerando grafica del fichero: example2.data\")\n",
    "\n",
    "ii = e.particiones[-1].indicesTrain\n",
    "# plotModel(d.datos[ii,0],d.datos[ii,1],d.datos[ii,-1]!=0,c,\"Frontera\",d.diccionarios)\n",
    "print (\"Grafica generada con exito\")\n",
    "print (\"---------------------------------\")"
   ]
  },
  {
   "cell_type": "code",
   "execution_count": 17,
   "metadata": {},
   "outputs": [
    {
     "name": "stdout",
     "output_type": "stream",
     "text": [
      "Procesando fichero: example2.data\n",
      "---------------------------------\n",
      "Media del fichero: example2.data\n",
      "0.48500000000000015\n",
      "---------------------------------\n",
      "Desviacion tipica del fichero: example2.data\n",
      "0.06999999999999999\n",
      "---------------------------------\n",
      "Media del fichero: example2.data con datos normalizados\n",
      "0.48500000000000015\n",
      "---------------------------------\n",
      "Desviacion tipica del fichero: example2.data con datos normalizados\n",
      "0.06999999999999999\n",
      "---------------------------------\n",
      "\n",
      "Generando grafica del fichero: example2.data\n",
      "Grafica generada con exito\n",
      "---------------------------------\n"
     ]
    }
   ],
   "source": [
    "d = Datos('ConjuntosDatos/example2.data')\n",
    "e = ValidacionCruzada()\n",
    "K = 51\n",
    "\n",
    "c = ClasificadorVecinosProximos(k)\n",
    "errores = c.validacion(particionado=e,dataset=d,clasificador=c)\n",
    "\n",
    "d.calcularMediasDesv(d.extraeDatos(e.particiones[0].indicesTrain))\n",
    "d.normalizarDatos()\n",
    "\n",
    "c = ClasificadorVecinosProximos(k)\n",
    "errores_norm = c.validacion(particionado=e,dataset=d,clasificador=c)\n",
    "\n",
    "print (\"Procesando fichero: example2.data\")\n",
    "print (\"---------------------------------\")\n",
    "print (\"Media del fichero: example2.data\")\n",
    "print (np.average(errores))\n",
    "print (\"---------------------------------\")\n",
    "print (\"Desviacion tipica del fichero: example2.data\")\n",
    "print (np.std(errores))\n",
    "print (\"---------------------------------\")\n",
    "print (\"Media del fichero: example2.data con datos normalizados\")\n",
    "print (np.mean(errores_norm))\n",
    "print (\"---------------------------------\")\n",
    "print (\"Desviacion tipica del fichero: example2.data con datos normalizados\")\n",
    "print (np.std(errores_norm))\n",
    "print (\"---------------------------------\")\n",
    "\n",
    "print (\"\\nGenerando grafica del fichero: example2.data\")\n",
    "\n",
    "ii = e.particiones[-1].indicesTrain\n",
    "# plotModel(d.datos[ii,0],d.datos[ii,1],d.datos[ii,-1]!=0,c,\"Frontera\",d.diccionarios)\n",
    "print (\"Grafica generada con exito\")\n",
    "print (\"---------------------------------\")"
   ]
  },
  {
   "cell_type": "markdown",
   "metadata": {},
   "source": [
    "### Example 3"
   ]
  },
  {
   "cell_type": "code",
   "execution_count": 18,
   "metadata": {},
   "outputs": [
    {
     "name": "stdout",
     "output_type": "stream",
     "text": [
      "Procesando fichero: example3.data\n",
      "---------------------------------\n",
      "Media del fichero: example3.data\n",
      "0.45750000000000013\n",
      "---------------------------------\n",
      "Desviacion tipica del fichero: example3.data\n",
      "0.04616546328154847\n",
      "---------------------------------\n",
      "Media del fichero: example3.data con datos normalizados\n",
      "0.45750000000000013\n",
      "---------------------------------\n",
      "Desviacion tipica del fichero: example3.data con datos normalizados\n",
      "0.04616546328154847\n",
      "---------------------------------\n",
      "\n",
      "Generando grafica del fichero: example3.data\n",
      "Grafica generada con exito\n",
      "---------------------------------\n"
     ]
    }
   ],
   "source": [
    "d = Datos('ConjuntosDatos/example3.data')\n",
    "e = ValidacionCruzada()\n",
    "K = 1\n",
    "\n",
    "c = ClasificadorVecinosProximos(k)\n",
    "errores = c.validacion(particionado=e,dataset=d,clasificador=c)\n",
    "\n",
    "d.calcularMediasDesv(d.extraeDatos(e.particiones[0].indicesTrain))\n",
    "d.normalizarDatos()\n",
    "\n",
    "c = ClasificadorVecinosProximos(k)\n",
    "errores_norm = c.validacion(particionado=e,dataset=d,clasificador=c)\n",
    "\n",
    "print (\"Procesando fichero: example3.data\")\n",
    "print (\"---------------------------------\")\n",
    "print (\"Media del fichero: example3.data\")\n",
    "print (np.average(errores))\n",
    "print (\"---------------------------------\")\n",
    "print (\"Desviacion tipica del fichero: example3.data\")\n",
    "print (np.std(errores))\n",
    "print (\"---------------------------------\")\n",
    "print (\"Media del fichero: example3.data con datos normalizados\")\n",
    "print (np.mean(errores_norm))\n",
    "print (\"---------------------------------\")\n",
    "print (\"Desviacion tipica del fichero: example3.data con datos normalizados\")\n",
    "print (np.std(errores_norm))\n",
    "print (\"---------------------------------\")\n",
    "\n",
    "print (\"\\nGenerando grafica del fichero: example3.data\")\n",
    "\n",
    "ii = e.particiones[-1].indicesTrain\n",
    "# plotModel(d.datos[ii,0],d.datos[ii,1],d.datos[ii,-1]!=0,c,\"Frontera\",d.diccionarios)\n",
    "print (\"Grafica generada con exito\")\n",
    "print (\"---------------------------------\")"
   ]
  },
  {
   "cell_type": "code",
   "execution_count": 19,
   "metadata": {},
   "outputs": [
    {
     "name": "stdout",
     "output_type": "stream",
     "text": [
      "Procesando fichero: example3.data\n",
      "---------------------------------\n",
      "Media del fichero: example3.data\n",
      "0.46749999999999997\n",
      "---------------------------------\n",
      "Desviacion tipica del fichero: example3.data\n",
      "0.0922293337284836\n",
      "---------------------------------\n",
      "Media del fichero: example3.data con datos normalizados\n",
      "0.465\n",
      "---------------------------------\n",
      "Desviacion tipica del fichero: example3.data con datos normalizados\n",
      "0.0874642784226795\n",
      "---------------------------------\n",
      "\n",
      "Generando grafica del fichero: example3.data\n",
      "Grafica generada con exito\n",
      "---------------------------------\n"
     ]
    }
   ],
   "source": [
    "d = Datos('ConjuntosDatos/example3.data')\n",
    "e = ValidacionCruzada()\n",
    "K = 3\n",
    "\n",
    "c = ClasificadorVecinosProximos(k)\n",
    "errores = c.validacion(particionado=e,dataset=d,clasificador=c)\n",
    "\n",
    "d.calcularMediasDesv(d.extraeDatos(e.particiones[0].indicesTrain))\n",
    "d.normalizarDatos()\n",
    "\n",
    "c = ClasificadorVecinosProximos(k)\n",
    "errores_norm = c.validacion(particionado=e,dataset=d,clasificador=c)\n",
    "\n",
    "print (\"Procesando fichero: example3.data\")\n",
    "print (\"---------------------------------\")\n",
    "print (\"Media del fichero: example3.data\")\n",
    "print (np.average(errores))\n",
    "print (\"---------------------------------\")\n",
    "print (\"Desviacion tipica del fichero: example3.data\")\n",
    "print (np.std(errores))\n",
    "print (\"---------------------------------\")\n",
    "print (\"Media del fichero: example3.data con datos normalizados\")\n",
    "print (np.mean(errores_norm))\n",
    "print (\"---------------------------------\")\n",
    "print (\"Desviacion tipica del fichero: example3.data con datos normalizados\")\n",
    "print (np.std(errores_norm))\n",
    "print (\"---------------------------------\")\n",
    "\n",
    "print (\"\\nGenerando grafica del fichero: example3.data\")\n",
    "\n",
    "ii = e.particiones[-1].indicesTrain\n",
    "# plotModel(d.datos[ii,0],d.datos[ii,1],d.datos[ii,-1]!=0,c,\"Frontera\",d.diccionarios)\n",
    "print (\"Grafica generada con exito\")\n",
    "print (\"---------------------------------\")"
   ]
  },
  {
   "cell_type": "code",
   "execution_count": 20,
   "metadata": {},
   "outputs": [
    {
     "name": "stdout",
     "output_type": "stream",
     "text": [
      "Procesando fichero: example3.data\n",
      "---------------------------------\n",
      "Media del fichero: example3.data\n",
      "0.46499999999999997\n",
      "---------------------------------\n",
      "Desviacion tipica del fichero: example3.data\n",
      "0.06244997998398398\n",
      "---------------------------------\n",
      "Media del fichero: example3.data con datos normalizados\n",
      "0.46499999999999997\n",
      "---------------------------------\n",
      "Desviacion tipica del fichero: example3.data con datos normalizados\n",
      "0.06244997998398398\n",
      "---------------------------------\n",
      "\n",
      "Generando grafica del fichero: example3.data\n",
      "Grafica generada con exito\n",
      "---------------------------------\n"
     ]
    }
   ],
   "source": [
    "d = Datos('ConjuntosDatos/example3.data')\n",
    "e = ValidacionCruzada()\n",
    "K = 5\n",
    "\n",
    "c = ClasificadorVecinosProximos(k)\n",
    "errores = c.validacion(particionado=e,dataset=d,clasificador=c)\n",
    "\n",
    "d.calcularMediasDesv(d.extraeDatos(e.particiones[0].indicesTrain))\n",
    "d.normalizarDatos()\n",
    "\n",
    "c = ClasificadorVecinosProximos(k)\n",
    "errores_norm = c.validacion(particionado=e,dataset=d,clasificador=c)\n",
    "\n",
    "print (\"Procesando fichero: example3.data\")\n",
    "print (\"---------------------------------\")\n",
    "print (\"Media del fichero: example3.data\")\n",
    "print (np.average(errores))\n",
    "print (\"---------------------------------\")\n",
    "print (\"Desviacion tipica del fichero: example3.data\")\n",
    "print (np.std(errores))\n",
    "print (\"---------------------------------\")\n",
    "print (\"Media del fichero: example3.data con datos normalizados\")\n",
    "print (np.mean(errores_norm))\n",
    "print (\"---------------------------------\")\n",
    "print (\"Desviacion tipica del fichero: example3.data con datos normalizados\")\n",
    "print (np.std(errores_norm))\n",
    "print (\"---------------------------------\")\n",
    "\n",
    "print (\"\\nGenerando grafica del fichero: example3.data\")\n",
    "\n",
    "ii = e.particiones[-1].indicesTrain\n",
    "# plotModel(d.datos[ii,0],d.datos[ii,1],d.datos[ii,-1]!=0,c,\"Frontera\",d.diccionarios)\n",
    "print (\"Grafica generada con exito\")\n",
    "print (\"---------------------------------\")"
   ]
  },
  {
   "cell_type": "code",
   "execution_count": 21,
   "metadata": {},
   "outputs": [
    {
     "name": "stdout",
     "output_type": "stream",
     "text": [
      "Procesando fichero: example3.data\n",
      "---------------------------------\n",
      "Media del fichero: example3.data\n",
      "0.5175\n",
      "---------------------------------\n",
      "Desviacion tipica del fichero: example3.data\n",
      "0.0851836251870041\n",
      "---------------------------------\n",
      "Media del fichero: example3.data con datos normalizados\n",
      "0.5175\n",
      "---------------------------------\n",
      "Desviacion tipica del fichero: example3.data con datos normalizados\n",
      "0.08735702604828074\n",
      "---------------------------------\n",
      "\n",
      "Generando grafica del fichero: example3.data\n",
      "Grafica generada con exito\n",
      "---------------------------------\n"
     ]
    }
   ],
   "source": [
    "d = Datos('ConjuntosDatos/example3.data')\n",
    "e = ValidacionCruzada()\n",
    "K = 11\n",
    "\n",
    "c = ClasificadorVecinosProximos(k)\n",
    "errores = c.validacion(particionado=e,dataset=d,clasificador=c)\n",
    "\n",
    "d.calcularMediasDesv(d.extraeDatos(e.particiones[0].indicesTrain))\n",
    "d.normalizarDatos()\n",
    "\n",
    "c = ClasificadorVecinosProximos(k)\n",
    "errores_norm = c.validacion(particionado=e,dataset=d,clasificador=c)\n",
    "\n",
    "print (\"Procesando fichero: example3.data\")\n",
    "print (\"---------------------------------\")\n",
    "print (\"Media del fichero: example3.data\")\n",
    "print (np.average(errores))\n",
    "print (\"---------------------------------\")\n",
    "print (\"Desviacion tipica del fichero: example3.data\")\n",
    "print (np.std(errores))\n",
    "print (\"---------------------------------\")\n",
    "print (\"Media del fichero: example3.data con datos normalizados\")\n",
    "print (np.mean(errores_norm))\n",
    "print (\"---------------------------------\")\n",
    "print (\"Desviacion tipica del fichero: example3.data con datos normalizados\")\n",
    "print (np.std(errores_norm))\n",
    "print (\"---------------------------------\")\n",
    "\n",
    "print (\"\\nGenerando grafica del fichero: example3.data\")\n",
    "\n",
    "ii = e.particiones[-1].indicesTrain\n",
    "# plotModel(d.datos[ii,0],d.datos[ii,1],d.datos[ii,-1]!=0,c,\"Frontera\",d.diccionarios)\n",
    "print (\"Grafica generada con exito\")\n",
    "print (\"---------------------------------\")"
   ]
  },
  {
   "cell_type": "code",
   "execution_count": 22,
   "metadata": {},
   "outputs": [
    {
     "name": "stdout",
     "output_type": "stream",
     "text": [
      "Procesando fichero: example3.data\n",
      "---------------------------------\n",
      "Media del fichero: example3.data\n",
      "0.5575000000000001\n",
      "---------------------------------\n",
      "Desviacion tipica del fichero: example3.data\n",
      "0.08591420138719792\n",
      "---------------------------------\n",
      "Media del fichero: example3.data con datos normalizados\n",
      "0.5600000000000002\n",
      "---------------------------------\n",
      "Desviacion tipica del fichero: example3.data con datos normalizados\n",
      "0.08154753215150044\n",
      "---------------------------------\n",
      "\n",
      "Generando grafica del fichero: example3.data\n",
      "Grafica generada con exito\n",
      "---------------------------------\n"
     ]
    }
   ],
   "source": [
    "d = Datos('ConjuntosDatos/example3.data')\n",
    "e = ValidacionCruzada()\n",
    "K = 21\n",
    "\n",
    "c = ClasificadorVecinosProximos(k)\n",
    "errores = c.validacion(particionado=e,dataset=d,clasificador=c)\n",
    "\n",
    "d.calcularMediasDesv(d.extraeDatos(e.particiones[0].indicesTrain))\n",
    "d.normalizarDatos()\n",
    "\n",
    "c = ClasificadorVecinosProximos(k)\n",
    "errores_norm = c.validacion(particionado=e,dataset=d,clasificador=c)\n",
    "\n",
    "print (\"Procesando fichero: example3.data\")\n",
    "print (\"---------------------------------\")\n",
    "print (\"Media del fichero: example3.data\")\n",
    "print (np.average(errores))\n",
    "print (\"---------------------------------\")\n",
    "print (\"Desviacion tipica del fichero: example3.data\")\n",
    "print (np.std(errores))\n",
    "print (\"---------------------------------\")\n",
    "print (\"Media del fichero: example3.data con datos normalizados\")\n",
    "print (np.mean(errores_norm))\n",
    "print (\"---------------------------------\")\n",
    "print (\"Desviacion tipica del fichero: example3.data con datos normalizados\")\n",
    "print (np.std(errores_norm))\n",
    "print (\"---------------------------------\")\n",
    "\n",
    "print (\"\\nGenerando grafica del fichero: example3.data\")\n",
    "\n",
    "ii = e.particiones[-1].indicesTrain\n",
    "# plotModel(d.datos[ii,0],d.datos[ii,1],d.datos[ii,-1]!=0,c,\"Frontera\",d.diccionarios)\n",
    "print (\"Grafica generada con exito\")\n",
    "print (\"---------------------------------\")"
   ]
  },
  {
   "cell_type": "code",
   "execution_count": 23,
   "metadata": {},
   "outputs": [
    {
     "name": "stdout",
     "output_type": "stream",
     "text": [
      "Procesando fichero: example3.data\n",
      "---------------------------------\n",
      "Media del fichero: example3.data\n",
      "0.5175\n",
      "---------------------------------\n",
      "Desviacion tipica del fichero: example3.data\n",
      "0.06523994175349945\n",
      "---------------------------------\n",
      "Media del fichero: example3.data con datos normalizados\n",
      "0.5175\n",
      "---------------------------------\n",
      "Desviacion tipica del fichero: example3.data con datos normalizados\n",
      "0.06523994175349945\n",
      "---------------------------------\n",
      "\n",
      "Generando grafica del fichero: example3.data\n",
      "Grafica generada con exito\n",
      "---------------------------------\n"
     ]
    }
   ],
   "source": [
    "d = Datos('ConjuntosDatos/example3.data')\n",
    "e = ValidacionCruzada()\n",
    "K = 51\n",
    "\n",
    "c = ClasificadorVecinosProximos(k)\n",
    "errores = c.validacion(particionado=e,dataset=d,clasificador=c)\n",
    "\n",
    "d.calcularMediasDesv(d.extraeDatos(e.particiones[0].indicesTrain))\n",
    "d.normalizarDatos()\n",
    "\n",
    "c = ClasificadorVecinosProximos(k)\n",
    "errores_norm = c.validacion(particionado=e,dataset=d,clasificador=c)\n",
    "\n",
    "print (\"Procesando fichero: example3.data\")\n",
    "print (\"---------------------------------\")\n",
    "print (\"Media del fichero: example3.data\")\n",
    "print (np.average(errores))\n",
    "print (\"---------------------------------\")\n",
    "print (\"Desviacion tipica del fichero: example3.data\")\n",
    "print (np.std(errores))\n",
    "print (\"---------------------------------\")\n",
    "print (\"Media del fichero: example3.data con datos normalizados\")\n",
    "print (np.mean(errores_norm))\n",
    "print (\"---------------------------------\")\n",
    "print (\"Desviacion tipica del fichero: example3.data con datos normalizados\")\n",
    "print (np.std(errores_norm))\n",
    "print (\"---------------------------------\")\n",
    "\n",
    "print (\"\\nGenerando grafica del fichero: example3.data\")\n",
    "ii = e.particiones[-1].indicesTrain\n",
    "# plotModel(d.datos[ii,0],d.datos[ii,1],d.datos[ii,-1]!=0,c,\"Frontera\",d.diccionarios)\n",
    "print (\"Grafica generada con exito\")\n",
    "print (\"---------------------------------\")"
   ]
  },
  {
   "cell_type": "markdown",
   "metadata": {},
   "source": [
    "### Example 4"
   ]
  },
  {
   "cell_type": "code",
   "execution_count": 24,
   "metadata": {},
   "outputs": [
    {
     "name": "stdout",
     "output_type": "stream",
     "text": [
      "Procesando fichero: example4.data\n",
      "---------------------------------\n",
      "Media del fichero: example4.data\n",
      "0.53\n",
      "---------------------------------\n",
      "Desviacion tipica del fichero: example4.data\n",
      "0.1268857754044952\n",
      "---------------------------------\n",
      "Media del fichero: example4.data con datos normalizados\n",
      "0.4600000000000001\n",
      "---------------------------------\n",
      "Desviacion tipica del fichero: example4.data con datos normalizados\n",
      "0.0916515138991168\n",
      "---------------------------------\n",
      "\n",
      "Generando grafica del fichero: example4.data\n",
      "Grafica generada con exito\n",
      "---------------------------------\n"
     ]
    }
   ],
   "source": [
    "d = Datos('ConjuntosDatos/example4.data')\n",
    "e = ValidacionCruzada()\n",
    "K = 1\n",
    "\n",
    "c = ClasificadorVecinosProximos(k)\n",
    "errores = c.validacion(particionado=e,dataset=d,clasificador=c)\n",
    "\n",
    "d.calcularMediasDesv(d.extraeDatos(e.particiones[0].indicesTrain))\n",
    "d.normalizarDatos()\n",
    "\n",
    "c = ClasificadorVecinosProximos(k)\n",
    "errores_norm = c.validacion(particionado=e,dataset=d,clasificador=c)\n",
    "\n",
    "print (\"Procesando fichero: example4.data\")\n",
    "print (\"---------------------------------\")\n",
    "print (\"Media del fichero: example4.data\")\n",
    "print (np.average(errores))\n",
    "print (\"---------------------------------\")\n",
    "print (\"Desviacion tipica del fichero: example4.data\")\n",
    "print (np.std(errores))\n",
    "print (\"---------------------------------\")\n",
    "print (\"Media del fichero: example4.data con datos normalizados\")\n",
    "print (np.mean(errores_norm))\n",
    "print (\"---------------------------------\")\n",
    "print (\"Desviacion tipica del fichero: example4.data con datos normalizados\")\n",
    "print (np.std(errores_norm))\n",
    "print (\"---------------------------------\")\n",
    "print (\"\\nGenerando grafica del fichero: example4.data\")\n",
    "\n",
    "ii = e.particiones[-1].indicesTrain\n",
    "# plotModel(d.datos[ii,0],d.datos[ii,1],d.datos[ii,-1]!=0,c,\"Frontera\",d.diccionarios)\n",
    "print (\"Grafica generada con exito\")\n",
    "print (\"---------------------------------\")"
   ]
  },
  {
   "cell_type": "code",
   "execution_count": 25,
   "metadata": {},
   "outputs": [
    {
     "name": "stdout",
     "output_type": "stream",
     "text": [
      "Procesando fichero: example4.data\n",
      "---------------------------------\n",
      "Media del fichero: example4.data\n",
      "0.49000000000000005\n",
      "---------------------------------\n",
      "Desviacion tipica del fichero: example4.data\n",
      "0.16999999999999998\n",
      "---------------------------------\n",
      "Media del fichero: example4.data con datos normalizados\n",
      "0.43\n",
      "---------------------------------\n",
      "Desviacion tipica del fichero: example4.data con datos normalizados\n",
      "0.1268857754044952\n",
      "---------------------------------\n",
      "Grafica generada con exito\n",
      "---------------------------------\n"
     ]
    }
   ],
   "source": [
    "d = Datos('ConjuntosDatos/example4.data')\n",
    "e = ValidacionCruzada()\n",
    "K = 3\n",
    "\n",
    "c = ClasificadorVecinosProximos(k)\n",
    "errores = c.validacion(particionado=e,dataset=d,clasificador=c)\n",
    "\n",
    "d.calcularMediasDesv(d.extraeDatos(e.particiones[0].indicesTrain))\n",
    "d.normalizarDatos()\n",
    "\n",
    "c = ClasificadorVecinosProximos(k)\n",
    "errores_norm = c.validacion(particionado=e,dataset=d,clasificador=c)\n",
    "\n",
    "print (\"Procesando fichero: example4.data\")\n",
    "print (\"---------------------------------\")\n",
    "print (\"Media del fichero: example4.data\")\n",
    "print (np.average(errores))\n",
    "print (\"---------------------------------\")\n",
    "print (\"Desviacion tipica del fichero: example4.data\")\n",
    "print (np.std(errores))\n",
    "print (\"---------------------------------\")\n",
    "print (\"Media del fichero: example4.data con datos normalizados\")\n",
    "print (np.mean(errores_norm))\n",
    "print (\"---------------------------------\")\n",
    "print (\"Desviacion tipica del fichero: example4.data con datos normalizados\")\n",
    "print (np.std(errores_norm))\n",
    "print (\"---------------------------------\")\n",
    "\n",
    "ii = e.particiones[-1].indicesTrain\n",
    "# plotModel(d.datos[ii,0],d.datos[ii,1],d.datos[ii,-1]!=0,c,\"Frontera\",d.diccionarios)\n",
    "print (\"Grafica generada con exito\")\n",
    "print (\"---------------------------------\")"
   ]
  },
  {
   "cell_type": "code",
   "execution_count": 26,
   "metadata": {},
   "outputs": [
    {
     "name": "stdout",
     "output_type": "stream",
     "text": [
      "Procesando fichero: example4.data\n",
      "---------------------------------\n",
      "Media del fichero: example4.data\n",
      "0.5099999999999999\n",
      "---------------------------------\n",
      "Desviacion tipica del fichero: example4.data\n",
      "0.12999999999999998\n",
      "---------------------------------\n",
      "Media del fichero: example4.data con datos normalizados\n",
      "0.43\n",
      "---------------------------------\n",
      "Desviacion tipica del fichero: example4.data con datos normalizados\n",
      "0.14177446878757824\n",
      "---------------------------------\n",
      "Grafica generada con exito\n",
      "---------------------------------\n"
     ]
    }
   ],
   "source": [
    "d = Datos('ConjuntosDatos/example4.data')\n",
    "e = ValidacionCruzada()\n",
    "K = 5\n",
    "\n",
    "c = ClasificadorVecinosProximos(k)\n",
    "errores = c.validacion(particionado=e,dataset=d,clasificador=c)\n",
    "\n",
    "d.calcularMediasDesv(d.extraeDatos(e.particiones[0].indicesTrain))\n",
    "d.normalizarDatos()\n",
    "\n",
    "c = ClasificadorVecinosProximos(k)\n",
    "errores_norm = c.validacion(particionado=e,dataset=d,clasificador=c)\n",
    "\n",
    "print (\"Procesando fichero: example4.data\")\n",
    "print (\"---------------------------------\")\n",
    "print (\"Media del fichero: example4.data\")\n",
    "print (np.average(errores))\n",
    "print (\"---------------------------------\")\n",
    "print (\"Desviacion tipica del fichero: example4.data\")\n",
    "print (np.std(errores))\n",
    "print (\"---------------------------------\")\n",
    "print (\"Media del fichero: example4.data con datos normalizados\")\n",
    "print (np.mean(errores_norm))\n",
    "print (\"---------------------------------\")\n",
    "print (\"Desviacion tipica del fichero: example4.data con datos normalizados\")\n",
    "print (np.std(errores_norm))\n",
    "print (\"---------------------------------\")\n",
    "\n",
    "ii = e.particiones[-1].indicesTrain\n",
    "# plotModel(d.datos[ii,0],d.datos[ii,1],d.datos[ii,-1]!=0,c,\"Frontera\",d.diccionarios)\n",
    "print (\"Grafica generada con exito\")\n",
    "print (\"---------------------------------\")"
   ]
  },
  {
   "cell_type": "code",
   "execution_count": 27,
   "metadata": {},
   "outputs": [
    {
     "name": "stdout",
     "output_type": "stream",
     "text": [
      "Procesando fichero: example4.data\n",
      "---------------------------------\n",
      "Media del fichero: example4.data\n",
      "0.54\n",
      "---------------------------------\n",
      "Desviacion tipica del fichero: example4.data\n",
      "0.12\n",
      "---------------------------------\n",
      "Media del fichero: example4.data con datos normalizados\n",
      "0.36\n",
      "---------------------------------\n",
      "Desviacion tipica del fichero: example4.data con datos normalizados\n",
      "0.12806248474865697\n",
      "---------------------------------\n",
      "Grafica generada con exito\n",
      "---------------------------------\n"
     ]
    }
   ],
   "source": [
    "d = Datos('ConjuntosDatos/example4.data')\n",
    "e = ValidacionCruzada()\n",
    "K = 11\n",
    "\n",
    "c = ClasificadorVecinosProximos(k)\n",
    "errores = c.validacion(particionado=e,dataset=d,clasificador=c)\n",
    "\n",
    "d.calcularMediasDesv(d.extraeDatos(e.particiones[0].indicesTrain))\n",
    "d.normalizarDatos()\n",
    "\n",
    "c = ClasificadorVecinosProximos(k)\n",
    "errores_norm = c.validacion(particionado=e,dataset=d,clasificador=c)\n",
    "\n",
    "print (\"Procesando fichero: example4.data\")\n",
    "print (\"---------------------------------\")\n",
    "print (\"Media del fichero: example4.data\")\n",
    "print (np.average(errores))\n",
    "print (\"---------------------------------\")\n",
    "print (\"Desviacion tipica del fichero: example4.data\")\n",
    "print (np.std(errores))\n",
    "print (\"---------------------------------\")\n",
    "print (\"Media del fichero: example4.data con datos normalizados\")\n",
    "print (np.mean(errores_norm))\n",
    "print (\"---------------------------------\")\n",
    "print (\"Desviacion tipica del fichero: example4.data con datos normalizados\")\n",
    "print (np.std(errores_norm))\n",
    "print (\"---------------------------------\")\n",
    "\n",
    "ii = e.particiones[-1].indicesTrain\n",
    "# plotModel(d.datos[ii,0],d.datos[ii,1],d.datos[ii,-1]!=0,c,\"Frontera\",d.diccionarios)\n",
    "print (\"Grafica generada con exito\")\n",
    "print (\"---------------------------------\")"
   ]
  },
  {
   "cell_type": "code",
   "execution_count": 28,
   "metadata": {},
   "outputs": [
    {
     "name": "stdout",
     "output_type": "stream",
     "text": [
      "Procesando fichero: example4.data\n",
      "---------------------------------\n",
      "Media del fichero: example4.data\n",
      "0.5599999999999999\n",
      "---------------------------------\n",
      "Desviacion tipica del fichero: example4.data\n",
      "0.1113552872566004\n",
      "---------------------------------\n",
      "Media del fichero: example4.data con datos normalizados\n",
      "0.52\n",
      "---------------------------------\n",
      "Desviacion tipica del fichero: example4.data con datos normalizados\n",
      "0.09797958971132711\n",
      "---------------------------------\n",
      "Grafica generada con exito\n",
      "---------------------------------\n"
     ]
    }
   ],
   "source": [
    "d = Datos('ConjuntosDatos/example4.data')\n",
    "e = ValidacionCruzada()\n",
    "K = 21\n",
    "\n",
    "c = ClasificadorVecinosProximos(k)\n",
    "errores = c.validacion(particionado=e,dataset=d,clasificador=c)\n",
    "\n",
    "d.calcularMediasDesv(d.extraeDatos(e.particiones[0].indicesTrain))\n",
    "d.normalizarDatos()\n",
    "\n",
    "c = ClasificadorVecinosProximos(k)\n",
    "errores_norm = c.validacion(particionado=e,dataset=d,clasificador=c)\n",
    "\n",
    "print (\"Procesando fichero: example4.data\")\n",
    "print (\"---------------------------------\")\n",
    "print (\"Media del fichero: example4.data\")\n",
    "print (np.average(errores))\n",
    "print (\"---------------------------------\")\n",
    "print (\"Desviacion tipica del fichero: example4.data\")\n",
    "print (np.std(errores))\n",
    "print (\"---------------------------------\")\n",
    "print (\"Media del fichero: example4.data con datos normalizados\")\n",
    "print (np.mean(errores_norm))\n",
    "print (\"---------------------------------\")\n",
    "print (\"Desviacion tipica del fichero: example4.data con datos normalizados\")\n",
    "print (np.std(errores_norm))\n",
    "print (\"---------------------------------\")\n",
    "\n",
    "ii = e.particiones[-1].indicesTrain\n",
    "# plotModel(d.datos[ii,0],d.datos[ii,1],d.datos[ii,-1]!=0,c,\"Frontera\",d.diccionarios)\n",
    "print (\"Grafica generada con exito\")\n",
    "print (\"---------------------------------\")"
   ]
  },
  {
   "cell_type": "code",
   "execution_count": 29,
   "metadata": {},
   "outputs": [
    {
     "name": "stdout",
     "output_type": "stream",
     "text": [
      "Procesando fichero: example4.data\n",
      "---------------------------------\n",
      "Media del fichero: example4.data\n",
      "0.5499999999999999\n",
      "---------------------------------\n",
      "Desviacion tipica del fichero: example4.data\n",
      "0.12845232578665128\n",
      "---------------------------------\n",
      "Media del fichero: example4.data con datos normalizados\n",
      "0.43\n",
      "---------------------------------\n",
      "Desviacion tipica del fichero: example4.data con datos normalizados\n",
      "0.10999999999999999\n",
      "---------------------------------\n",
      "Grafica generada con exito\n",
      "---------------------------------\n"
     ]
    }
   ],
   "source": [
    "d = Datos('ConjuntosDatos/example4.data')\n",
    "e = ValidacionCruzada()\n",
    "K = 51\n",
    "\n",
    "c = ClasificadorVecinosProximos(k)\n",
    "errores = c.validacion(particionado=e,dataset=d,clasificador=c)\n",
    "\n",
    "d.calcularMediasDesv(d.extraeDatos(e.particiones[0].indicesTrain))\n",
    "d.normalizarDatos()\n",
    "\n",
    "c = ClasificadorVecinosProximos(k)\n",
    "errores_norm = c.validacion(particionado=e,dataset=d,clasificador=c)\n",
    "\n",
    "print (\"Procesando fichero: example4.data\")\n",
    "print (\"---------------------------------\")\n",
    "print (\"Media del fichero: example4.data\")\n",
    "print (np.average(errores))\n",
    "print (\"---------------------------------\")\n",
    "print (\"Desviacion tipica del fichero: example4.data\")\n",
    "print (np.std(errores))\n",
    "print (\"---------------------------------\")\n",
    "print (\"Media del fichero: example4.data con datos normalizados\")\n",
    "print (np.mean(errores_norm))\n",
    "print (\"---------------------------------\")\n",
    "print (\"Desviacion tipica del fichero: example4.data con datos normalizados\")\n",
    "print (np.std(errores_norm))\n",
    "print (\"---------------------------------\")\n",
    "\n",
    "ii = e.particiones[-1].indicesTrain\n",
    "# plotModel(d.datos[ii,0],d.datos[ii,1],d.datos[ii,-1]!=0,c,\"Frontera\",d.diccionarios)\n",
    "print (\"Grafica generada con exito\")\n",
    "print (\"---------------------------------\")"
   ]
  },
  {
   "cell_type": "markdown",
   "metadata": {},
   "source": [
    "#### Comentarios Knn"
   ]
  },
  {
   "cell_type": "markdown",
   "metadata": {},
   "source": [
    "En primer lugar, comentar que hemos dejado todas las funciones plotModel comentadas porque tardan tanto que en nuestros ordenadores no hemos podido ejecutarlas. \n",
    "\n",
    "Por otro lado, las medias de errores nos dan muy superiores a sklearn. Se puede observar que en nuestra implementación hay diferencia entre normalizar los datos y no normalizarlos, pero los errores simepre rondan el 50%. \n",
    "\n",
    "Creemos que en estamos arrastrando un error de una práctica anterior que hace que estos datos salgan incorrectamente. En este caso tendremos que revisar el código, corregirlo y volver a realizar las pruebas. "
   ]
  },
  {
   "cell_type": "markdown",
   "metadata": {},
   "source": [
    "## Regresión Logística"
   ]
  },
  {
   "cell_type": "markdown",
   "metadata": {},
   "source": [
    "### Example 1"
   ]
  },
  {
   "cell_type": "code",
   "execution_count": 30,
   "metadata": {},
   "outputs": [
    {
     "name": "stdout",
     "output_type": "stream",
     "text": [
      "Media del fichero: example1.data\n",
      "0.4525\n",
      "---------------------------------\n",
      "Desviacion tipica del fichero: example1.data\n",
      "0.052974050251042744\n",
      "---------------------------------\n",
      "Grafica generada con exito\n",
      "---------------------------------\n"
     ]
    },
    {
     "data": {
      "image/png": "[encoded data removed]",
      "text/plain": [
       "<Figure size 432x288 with 1 Axes>"
      ]
     },
     "metadata": {
      "needs_background": "light"
     },
     "output_type": "display_data"
    }
   ],
   "source": [
    "d = Datos('ConjuntosDatos/example1.data')\n",
    "e = ValidacionCruzada()\n",
    "e.creaParticiones(d.datos)\n",
    "\n",
    "c = ClasificadorRegresionLogistica(50)\n",
    "c.entrenamiento(datostrain=d.extraeDatos(idx=e.particiones[-1].indicesTrain))\n",
    "\n",
    "errores = c.validacion(particionado=e,dataset=d,clasificador=c)\n",
    "\n",
    "print (\"Media del fichero: example1.data\")\n",
    "print (np.average(errores))\n",
    "print (\"---------------------------------\")\n",
    "print (\"Desviacion tipica del fichero: example1.data\")\n",
    "print (np.std(errores))\n",
    "print (\"---------------------------------\")\n",
    "\n",
    "\n",
    "ii = e.particiones[-1].indicesTrain\n",
    "plotModel(d.datos[ii,0],d.datos[ii,1],d.datos[ii,-1]!=0,c,\"Frontera\",d.diccionarios)\n",
    "print (\"Grafica generada con exito\")\n",
    "print (\"---------------------------------\")"
   ]
  },
  {
   "cell_type": "code",
   "execution_count": 31,
   "metadata": {},
   "outputs": [
    {
     "name": "stdout",
     "output_type": "stream",
     "text": [
      "REGRESION LOGISTICA SCIKIT\n",
      "---------------------------------\n",
      "Procesando fichero: example1.data\n",
      "---------------------------------\n",
      "Media erronea del fichero: example1.data  : 0.5775 con Desviacion Tipica (std) =  0.05963430220938282\n",
      "---------------------------------\n"
     ]
    },
    {
     "data": {
      "image/png": "[encoded data removed]",
      "text/plain": [
       "<Figure size 288x216 with 1 Axes>"
      ]
     },
     "metadata": {},
     "output_type": "display_data"
    }
   ],
   "source": [
    "print (\"REGRESION LOGISTICA SCIKIT\")\n",
    "print (\"---------------------------------\")\n",
    "print (\"Procesando fichero: example1.data\")\n",
    "print (\"---------------------------------\")\n",
    "dataset = Datos(\"./ConjuntosDatos/example1.data\")\n",
    "\n",
    "X=dataset.datos[:,:-1]\n",
    "Y=dataset.datos[:,-1]\n",
    "\n",
    "logreg = LogisticRegression(C=1e5,max_iter=100) # Creando el modelo\n",
    "\n",
    "logreg.fit(X, Y) #ajustando el modelo\n",
    "\n",
    "# we create an instance of Neighbours Classifier and fit the data.\n",
    "logreg.fit(X, Y)\n",
    "\n",
    "cvs =cross_val_score(logreg, X,Y, cv=10,n_jobs=-1)\n",
    "print (\"Media erronea del fichero: example1.data  :\",(1-np.mean((cvs))), \"con Desviacion Tipica (std) = \", (np.std((cvs))))\n",
    "print (\"---------------------------------\")\n",
    "\n",
    "h = .02\n",
    "# Plot the decision boundary. For that, we will assign a color to each\n",
    "# point in the mesh [x_min, x_max]x[y_min, y_max].\n",
    "x_min, x_max = X[:, 0].min() - .5, X[:, 0].max() + .5\n",
    "y_min, y_max = X[:, 1].min() - .5, X[:, 1].max() + .5\n",
    "xx, yy = np.meshgrid(np.arange(x_min, x_max, h), np.arange(y_min, y_max, h))\n",
    "Z = logreg.predict(np.c_[xx.ravel(), yy.ravel()])\n",
    "\n",
    "# Put the result into a color plot\n",
    "Z = Z.reshape(xx.shape)\n",
    "plt.figure(1, figsize=(4, 3))\n",
    "plt.pcolormesh(xx, yy, Z, cmap=plt.cm.Paired)\n",
    "\n",
    "# Plot also the training points\n",
    "plt.scatter(X[:, 0], X[:, 1], c=Y, edgecolors='k', cmap=plt.cm.Paired)\n",
    "plt.xlabel('x')\n",
    "plt.ylabel('y')\n",
    "plt.xlim(xx.min(), xx.max())\n",
    "plt.ylim(yy.min(), yy.max())\n",
    "plt.xticks(())\n",
    "plt.yticks(())\n",
    "plt.show()"
   ]
  },
  {
   "cell_type": "markdown",
   "metadata": {},
   "source": [
    "#### Comentarios Example 1 - RL"
   ]
  },
  {
   "cell_type": "markdown",
   "metadata": {},
   "source": [
    "A pesar de que nuestro hiper-plano no es igual a sklearn, la media de erroes nos da inferior. Pensamos que tenemos algún error en el código que hace que la frontera no salga igual a sklearn, pero en este caso, debido a la distribución de los datos nos da un resultado que podemos considerar correcto"
   ]
  },
  {
   "cell_type": "markdown",
   "metadata": {},
   "source": [
    "### Example 2"
   ]
  },
  {
   "cell_type": "code",
   "execution_count": 38,
   "metadata": {},
   "outputs": [
    {
     "name": "stdout",
     "output_type": "stream",
     "text": [
      "Media del fichero: example2.data\n",
      "0.24999999999999992\n",
      "---------------------------------\n",
      "Desviacion tipica del fichero: example2.data\n",
      "0.06800735254367724\n",
      "---------------------------------\n",
      "Grafica generada con exito\n",
      "---------------------------------\n"
     ]
    },
    {
     "data": {
      "image/png": "[encoded data removed]",
      "text/plain": [
       "<Figure size 432x288 with 1 Axes>"
      ]
     },
     "metadata": {
      "needs_background": "light"
     },
     "output_type": "display_data"
    }
   ],
   "source": [
    "d = Datos('ConjuntosDatos/example2.data')\n",
    "e = ValidacionCruzada()\n",
    "e.creaParticiones(d.datos)\n",
    "\n",
    "c = ClasificadorRegresionLogistica(50)\n",
    "c.entrenamiento(datostrain=d.extraeDatos(idx=e.particiones[-1].indicesTrain))\n",
    "\n",
    "errores = c.validacion(particionado=e,dataset=d,clasificador=c)\n",
    "\n",
    "print (\"Media del fichero: example2.data\")\n",
    "print (np.average(errores))\n",
    "print (\"---------------------------------\")\n",
    "print (\"Desviacion tipica del fichero: example2.data\")\n",
    "print (np.std(errores))\n",
    "print (\"---------------------------------\")\n",
    "\n",
    "\n",
    "ii = e.particiones[-1].indicesTrain\n",
    "plotModel(d.datos[ii,0],d.datos[ii,1],d.datos[ii,-1]!=0,c,\"Frontera\",d.diccionarios)\n",
    "print (\"Grafica generada con exito\")\n",
    "print (\"---------------------------------\")"
   ]
  },
  {
   "cell_type": "code",
   "execution_count": 39,
   "metadata": {},
   "outputs": [
    {
     "name": "stdout",
     "output_type": "stream",
     "text": [
      "REGRESION LOGISTICA SCIKIT\n",
      "---------------------------------\n",
      "Procesando fichero: example2.data\n",
      "---------------------------------\n",
      "Media erronea del fichero: example2.data  : 0.55 con Desviacion Tipica (std) =  0.12399596767637244\n",
      "---------------------------------\n"
     ]
    },
    {
     "data": {
      "image/png": "[encoded data removed]",
      "text/plain": [
       "<Figure size 288x216 with 1 Axes>"
      ]
     },
     "metadata": {},
     "output_type": "display_data"
    }
   ],
   "source": [
    "print (\"REGRESION LOGISTICA SCIKIT\")\n",
    "print (\"---------------------------------\")\n",
    "print (\"Procesando fichero: example2.data\")\n",
    "print (\"---------------------------------\")\n",
    "dataset = Datos(\"./ConjuntosDatos/example2.data\")\n",
    "\n",
    "X=dataset.datos[:,:-1]\n",
    "Y=dataset.datos[:,-1]\n",
    "\n",
    "logreg = LogisticRegression(C=1e5) # Creando el modelo\n",
    "\n",
    "logreg.fit(X, Y) #ajustando el modelo\n",
    "\n",
    "# we create an instance of Neighbours Classifier and fit the data.\n",
    "logreg.fit(X, Y)\n",
    "\n",
    "cvs =cross_val_score(logreg, X,Y, cv=10,n_jobs=-1)\n",
    "print (\"Media erronea del fichero: example2.data  :\",(1-np.mean((cvs))), \"con Desviacion Tipica (std) = \", (np.std((cvs))))\n",
    "print (\"---------------------------------\")\n",
    "\n",
    "\n",
    "# Plot the decision boundary. For that, we will assign a color to each\n",
    "# point in the mesh [x_min, x_max]x[y_min, y_max].\n",
    "x_min, x_max = X[:, 0].min() - .5, X[:, 0].max() + .5\n",
    "y_min, y_max = X[:, 1].min() - .5, X[:, 1].max() + .5\n",
    "xx, yy = np.meshgrid(np.arange(x_min, x_max, h), np.arange(y_min, y_max, h))\n",
    "Z = logreg.predict(np.c_[xx.ravel(), yy.ravel()])\n",
    "\n",
    "# Put the result into a color plot\n",
    "Z = Z.reshape(xx.shape)\n",
    "plt.figure(1, figsize=(4, 3))\n",
    "plt.pcolormesh(xx, yy, Z, cmap=plt.cm.Paired)\n",
    "\n",
    "# Plot also the training points\n",
    "plt.scatter(X[:, 0], X[:, 1], c=Y, edgecolors='k', cmap=plt.cm.Paired)\n",
    "plt.xlabel('x')\n",
    "plt.ylabel('y')\n",
    "plt.xlim(xx.min(), xx.max())\n",
    "plt.ylim(yy.min(), yy.max())\n",
    "plt.xticks(())\n",
    "plt.yticks(())\n",
    "plt.show()"
   ]
  },
  {
   "cell_type": "markdown",
   "metadata": {},
   "source": [
    "#### Comentarios example 2 - RL"
   ]
  },
  {
   "cell_type": "markdown",
   "metadata": {},
   "source": [
    "Este ejemplo nos varía mucho la salida entre ejecuciones, por lo que hay casos que da una media de error similar, y otras veces que da una media menor. No diríamos que los resultados son incorrectos, pero como hemos comentado antes, es posible que un error en el código esté dando estos resultados."
   ]
  },
  {
   "cell_type": "markdown",
   "metadata": {},
   "source": [
    "### Example 3"
   ]
  },
  {
   "cell_type": "code",
   "execution_count": 42,
   "metadata": {},
   "outputs": [
    {
     "name": "stdout",
     "output_type": "stream",
     "text": [
      "Media del fichero: example3.data\n",
      "0.5050000000000001\n",
      "---------------------------------\n",
      "Desviacion tipica del fichero: example3.data\n",
      "0.08124038404635961\n",
      "---------------------------------\n",
      "Grafica generada con exito\n",
      "---------------------------------\n"
     ]
    },
    {
     "data": {
      "image/png": "[encoded data removed]",
      "text/plain": [
       "<Figure size 432x288 with 1 Axes>"
      ]
     },
     "metadata": {
      "needs_background": "light"
     },
     "output_type": "display_data"
    }
   ],
   "source": [
    "d = Datos('ConjuntosDatos/example3.data')\n",
    "e = ValidacionCruzada()\n",
    "e.creaParticiones(d.datos)\n",
    "\n",
    "c = ClasificadorRegresionLogistica(50)\n",
    "c.entrenamiento(datostrain=d.extraeDatos(idx=e.particiones[-1].indicesTrain))\n",
    "\n",
    "errores = c.validacion(particionado=e,dataset=d,clasificador=c)\n",
    "\n",
    "print (\"Media del fichero: example3.data\")\n",
    "print (np.average(errores))\n",
    "print (\"---------------------------------\")\n",
    "print (\"Desviacion tipica del fichero: example3.data\")\n",
    "print (np.std(errores))\n",
    "print (\"---------------------------------\")\n",
    "\n",
    "ii = e.particiones[-1].indicesTrain\n",
    "plotModel(d.datos[ii,0],d.datos[ii,1],d.datos[ii,-1]!=0,c,\"Frontera\",d.diccionarios)\n",
    "print (\"Grafica generada con exito\")\n",
    "print (\"---------------------------------\")"
   ]
  },
  {
   "cell_type": "code",
   "execution_count": 35,
   "metadata": {},
   "outputs": [
    {
     "name": "stdout",
     "output_type": "stream",
     "text": [
      "REGRESION LOGISTICA SCIKIT\n",
      "---------------------------------\n",
      "Procesando fichero: example3.data\n",
      "---------------------------------\n",
      "Media erronea del fichero: example3.data  : 0.535 con Desviacion Tipica (std) =  0.06910137480542626\n",
      "---------------------------------\n"
     ]
    },
    {
     "data": {
      "image/png": "[encoded data removed]",
      "text/plain": [
       "<Figure size 288x216 with 1 Axes>"
      ]
     },
     "metadata": {},
     "output_type": "display_data"
    }
   ],
   "source": [
    "print (\"REGRESION LOGISTICA SCIKIT\")\n",
    "print (\"---------------------------------\")\n",
    "print (\"Procesando fichero: example3.data\")\n",
    "print (\"---------------------------------\")\n",
    "dataset = Datos(\"./ConjuntosDatos/example3.data\")\n",
    "\n",
    "X=dataset.datos[:,:-1]\n",
    "Y=dataset.datos[:,-1]\n",
    "\n",
    "\n",
    "\n",
    "logreg = LogisticRegression(C=1e5) # Creando el modelo\n",
    "\n",
    "logreg.fit(X, Y) #ajustando el modelo\n",
    "\n",
    "# we create an instance of Neighbours Classifier and fit the data.\n",
    "logreg.fit(X, Y)\n",
    "\n",
    "cvs =cross_val_score(logreg, X,Y, cv=10,n_jobs=-1)\n",
    "print (\"Media erronea del fichero: example3.data  :\",(1-np.mean((cvs))), \"con Desviacion Tipica (std) = \", (np.std((cvs))))\n",
    "print (\"---------------------------------\")\n",
    "\n",
    "\n",
    "# Plot the decision boundary. For that, we will assign a color to each\n",
    "# point in the mesh [x_min, x_max]x[y_min, y_max].\n",
    "x_min, x_max = X[:, 0].min() - .5, X[:, 0].max() + .5\n",
    "y_min, y_max = X[:, 1].min() - .5, X[:, 1].max() + .5\n",
    "xx, yy = np.meshgrid(np.arange(x_min, x_max, h), np.arange(y_min, y_max, h))\n",
    "Z = logreg.predict(np.c_[xx.ravel(), yy.ravel()])\n",
    "\n",
    "# Put the result into a color plot\n",
    "Z = Z.reshape(xx.shape)\n",
    "plt.figure(1, figsize=(4, 3))\n",
    "plt.pcolormesh(xx, yy, Z, cmap=plt.cm.Paired)\n",
    "\n",
    "# Plot also the training points\n",
    "plt.scatter(X[:, 0], X[:, 1], c=Y, edgecolors='k', cmap=plt.cm.Paired)\n",
    "plt.xlabel('x')\n",
    "plt.ylabel('y')\n",
    "plt.xlim(xx.min(), xx.max())\n",
    "plt.ylim(yy.min(), yy.max())\n",
    "plt.xticks(())\n",
    "plt.yticks(())\n",
    "plt.show()"
   ]
  },
  {
   "cell_type": "markdown",
   "metadata": {},
   "source": [
    "#### Comentarios example 3 - RL"
   ]
  },
  {
   "cell_type": "markdown",
   "metadata": {},
   "source": [
    "En este caso las medias de errores siempre son parecidas, al rededor de 50% de acierto. A diferencia de sklearn, nuestro clasificador consigue un 50% porque la frontera no separa correctamente. Como se puede ver en la gráfica, pinta todo del mismo color, por lo que acierta todos los puntos de ese color.\n",
    "\n",
    "Sin embargo, la gráfica de sklearn muestra que debería separar con un hiper-plano por la mitad, y acertar la mitad de los puntos en cada color."
   ]
  },
  {
   "cell_type": "markdown",
   "metadata": {},
   "source": [
    "### Example 4"
   ]
  },
  {
   "cell_type": "code",
   "execution_count": 43,
   "metadata": {},
   "outputs": [
    {
     "name": "stdout",
     "output_type": "stream",
     "text": [
      "Media del fichero: example4.data\n",
      "0.5\n",
      "---------------------------------\n",
      "Desviacion tipica del fichero: example4.data\n",
      "0.15491933384829668\n",
      "---------------------------------\n",
      "Grafica generada con exito\n",
      "---------------------------------\n"
     ]
    },
    {
     "data": {
      "image/png": "[encoded data removed]",
      "text/plain": [
       "<Figure size 432x288 with 1 Axes>"
      ]
     },
     "metadata": {
      "needs_background": "light"
     },
     "output_type": "display_data"
    }
   ],
   "source": [
    "d = Datos('ConjuntosDatos/example4.data')\n",
    "e = ValidacionCruzada()\n",
    "e.creaParticiones(d.datos)\n",
    "\n",
    "c = ClasificadorRegresionLogistica(50)\n",
    "c.entrenamiento(datostrain=d.extraeDatos(idx=e.particiones[-1].indicesTrain))\n",
    "\n",
    "errores = c.validacion(particionado=e,dataset=d,clasificador=c)\n",
    "\n",
    "print (\"Media del fichero: example4.data\")\n",
    "print (np.average(errores))\n",
    "print (\"---------------------------------\")\n",
    "print (\"Desviacion tipica del fichero: example4.data\")\n",
    "print (np.std(errores))\n",
    "print (\"---------------------------------\")\n",
    "\n",
    "\n",
    "ii = e.particiones[-1].indicesTrain\n",
    "plotModel(d.datos[ii,0],d.datos[ii,1],d.datos[ii,-1]!=0,c,\"Frontera\",d.diccionarios)\n",
    "print (\"Grafica generada con exito\")\n",
    "print (\"---------------------------------\")"
   ]
  },
  {
   "cell_type": "code",
   "execution_count": 44,
   "metadata": {},
   "outputs": [
    {
     "name": "stdout",
     "output_type": "stream",
     "text": [
      "REGRESION LOGISTICA SCIKIT\n",
      "---------------------------------\n",
      "Procesando fichero: example4.data\n",
      "---------------------------------\n",
      "Media erronea del fichero: example4.data  : 0.0 con Desviacion Tipica (std) =  0.0\n",
      "---------------------------------\n"
     ]
    },
    {
     "data": {
      "image/png": "[encoded data removed]",
      "text/plain": [
       "<Figure size 288x216 with 1 Axes>"
      ]
     },
     "metadata": {},
     "output_type": "display_data"
    }
   ],
   "source": [
    "#import matplotlib.pyplot as plt\n",
    "#%matplotlib inline\n",
    "import numpy as np\n",
    "from sklearn.linear_model import LogisticRegression\n",
    "import Datos\n",
    "\n",
    "from sklearn.model_selection import cross_val_score\n",
    "from Datos import Datos\n",
    "\n",
    "\n",
    "print (\"REGRESION LOGISTICA SCIKIT\")\n",
    "print (\"---------------------------------\")\n",
    "print (\"Procesando fichero: example4.data\")\n",
    "print (\"---------------------------------\")\n",
    "dataset = Datos(\"./ConjuntosDatos/example4.data\")\n",
    "\n",
    "X=dataset.datos[:,:-1]\n",
    "Y=dataset.datos[:,-1]\n",
    "\n",
    "\n",
    "\n",
    "logreg = LogisticRegression(C=1e5) # Creando el modelo\n",
    "\n",
    "logreg.fit(X, Y) #ajustando el modelo\n",
    "\n",
    "# we create an instance of Neighbours Classifier and fit the data.\n",
    "logreg.fit(X, Y)\n",
    "\n",
    "cvs =cross_val_score(logreg, X,Y, cv=10,n_jobs=-1)\n",
    "print (\"Media erronea del fichero: example4.data  :\",(1-np.mean((cvs))), \"con Desviacion Tipica (std) = \", (np.std((cvs))))\n",
    "print (\"---------------------------------\")\n",
    "\n",
    "\n",
    "# Plot the decision boundary. For that, we will assign a color to each\n",
    "# point in the mesh [x_min, x_max]x[y_min, y_max].\n",
    "x_min, x_max = X[:, 0].min() - .5, X[:, 0].max() + .5\n",
    "y_min, y_max = X[:, 1].min() - .5, X[:, 1].max() + .5\n",
    "xx, yy = np.meshgrid(np.arange(x_min, x_max, h), np.arange(y_min, y_max, h))\n",
    "Z = logreg.predict(np.c_[xx.ravel(), yy.ravel()])\n",
    "\n",
    "# Put the result into a color plot\n",
    "Z = Z.reshape(xx.shape)\n",
    "plt.figure(1, figsize=(4, 3))\n",
    "plt.pcolormesh(xx, yy, Z, cmap=plt.cm.Paired)\n",
    "\n",
    "# Plot also the training points\n",
    "plt.scatter(X[:, 0], X[:, 1], c=Y, edgecolors='k', cmap=plt.cm.Paired)\n",
    "plt.xlabel('x')\n",
    "plt.ylabel('y')\n",
    "plt.xlim(xx.min(), xx.max())\n",
    "plt.ylim(yy.min(), yy.max())\n",
    "plt.xticks(())\n",
    "plt.yticks(())\n",
    "plt.show()"
   ]
  },
  {
   "cell_type": "markdown",
   "metadata": {},
   "source": [
    "#### Comentarios example 4 - RL"
   ]
  },
  {
   "cell_type": "markdown",
   "metadata": {},
   "source": [
    "En éste caso sí que podemos decir que nuestro algoritmo no clasifica correctamente. En sklearn el error es de 0, y el hiper-plano divide correctamente los dos conjuntos de datos. \n",
    "\n",
    "En nuestro algoritmo observamos que de nuevo \"colorea\" todo el gráfico con un color, y acierta sólo los puntos de ese color.\n",
    "\n",
    "Con estos datos deducimos que en nuestro algoritmo hay algún error por encontrar, arreglar y volver a ejecutar las pruebas."
   ]
  }
 ],
 "metadata": {
  "kernelspec": {
   "display_name": "Python 3",
   "language": "python",
   "name": "python3"
  },
  "language_info": {
   "codemirror_mode": {
    "name": "ipython",
    "version": 3
   },
   "file_extension": ".py",
   "mimetype": "text/x-python",
   "name": "python",
   "nbconvert_exporter": "python",
   "pygments_lexer": "ipython3",
   "version": "3.7.0"
  }
 },
 "nbformat": 4,
 "nbformat_minor": 2
}
