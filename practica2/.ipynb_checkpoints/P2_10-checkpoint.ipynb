{
 "cells": [
  {
   "cell_type": "code",
   "execution_count": 1,
   "metadata": {},
   "outputs": [],
   "source": [
    "from Datos import Datos\n",
    "from Clasificador import  ClasificadorVecinosProximos,ClasificadorRegresionLogistica,Clasificador\n",
    "from EstrategiaParticionado import  ValidacionCruzada,ValidacionSimple,ValidacionBootstrap\n",
    "import numpy as np\n",
    "from sklearn.linear_model import LogisticRegression\n",
    "from sklearn import preprocessing\n",
    "from sklearn.model_selection import cross_val_score\n",
    "from sklearn.neighbors import KNeighborsClassifier\n",
    "from sklearn.metrics import accuracy_score\n",
    "from scipy.special import expit\n",
    "from plotModel import plotModel\n",
    "import matplotlib.pyplot as plt\n",
    "from IPython.display import HTML, display\n",
    "%matplotlib inline"
   ]
  },
  {
   "cell_type": "markdown",
   "metadata": {},
   "source": [
    "# Apartado 1"
   ]
  },
  {
   "cell_type": "markdown",
   "metadata": {},
   "source": [
    "## Vecinos próximos"
   ]
  },
  {
   "cell_type": "code",
   "execution_count": 37,
   "metadata": {},
   "outputs": [
    {
     "name": "stdout",
     "output_type": "stream",
     "text": [
      "VECINOS PROXIMOS SCIKIT\n",
      "---------------------------------\n",
      "Procesando fichero: example1.data\n",
      "---------------------------------\n",
      "K =  1\n",
      "Media erronea del fichero: example1.data : 0.17000000000000015 con Desviacion Tipica (std) =  0.06204836822995429\n",
      "---------------------------------\n",
      "K =  3\n",
      "Media erronea del fichero: example1.data : 0.14249999999999985 con Desviacion Tipica (std) =  0.06427480066091222\n",
      "---------------------------------\n",
      "K =  5\n",
      "Media erronea del fichero: example1.data : 0.135 con Desviacion Tipica (std) =  0.05830951894845303\n",
      "---------------------------------\n",
      "K =  11\n",
      "Media erronea del fichero: example1.data : 0.13749999999999996 con Desviacion Tipica (std) =  0.05031152949374529\n",
      "---------------------------------\n",
      "K =  21\n",
      "Media erronea del fichero: example1.data : 0.14250000000000007 con Desviacion Tipica (std) =  0.07335700375560605\n",
      "---------------------------------\n",
      "K =  51\n",
      "Media erronea del fichero: example1.data : 0.125 con Desviacion Tipica (std) =  0.048733971724044825\n",
      "---------------------------------\n"
     ]
    }
   ],
   "source": [
    "\n",
    "print (\"VECINOS PROXIMOS SCIKIT\")\n",
    "print (\"---------------------------------\")\n",
    "print (\"Procesando fichero: example1.data\")\n",
    "print (\"---------------------------------\")\n",
    "dataset = Datos(\"./ConjuntosDatos/example1.data\")    \n",
    "X=dataset.datos[:,:-1]\n",
    "Y=dataset.datos[:,-1]\n",
    "for i in [1,3,5,11,21,51]:\n",
    "    print (\"K = \",  i)\n",
    "    resultado = KNeighborsClassifier(n_neighbors=i)\n",
    "    cvs = cross_val_score(resultado, X,Y, cv=10)\n",
    "    print (\"Media erronea del fichero: example1.data :\",(1-np.mean((cvs))), \"con Desviacion Tipica (std) = \", (np.std((cvs))))\n",
    "    print (\"---------------------------------\")"
   ]
  },
  {
   "cell_type": "markdown",
   "metadata": {},
   "source": [
    "Vamos a ejecutar todos los conjuntos de datos, primero sin normalizar y luego normalizando los datos"
   ]
  },
  {
   "cell_type": "markdown",
   "metadata": {},
   "source": [
    "### Example 1"
   ]
  },
  {
   "cell_type": "code",
   "execution_count": 29,
   "metadata": {
    "scrolled": true
   },
   "outputs": [
    {
     "name": "stdout",
     "output_type": "stream",
     "text": [
      "Procesando fichero: example1.data\n",
      "---------------------------------\n",
      "Media del fichero: example1.data\n",
      "0.5025000000000001\n",
      "---------------------------------\n",
      "Desviacion tipica del fichero: example1.data\n",
      "0.07941190087134296\n",
      "---------------------------------\n",
      "Media del fichero: example1.data con datos normalizados\n",
      "0.4849999999999999\n",
      "---------------------------------\n",
      "Desviacion tipica del fichero: example1.data con datos normalizados\n",
      "0.07681145747868608\n",
      "---------------------------------\n",
      "\n",
      "Generando grafica del fichero: example1.data\n",
      "Grafica generada con exito\n",
      "---------------------------------\n"
     ]
    }
   ],
   "source": [
    "d = Datos('ConjuntosDatos/example1.data')\n",
    "\n",
    "e = ValidacionCruzada()\n",
    "e.creaParticiones(d.datos)\n",
    "\n",
    "k = 1\n",
    "\n",
    "c = ClasificadorVecinosProximos(k)\n",
    "errores = c.validacion(particionado=e,dataset=d,clasificador=c)\n",
    "\n",
    "d.calcularMediasDesv(d.extraeDatos(e.particiones[0].indicesTrain))\n",
    "d.normalizarDatos()\n",
    "\n",
    "c = ClasificadorVecinosProximos(k)\n",
    "errores_norm = c.validacion(particionado=e,dataset=d,clasificador=c)\n",
    "\n",
    "print (\"Procesando fichero: example1.data\")\n",
    "print (\"---------------------------------\")\n",
    "print (\"Media del fichero: example1.data\")\n",
    "print (np.mean(errores))\n",
    "print (\"---------------------------------\")\n",
    "print (\"Desviacion tipica del fichero: example1.data\")\n",
    "print (np.std(errores))\n",
    "print (\"---------------------------------\")\n",
    "print (\"Media del fichero: example1.data con datos normalizados\")\n",
    "print (np.mean(errores_norm))\n",
    "print (\"---------------------------------\")\n",
    "print (\"Desviacion tipica del fichero: example1.data con datos normalizados\")\n",
    "print (np.std(errores_norm))\n",
    "print (\"---------------------------------\")\n",
    "print (\"\\nGenerando grafica del fichero: example1.data\")\n",
    "\n",
    "ii = e.particiones[-1].indicesTrain\n",
    "# plotModel(d.datos[ii,0],d.datos[ii,1],d.datos[ii,-1]!=0,c,\"Frontera\",d.diccionarios)\n",
    "print (\"Grafica generada con exito\")\n",
    "print (\"---------------------------------\")\n"
   ]
  },
  {
   "cell_type": "code",
   "execution_count": 30,
   "metadata": {},
   "outputs": [
    {
     "name": "stdout",
     "output_type": "stream",
     "text": [
      "Procesando fichero: example1.data\n",
      "---------------------------------\n",
      "Media del fichero: example1.data\n",
      "0.48749999999999993\n",
      "---------------------------------\n",
      "Desviacion tipica del fichero: example1.data\n",
      "0.10621322893124\n",
      "---------------------------------\n",
      "Media del fichero: example1.data con datos normalizados\n",
      "0.49000000000000005\n",
      "---------------------------------\n",
      "Desviacion tipica del fichero: example1.data con datos normalizados\n",
      "\n",
      "Generando grafica del fichero: example1.data\n",
      "Grafica generada con exito\n",
      "---------------------------------\n"
     ]
    }
   ],
   "source": [
    "d = Datos('ConjuntosDatos/example1.data')\n",
    "\n",
    "k = 3\n",
    "\n",
    "c = ClasificadorVecinosProximos(k)\n",
    "errores = c.validacion(particionado=e,dataset=d,clasificador=c)\n",
    "\n",
    "d.calcularMediasDesv(d.extraeDatos(e.particiones[0].indicesTrain))\n",
    "d.normalizarDatos()\n",
    "\n",
    "c = ClasificadorVecinosProximos(k)\n",
    "errores_norm = c.validacion(particionado=e,dataset=d,clasificador=c)\n",
    "\n",
    "print (\"Procesando fichero: example1.data\")\n",
    "print (\"---------------------------------\")\n",
    "print (\"Media del fichero: example1.data\")\n",
    "print (np.average(errores))\n",
    "print (\"---------------------------------\")\n",
    "print (\"Desviacion tipica del fichero: example1.data\")\n",
    "print (np.std(errores))\n",
    "print (\"---------------------------------\")\n",
    "print (\"Media del fichero: example1.data con datos normalizados\")\n",
    "print (np.mean(errores_norm))\n",
    "print (\"---------------------------------\")\n",
    "print (\"Desviacion tipica del fichero: example1.data con datos normalizados\")\n",
    "print (\"\\nGenerando grafica del fichero: example1.data\")\n",
    "\n",
    "ii = e.particiones[-1].indicesTrain\n",
    "# plotModel(d.datos[ii,0],d.datos[ii,1],d.datos[ii,-1]!=0,c,\"Frontera\",d.diccionarios)\n",
    "print (\"Grafica generada con exito\")\n",
    "print (\"---------------------------------\")"
   ]
  },
  {
   "cell_type": "code",
   "execution_count": 4,
   "metadata": {},
   "outputs": [
    {
     "name": "stdout",
     "output_type": "stream",
     "text": [
      "Procesando fichero: example1.data\n",
      "---------------------------------\n",
      "Media del fichero: example1.data\n",
      "0.49250000000000005\n",
      "---------------------------------\n",
      "Desviacion tipica del fichero: example1.data\n",
      "0.05814851674806504\n",
      "---------------------------------\n",
      "\n",
      "Generando grafica del fichero: example1.data\n",
      "Grafica generada con exito\n",
      "---------------------------------\n"
     ]
    }
   ],
   "source": [
    "d = Datos('ConjuntosDatos/example1.data')\n",
    "\n",
    "k = 5\n",
    "\n",
    "c = ClasificadorVecinosProximos(k)\n",
    "errores = c.validacion(particionado=e,dataset=d,clasificador=c)\n",
    "\n",
    "d.calcularMediasDesv(d.extraeDatos(e.particiones[0].indicesTrain))\n",
    "d.normalizarDatos()\n",
    "\n",
    "c = ClasificadorVecinosProximos(k)\n",
    "errores_norm = c.validacion(particionado=e,dataset=d,clasificador=c)\n",
    "\n",
    "print (\"Procesando fichero: example1.data\")\n",
    "print (\"---------------------------------\")\n",
    "print (\"Media del fichero: example1.data\")\n",
    "print (np.average(errores))\n",
    "print (\"---------------------------------\")\n",
    "print (\"Desviacion tipica del fichero: example1.data\")\n",
    "print (np.std(errores))\n",
    "print (\"---------------------------------\")\n",
    "print (\"Media del fichero: example1.data con datos normalizados\")\n",
    "print (np.mean(errores_norm))\n",
    "print (\"---------------------------------\")\n",
    "print (\"Desviacion tipica del fichero: example1.data con datos normalizados\")\n",
    "print (\"\\nGenerando grafica del fichero: example1.data\")\n",
    "\n",
    "ii = e.particiones[-1].indicesTrain\n",
    "# plotModel(d.datos[ii,0],d.datos[ii,1],d.datos[ii,-1]!=0,c,\"Frontera\",d.diccionarios)\n",
    "print (\"Grafica generada con exito\")\n",
    "print (\"---------------------------------\")"
   ]
  },
  {
   "cell_type": "code",
   "execution_count": 31,
   "metadata": {},
   "outputs": [
    {
     "name": "stdout",
     "output_type": "stream",
     "text": [
      "Procesando fichero: example1.data\n",
      "---------------------------------\n",
      "Media del fichero: example1.data\n",
      "0.49499999999999994\n",
      "---------------------------------\n",
      "Desviacion tipica del fichero: example1.data\n",
      "0.0696419413859206\n",
      "---------------------------------\n",
      "Media del fichero: example1.data con datos normalizados\n",
      "0.4900000000000001\n",
      "---------------------------------\n",
      "Desviacion tipica del fichero: example1.data con datos normalizados\n",
      "\n",
      "Generando grafica del fichero: example1.data\n",
      "Grafica generada con exito\n",
      "---------------------------------\n"
     ]
    }
   ],
   "source": [
    "d = Datos('ConjuntosDatos/example1.data')\n",
    "\n",
    "k = 11\n",
    "\n",
    "c = ClasificadorVecinosProximos(k)\n",
    "errores = c.validacion(particionado=e,dataset=d,clasificador=c)\n",
    "\n",
    "d.calcularMediasDesv(d.extraeDatos(e.particiones[0].indicesTrain))\n",
    "d.normalizarDatos()\n",
    "\n",
    "c = ClasificadorVecinosProximos(k)\n",
    "errores_norm = c.validacion(particionado=e,dataset=d,clasificador=c)\n",
    "\n",
    "print (\"Procesando fichero: example1.data\")\n",
    "print (\"---------------------------------\")\n",
    "print (\"Media del fichero: example1.data\")\n",
    "print (np.average(errores))\n",
    "print (\"---------------------------------\")\n",
    "print (\"Desviacion tipica del fichero: example1.data\")\n",
    "print (np.std(errores))\n",
    "print (\"---------------------------------\")\n",
    "print (\"Media del fichero: example1.data con datos normalizados\")\n",
    "print (np.mean(errores_norm))\n",
    "print (\"---------------------------------\")\n",
    "print (\"Desviacion tipica del fichero: example1.data con datos normalizados\")\n",
    "print (\"\\nGenerando grafica del fichero: example1.data\")\n",
    "\n",
    "ii = e.particiones[-1].indicesTrain\n",
    "# plotModel(d.datos[ii,0],d.datos[ii,1],d.datos[ii,-1]!=0,c,\"Frontera\",d.diccionarios)\n",
    "print (\"Grafica generada con exito\")\n",
    "print (\"---------------------------------\")"
   ]
  },
  {
   "cell_type": "code",
   "execution_count": 32,
   "metadata": {},
   "outputs": [
    {
     "name": "stdout",
     "output_type": "stream",
     "text": [
      "Procesando fichero: example1.data\n",
      "---------------------------------\n",
      "Media del fichero: example1.data\n",
      "0.4875\n",
      "---------------------------------\n",
      "Desviacion tipica del fichero: example1.data\n",
      "0.09890020222426242\n",
      "---------------------------------\n",
      "Media del fichero: example1.data con datos normalizados\n",
      "0.525\n",
      "---------------------------------\n",
      "Desviacion tipica del fichero: example1.data con datos normalizados\n",
      "\n",
      "Generando grafica del fichero: example1.data\n",
      "Grafica generada con exito\n",
      "---------------------------------\n"
     ]
    }
   ],
   "source": [
    "d = Datos('ConjuntosDatos/example1.data')\n",
    "\n",
    "k = 21\n",
    "\n",
    "c = ClasificadorVecinosProximos(k)\n",
    "errores = c.validacion(particionado=e,dataset=d,clasificador=c)\n",
    "\n",
    "d.calcularMediasDesv(d.extraeDatos(e.particiones[0].indicesTrain))\n",
    "d.normalizarDatos()\n",
    "\n",
    "c = ClasificadorVecinosProximos(k)\n",
    "errores_norm = c.validacion(particionado=e,dataset=d,clasificador=c)\n",
    "\n",
    "print (\"Procesando fichero: example1.data\")\n",
    "print (\"---------------------------------\")\n",
    "print (\"Media del fichero: example1.data\")\n",
    "print (np.average(errores))\n",
    "print (\"---------------------------------\")\n",
    "print (\"Desviacion tipica del fichero: example1.data\")\n",
    "print (np.std(errores))\n",
    "print (\"---------------------------------\")\n",
    "print (\"Media del fichero: example1.data con datos normalizados\")\n",
    "print (np.mean(errores_norm))\n",
    "print (\"---------------------------------\")\n",
    "print (\"Desviacion tipica del fichero: example1.data con datos normalizados\")\n",
    "print (\"\\nGenerando grafica del fichero: example1.data\")\n",
    "\n",
    "ii = e.particiones[-1].indicesTrain\n",
    "# plotModel(d.datos[ii,0],d.datos[ii,1],d.datos[ii,-1]!=0,c,\"Frontera\",d.diccionarios)\n",
    "print (\"Grafica generada con exito\")\n",
    "print (\"---------------------------------\")"
   ]
  },
  {
   "cell_type": "code",
   "execution_count": 33,
   "metadata": {},
   "outputs": [
    {
     "name": "stdout",
     "output_type": "stream",
     "text": [
      "Procesando fichero: example1.data\n",
      "---------------------------------\n",
      "Media del fichero: example1.data\n",
      "0.5050000000000001\n",
      "---------------------------------\n",
      "Desviacion tipica del fichero: example1.data\n",
      "0.054543560573178586\n",
      "---------------------------------\n",
      "Media del fichero: example1.data con datos normalizados\n",
      "0.5050000000000001\n",
      "---------------------------------\n",
      "Desviacion tipica del fichero: example1.data con datos normalizados\n",
      "\n",
      "Generando grafica del fichero: example1.data\n",
      "Grafica generada con exito\n",
      "---------------------------------\n"
     ]
    }
   ],
   "source": [
    "d = Datos('ConjuntosDatos/example1.data')\n",
    "\n",
    "k = 51\n",
    "\n",
    "c = ClasificadorVecinosProximos(k)\n",
    "errores = c.validacion(particionado=e,dataset=d,clasificador=c)\n",
    "\n",
    "d.calcularMediasDesv(d.extraeDatos(e.particiones[0].indicesTrain))\n",
    "d.normalizarDatos()\n",
    "\n",
    "c = ClasificadorVecinosProximos(k)\n",
    "errores_norm = c.validacion(particionado=e,dataset=d,clasificador=c)\n",
    "\n",
    "print (\"Procesando fichero: example1.data\")\n",
    "print (\"---------------------------------\")\n",
    "print (\"Media del fichero: example1.data\")\n",
    "print (np.average(errores))\n",
    "print (\"---------------------------------\")\n",
    "print (\"Desviacion tipica del fichero: example1.data\")\n",
    "print (np.std(errores))\n",
    "print (\"---------------------------------\")\n",
    "print (\"Media del fichero: example1.data con datos normalizados\")\n",
    "print (np.mean(errores_norm))\n",
    "print (\"---------------------------------\")\n",
    "print (\"Desviacion tipica del fichero: example1.data con datos normalizados\")\n",
    "print (\"\\nGenerando grafica del fichero: example1.data\")\n",
    "\n",
    "ii = e.particiones[-1].indicesTrain\n",
    "# plotModel(d.datos[ii,0],d.datos[ii,1],d.datos[ii,-1]!=0,c,\"Frontera\",d.diccionarios)\n",
    "print (\"Grafica generada con exito\")\n",
    "print (\"---------------------------------\")"
   ]
  },
  {
   "cell_type": "markdown",
   "metadata": {},
   "source": [
    "### Example 2"
   ]
  },
  {
   "cell_type": "code",
   "execution_count": 8,
   "metadata": {},
   "outputs": [
    {
     "name": "stdout",
     "output_type": "stream",
     "text": [
      "Procesando fichero: example2.data\n",
      "---------------------------------\n",
      "Media del fichero: example2.data\n",
      "0.485\n",
      "---------------------------------\n",
      "Desviacion tipica del fichero: example2.data\n",
      "0.07762087348130012\n",
      "---------------------------------\n",
      "\n",
      "Generando grafica del fichero: example2.data\n",
      "Grafica generada con exito\n",
      "---------------------------------\n"
     ]
    }
   ],
   "source": [
    "d = Datos('ConjuntosDatos/example2.data')\n",
    "\n",
    "e = ValidacionCruzada()\n",
    "e.creaParticiones(d.datos)\n",
    "\n",
    "d.calcularMediasDesv(d.extraeDatos(e.particiones[0].indicesTrain))\n",
    "d.normalizarDatos()\n",
    "\n",
    "c = ClasificadorVecinosProximos(1)\n",
    "errores = c.validacion(particionado=e,dataset=d,clasificador=c)\n",
    "\n",
    "print (\"Procesando fichero: example2.data\")\n",
    "print (\"---------------------------------\")\n",
    "print (\"Media del fichero: example2.data\")\n",
    "print (np.average(errores))\n",
    "print (\"---------------------------------\")\n",
    "print (\"Desviacion tipica del fichero: example2.data\")\n",
    "print (np.std(errores))\n",
    "print (\"---------------------------------\")\n",
    "print (\"\\nGenerando grafica del fichero: example2.data\")\n",
    "\n",
    "ii = e.particiones[-1].indicesTrain\n",
    "# plotModel(d.datos[ii,0],d.datos[ii,1],d.datos[ii,-1]!=0,c,\"Frontera\",d.diccionarios)\n",
    "print (\"Grafica generada con exito\")\n",
    "print (\"---------------------------------\")"
   ]
  },
  {
   "cell_type": "code",
   "execution_count": 9,
   "metadata": {},
   "outputs": [
    {
     "name": "stdout",
     "output_type": "stream",
     "text": [
      "Procesando fichero: example2.data\n",
      "---------------------------------\n",
      "Media del fichero: example2.data\n",
      "0.4999999999999999\n",
      "---------------------------------\n",
      "Desviacion tipica del fichero: example2.data\n",
      "0.08139410298049851\n",
      "---------------------------------\n",
      "\n",
      "Generando grafica del fichero: example2.data\n",
      "Grafica generada con exito\n",
      "---------------------------------\n"
     ]
    }
   ],
   "source": [
    "d = Datos('ConjuntosDatos/example2.data')\n",
    "\n",
    "e = ValidacionCruzada()\n",
    "e.creaParticiones(d.datos)\n",
    "\n",
    "d.calcularMediasDesv(d.extraeDatos(e.particiones[0].indicesTrain))\n",
    "d.normalizarDatos()\n",
    "\n",
    "c = ClasificadorVecinosProximos(3)\n",
    "errores = c.validacion(particionado=e,dataset=d,clasificador=c)\n",
    "\n",
    "print (\"Procesando fichero: example2.data\")\n",
    "print (\"---------------------------------\")\n",
    "print (\"Media del fichero: example2.data\")\n",
    "print (np.average(errores))\n",
    "print (\"---------------------------------\")\n",
    "print (\"Desviacion tipica del fichero: example2.data\")\n",
    "print (np.std(errores))\n",
    "print (\"---------------------------------\")\n",
    "print (\"\\nGenerando grafica del fichero: example2.data\")\n",
    "\n",
    "ii = e.particiones[-1].indicesTrain\n",
    "# plotModel(d.datos[ii,0],d.datos[ii,1],d.datos[ii,-1]!=0,c,\"Frontera\",d.diccionarios)\n",
    "print (\"Grafica generada con exito\")\n",
    "print (\"---------------------------------\")"
   ]
  },
  {
   "cell_type": "code",
   "execution_count": 10,
   "metadata": {},
   "outputs": [
    {
     "name": "stdout",
     "output_type": "stream",
     "text": [
      "Procesando fichero: example2.data\n",
      "---------------------------------\n",
      "Media del fichero: example2.data\n",
      "0.48\n",
      "---------------------------------\n",
      "Desviacion tipica del fichero: example2.data\n",
      "0.09669539802906857\n",
      "---------------------------------\n",
      "\n",
      "Generando grafica del fichero: example2.data\n",
      "Grafica generada con exito\n",
      "---------------------------------\n"
     ]
    }
   ],
   "source": [
    "d = Datos('ConjuntosDatos/example2.data')\n",
    "\n",
    "e = ValidacionCruzada()\n",
    "e.creaParticiones(d.datos)\n",
    "\n",
    "d.calcularMediasDesv(d.extraeDatos(e.particiones[0].indicesTrain))\n",
    "d.normalizarDatos()\n",
    "\n",
    "c = ClasificadorVecinosProximos(5)\n",
    "errores = c.validacion(particionado=e,dataset=d,clasificador=c)\n",
    "\n",
    "print (\"Procesando fichero: example2.data\")\n",
    "print (\"---------------------------------\")\n",
    "print (\"Media del fichero: example2.data\")\n",
    "print (np.average(errores))\n",
    "print (\"---------------------------------\")\n",
    "print (\"Desviacion tipica del fichero: example2.data\")\n",
    "print (np.std(errores))\n",
    "print (\"---------------------------------\")\n",
    "print (\"\\nGenerando grafica del fichero: example2.data\")\n",
    "\n",
    "ii = e.particiones[-1].indicesTrain\n",
    "# plotModel(d.datos[ii,0],d.datos[ii,1],d.datos[ii,-1]!=0,c,\"Frontera\",d.diccionarios)\n",
    "print (\"Grafica generada con exito\")\n",
    "print (\"---------------------------------\")"
   ]
  },
  {
   "cell_type": "code",
   "execution_count": 11,
   "metadata": {},
   "outputs": [
    {
     "name": "stdout",
     "output_type": "stream",
     "text": [
      "Procesando fichero: example2.data\n",
      "---------------------------------\n",
      "Media del fichero: example2.data\n",
      "0.44000000000000006\n",
      "---------------------------------\n",
      "Desviacion tipica del fichero: example2.data\n",
      "0.057227615711297974\n",
      "---------------------------------\n",
      "\n",
      "Generando grafica del fichero: example2.data\n",
      "Grafica generada con exito\n",
      "---------------------------------\n"
     ]
    }
   ],
   "source": [
    "d = Datos('ConjuntosDatos/example2.data')\n",
    "\n",
    "e = ValidacionCruzada()\n",
    "e.creaParticiones(d.datos)\n",
    "\n",
    "d.calcularMediasDesv(d.extraeDatos(e.particiones[0].indicesTrain))\n",
    "d.normalizarDatos()\n",
    "\n",
    "c = ClasificadorVecinosProximos(11)\n",
    "errores = c.validacion(particionado=e,dataset=d,clasificador=c)\n",
    "\n",
    "print (\"Procesando fichero: example2.data\")\n",
    "print (\"---------------------------------\")\n",
    "print (\"Media del fichero: example2.data\")\n",
    "print (np.average(errores))\n",
    "print (\"---------------------------------\")\n",
    "print (\"Desviacion tipica del fichero: example2.data\")\n",
    "print (np.std(errores))\n",
    "print (\"---------------------------------\")\n",
    "print (\"\\nGenerando grafica del fichero: example2.data\")\n",
    "\n",
    "ii = e.particiones[-1].indicesTrain\n",
    "# plotModel(d.datos[ii,0],d.datos[ii,1],d.datos[ii,-1]!=0,c,\"Frontera\",d.diccionarios)\n",
    "print (\"Grafica generada con exito\")\n",
    "print (\"---------------------------------\")"
   ]
  },
  {
   "cell_type": "code",
   "execution_count": 12,
   "metadata": {},
   "outputs": [
    {
     "name": "stdout",
     "output_type": "stream",
     "text": [
      "Procesando fichero: example2.data\n",
      "---------------------------------\n",
      "Media del fichero: example2.data\n",
      "0.5149999999999999\n",
      "---------------------------------\n",
      "Desviacion tipica del fichero: example2.data\n",
      "0.04898979485566356\n",
      "---------------------------------\n",
      "\n",
      "Generando grafica del fichero: example2.data\n",
      "Grafica generada con exito\n",
      "---------------------------------\n"
     ]
    }
   ],
   "source": [
    "d = Datos('ConjuntosDatos/example2.data')\n",
    "\n",
    "e = ValidacionCruzada()\n",
    "e.creaParticiones(d.datos)\n",
    "\n",
    "d.calcularMediasDesv(d.extraeDatos(e.particiones[0].indicesTrain))\n",
    "d.normalizarDatos()\n",
    "\n",
    "c = ClasificadorVecinosProximos(21)\n",
    "errores = c.validacion(particionado=e,dataset=d,clasificador=c)\n",
    "\n",
    "print (\"Procesando fichero: example2.data\")\n",
    "print (\"---------------------------------\")\n",
    "print (\"Media del fichero: example2.data\")\n",
    "print (np.average(errores))\n",
    "print (\"---------------------------------\")\n",
    "print (\"Desviacion tipica del fichero: example2.data\")\n",
    "print (np.std(errores))\n",
    "print (\"---------------------------------\")\n",
    "print (\"\\nGenerando grafica del fichero: example2.data\")\n",
    "\n",
    "ii = e.particiones[-1].indicesTrain\n",
    "# plotModel(d.datos[ii,0],d.datos[ii,1],d.datos[ii,-1]!=0,c,\"Frontera\",d.diccionarios)\n",
    "print (\"Grafica generada con exito\")\n",
    "print (\"---------------------------------\")"
   ]
  },
  {
   "cell_type": "code",
   "execution_count": 13,
   "metadata": {},
   "outputs": [
    {
     "name": "stdout",
     "output_type": "stream",
     "text": [
      "Procesando fichero: example2.data\n",
      "---------------------------------\n",
      "Media del fichero: example2.data\n",
      "0.46499999999999997\n",
      "---------------------------------\n",
      "Desviacion tipica del fichero: example2.data\n",
      "0.057227615711297995\n",
      "---------------------------------\n",
      "\n",
      "Generando grafica del fichero: example2.data\n",
      "Grafica generada con exito\n",
      "---------------------------------\n"
     ]
    }
   ],
   "source": [
    "d = Datos('ConjuntosDatos/example2.data')\n",
    "\n",
    "e = ValidacionCruzada()\n",
    "e.creaParticiones(d.datos)\n",
    "\n",
    "d.calcularMediasDesv(d.extraeDatos(e.particiones[0].indicesTrain))\n",
    "d.normalizarDatos()\n",
    "\n",
    "c = ClasificadorVecinosProximos(51)\n",
    "errores = c.validacion(particionado=e,dataset=d,clasificador=c)\n",
    "\n",
    "print (\"Procesando fichero: example2.data\")\n",
    "print (\"---------------------------------\")\n",
    "print (\"Media del fichero: example2.data\")\n",
    "print (np.average(errores))\n",
    "print (\"---------------------------------\")\n",
    "print (\"Desviacion tipica del fichero: example2.data\")\n",
    "print (np.std(errores))\n",
    "print (\"---------------------------------\")\n",
    "print (\"\\nGenerando grafica del fichero: example2.data\")\n",
    "\n",
    "ii = e.particiones[-1].indicesTrain\n",
    "# plotModel(d.datos[ii,0],d.datos[ii,1],d.datos[ii,-1]!=0,c,\"Frontera\",d.diccionarios)\n",
    "print (\"Grafica generada con exito\")\n",
    "print (\"---------------------------------\")"
   ]
  },
  {
   "cell_type": "markdown",
   "metadata": {},
   "source": [
    "### Example 3"
   ]
  },
  {
   "cell_type": "code",
   "execution_count": 14,
   "metadata": {},
   "outputs": [
    {
     "name": "stdout",
     "output_type": "stream",
     "text": [
      "Procesando fichero: example3.data\n",
      "---------------------------------\n",
      "Media del fichero: example3.data\n",
      "0.4849999999999999\n",
      "---------------------------------\n",
      "Desviacion tipica del fichero: example3.data\n",
      "0.10319883720275148\n",
      "---------------------------------\n",
      "\n",
      "Generando grafica del fichero: example3.data\n",
      "Grafica generada con exito\n",
      "---------------------------------\n"
     ]
    }
   ],
   "source": [
    "d = Datos('ConjuntosDatos/example3.data')\n",
    "\n",
    "e = ValidacionCruzada()\n",
    "e.creaParticiones(d.datos)\n",
    "\n",
    "d.calcularMediasDesv(d.extraeDatos(e.particiones[0].indicesTrain))\n",
    "d.normalizarDatos()\n",
    "\n",
    "c = ClasificadorVecinosProximos(1)\n",
    "errores = c.validacion(particionado=e,dataset=d,clasificador=c)\n",
    "\n",
    "print (\"Procesando fichero: example3.data\")\n",
    "print (\"---------------------------------\")\n",
    "print (\"Media del fichero: example3.data\")\n",
    "print (np.average(errores))\n",
    "print (\"---------------------------------\")\n",
    "print (\"Desviacion tipica del fichero: example3.data\")\n",
    "print (np.std(errores))\n",
    "print (\"---------------------------------\")\n",
    "print (\"\\nGenerando grafica del fichero: example3.data\")\n",
    "\n",
    "ii = e.particiones[-1].indicesTrain\n",
    "# plotModel(d.datos[ii,0],d.datos[ii,1],d.datos[ii,-1]!=0,c,\"Frontera\",d.diccionarios)\n",
    "print (\"Grafica generada con exito\")\n",
    "print (\"---------------------------------\")"
   ]
  },
  {
   "cell_type": "code",
   "execution_count": 15,
   "metadata": {},
   "outputs": [
    {
     "name": "stdout",
     "output_type": "stream",
     "text": [
      "Procesando fichero: example3.data\n",
      "---------------------------------\n",
      "Media del fichero: example3.data\n",
      "0.49750000000000016\n",
      "---------------------------------\n",
      "Desviacion tipica del fichero: example3.data\n",
      "0.06368869601428498\n",
      "---------------------------------\n",
      "\n",
      "Generando grafica del fichero: example3.data\n",
      "Grafica generada con exito\n",
      "---------------------------------\n"
     ]
    }
   ],
   "source": [
    "d = Datos('ConjuntosDatos/example3.data')\n",
    "\n",
    "e = ValidacionCruzada()\n",
    "e.creaParticiones(d.datos)\n",
    "\n",
    "d.calcularMediasDesv(d.extraeDatos(e.particiones[0].indicesTrain))\n",
    "d.normalizarDatos()\n",
    "\n",
    "c = ClasificadorVecinosProximos(3)\n",
    "errores = c.validacion(particionado=e,dataset=d,clasificador=c)\n",
    "\n",
    "print (\"Procesando fichero: example3.data\")\n",
    "print (\"---------------------------------\")\n",
    "print (\"Media del fichero: example3.data\")\n",
    "print (np.average(errores))\n",
    "print (\"---------------------------------\")\n",
    "print (\"Desviacion tipica del fichero: example3.data\")\n",
    "print (np.std(errores))\n",
    "print (\"---------------------------------\")\n",
    "print (\"\\nGenerando grafica del fichero: example3.data\")\n",
    "\n",
    "ii = e.particiones[-1].indicesTrain\n",
    "# plotModel(d.datos[ii,0],d.datos[ii,1],d.datos[ii,-1]!=0,c,\"Frontera\",d.diccionarios)\n",
    "print (\"Grafica generada con exito\")\n",
    "print (\"---------------------------------\")"
   ]
  },
  {
   "cell_type": "code",
   "execution_count": 16,
   "metadata": {},
   "outputs": [
    {
     "name": "stdout",
     "output_type": "stream",
     "text": [
      "Procesando fichero: example3.data\n",
      "---------------------------------\n",
      "Media del fichero: example3.data\n",
      "0.495\n",
      "---------------------------------\n",
      "Desviacion tipica del fichero: example3.data\n",
      "0.08124038404635961\n",
      "---------------------------------\n",
      "\n",
      "Generando grafica del fichero: example3.data\n",
      "Grafica generada con exito\n",
      "---------------------------------\n"
     ]
    }
   ],
   "source": [
    "d = Datos('ConjuntosDatos/example3.data')\n",
    "\n",
    "e = ValidacionCruzada()\n",
    "e.creaParticiones(d.datos)\n",
    "\n",
    "d.calcularMediasDesv(d.extraeDatos(e.particiones[0].indicesTrain))\n",
    "d.normalizarDatos()\n",
    "\n",
    "c = ClasificadorVecinosProximos(5)\n",
    "errores = c.validacion(particionado=e,dataset=d,clasificador=c)\n",
    "\n",
    "print (\"Procesando fichero: example3.data\")\n",
    "print (\"---------------------------------\")\n",
    "print (\"Media del fichero: example3.data\")\n",
    "print (np.average(errores))\n",
    "print (\"---------------------------------\")\n",
    "print (\"Desviacion tipica del fichero: example3.data\")\n",
    "print (np.std(errores))\n",
    "print (\"---------------------------------\")\n",
    "print (\"\\nGenerando grafica del fichero: example3.data\")\n",
    "\n",
    "ii = e.particiones[-1].indicesTrain\n",
    "# plotModel(d.datos[ii,0],d.datos[ii,1],d.datos[ii,-1]!=0,c,\"Frontera\",d.diccionarios)\n",
    "print (\"Grafica generada con exito\")\n",
    "print (\"---------------------------------\")"
   ]
  },
  {
   "cell_type": "code",
   "execution_count": 17,
   "metadata": {},
   "outputs": [
    {
     "name": "stdout",
     "output_type": "stream",
     "text": [
      "Procesando fichero: example3.data\n",
      "---------------------------------\n",
      "Media del fichero: example3.data\n",
      "0.47250000000000014\n",
      "---------------------------------\n",
      "Desviacion tipica del fichero: example3.data\n",
      "0.08975661535508121\n",
      "---------------------------------\n",
      "\n",
      "Generando grafica del fichero: example3.data\n",
      "Grafica generada con exito\n",
      "---------------------------------\n"
     ]
    }
   ],
   "source": [
    "d = Datos('ConjuntosDatos/example3.data')\n",
    "\n",
    "e = ValidacionCruzada()\n",
    "e.creaParticiones(d.datos)\n",
    "\n",
    "d.calcularMediasDesv(d.extraeDatos(e.particiones[0].indicesTrain))\n",
    "d.normalizarDatos()\n",
    "\n",
    "c = ClasificadorVecinosProximos(11)\n",
    "errores = c.validacion(particionado=e,dataset=d,clasificador=c)\n",
    "\n",
    "print (\"Procesando fichero: example3.data\")\n",
    "print (\"---------------------------------\")\n",
    "print (\"Media del fichero: example3.data\")\n",
    "print (np.average(errores))\n",
    "print (\"---------------------------------\")\n",
    "print (\"Desviacion tipica del fichero: example3.data\")\n",
    "print (np.std(errores))\n",
    "print (\"---------------------------------\")\n",
    "print (\"\\nGenerando grafica del fichero: example3.data\")\n",
    "\n",
    "ii = e.particiones[-1].indicesTrain\n",
    "# plotModel(d.datos[ii,0],d.datos[ii,1],d.datos[ii,-1]!=0,c,\"Frontera\",d.diccionarios)\n",
    "print (\"Grafica generada con exito\")\n",
    "print (\"---------------------------------\")"
   ]
  },
  {
   "cell_type": "code",
   "execution_count": 18,
   "metadata": {},
   "outputs": [
    {
     "name": "stdout",
     "output_type": "stream",
     "text": [
      "Procesando fichero: example3.data\n",
      "---------------------------------\n",
      "Media del fichero: example3.data\n",
      "0.49749999999999994\n",
      "---------------------------------\n",
      "Desviacion tipica del fichero: example3.data\n",
      "0.07537406715840668\n",
      "---------------------------------\n",
      "\n",
      "Generando grafica del fichero: example3.data\n",
      "Grafica generada con exito\n",
      "---------------------------------\n"
     ]
    }
   ],
   "source": [
    "d = Datos('ConjuntosDatos/example3.data')\n",
    "\n",
    "e = ValidacionCruzada()\n",
    "e.creaParticiones(d.datos)\n",
    "\n",
    "d.calcularMediasDesv(d.extraeDatos(e.particiones[0].indicesTrain))\n",
    "d.normalizarDatos()\n",
    "\n",
    "c = ClasificadorVecinosProximos(21)\n",
    "errores = c.validacion(particionado=e,dataset=d,clasificador=c)\n",
    "\n",
    "print (\"Procesando fichero: example3.data\")\n",
    "print (\"---------------------------------\")\n",
    "print (\"Media del fichero: example3.data\")\n",
    "print (np.average(errores))\n",
    "print (\"---------------------------------\")\n",
    "print (\"Desviacion tipica del fichero: example3.data\")\n",
    "print (np.std(errores))\n",
    "print (\"---------------------------------\")\n",
    "print (\"\\nGenerando grafica del fichero: example3.data\")\n",
    "\n",
    "ii = e.particiones[-1].indicesTrain\n",
    "# plotModel(d.datos[ii,0],d.datos[ii,1],d.datos[ii,-1]!=0,c,\"Frontera\",d.diccionarios)\n",
    "print (\"Grafica generada con exito\")\n",
    "print (\"---------------------------------\")"
   ]
  },
  {
   "cell_type": "code",
   "execution_count": 19,
   "metadata": {},
   "outputs": [
    {
     "name": "stdout",
     "output_type": "stream",
     "text": [
      "Procesando fichero: example3.data\n",
      "---------------------------------\n",
      "Media del fichero: example3.data\n",
      "0.5599999999999999\n",
      "---------------------------------\n",
      "Desviacion tipica del fichero: example3.data\n",
      "0.07348469228349537\n",
      "---------------------------------\n",
      "\n",
      "Generando grafica del fichero: example3.data\n",
      "Grafica generada con exito\n",
      "---------------------------------\n"
     ]
    }
   ],
   "source": [
    "d = Datos('ConjuntosDatos/example3.data')\n",
    "\n",
    "e = ValidacionCruzada()\n",
    "e.creaParticiones(d.datos)\n",
    "\n",
    "d.calcularMediasDesv(d.extraeDatos(e.particiones[0].indicesTrain))\n",
    "d.normalizarDatos()\n",
    "\n",
    "c = ClasificadorVecinosProximos(51)\n",
    "errores = c.validacion(particionado=e,dataset=d,clasificador=c)\n",
    "\n",
    "print (\"Procesando fichero: example3.data\")\n",
    "print (\"---------------------------------\")\n",
    "print (\"Media del fichero: example3.data\")\n",
    "print (np.average(errores))\n",
    "print (\"---------------------------------\")\n",
    "print (\"Desviacion tipica del fichero: example3.data\")\n",
    "print (np.std(errores))\n",
    "print (\"---------------------------------\")\n",
    "print (\"\\nGenerando grafica del fichero: example3.data\")\n",
    "\n",
    "ii = e.particiones[-1].indicesTrain\n",
    "# plotModel(d.datos[ii,0],d.datos[ii,1],d.datos[ii,-1]!=0,c,\"Frontera\",d.diccionarios)\n",
    "print (\"Grafica generada con exito\")\n",
    "print (\"---------------------------------\")"
   ]
  },
  {
   "cell_type": "markdown",
   "metadata": {},
   "source": [
    "### Example 4"
   ]
  },
  {
   "cell_type": "code",
   "execution_count": 20,
   "metadata": {},
   "outputs": [
    {
     "name": "stdout",
     "output_type": "stream",
     "text": [
      "(100, 3)\n",
      "Procesando fichero: example4.data\n",
      "---------------------------------\n",
      "Media del fichero: example4.data\n",
      "0.41000000000000003\n",
      "---------------------------------\n",
      "Desviacion tipica del fichero: example4.data\n",
      "0.12206555615733702\n",
      "---------------------------------\n",
      "\n",
      "Generando grafica del fichero: example4.data\n",
      "Grafica generada con exito\n",
      "---------------------------------\n"
     ]
    }
   ],
   "source": [
    "d = Datos('ConjuntosDatos/example4.data')\n",
    "e = ValidacionCruzada()\n",
    "e.creaParticiones(d.datos)\n",
    "\n",
    "print(d.datos.shape)\n",
    "# d.calcularMediasDesv(d.extraeDatos(e.particiones[0].indicesTrain))\n",
    "# d.normalizarDatos()\n",
    "\n",
    "c = ClasificadorVecinosProximos(1)\n",
    "errores = c.validacion(particionado=e,dataset=d,clasificador=c)\n",
    "\n",
    "print (\"Procesando fichero: example4.data\")\n",
    "print (\"---------------------------------\")\n",
    "print (\"Media del fichero: example4.data\")\n",
    "print (np.average(errores))\n",
    "print (\"---------------------------------\")\n",
    "print (\"Desviacion tipica del fichero: example4.data\")\n",
    "print (np.std(errores))\n",
    "print (\"---------------------------------\")\n",
    "print (\"\\nGenerando grafica del fichero: example4.data\")\n",
    "\n",
    "ii = e.particiones[-1].indicesTrain\n",
    "# plotModel(d.datos[ii,0],d.datos[ii,1],d.datos[ii,-1]!=0,c,\"Frontera\",d.diccionarios)\n",
    "print (\"Grafica generada con exito\")\n",
    "print (\"---------------------------------\")"
   ]
  },
  {
   "cell_type": "code",
   "execution_count": 21,
   "metadata": {},
   "outputs": [
    {
     "name": "stdout",
     "output_type": "stream",
     "text": [
      "Procesando fichero: example4.data\n",
      "---------------------------------\n",
      "Media del fichero: example4.data\n",
      "0.45999999999999996\n",
      "---------------------------------\n",
      "Desviacion tipica del fichero: example4.data\n",
      "0.10198039027185568\n",
      "---------------------------------\n",
      "\n",
      "Generando grafica del fichero: example4.data\n",
      "Grafica generada con exito\n",
      "---------------------------------\n"
     ]
    }
   ],
   "source": [
    "d = Datos('ConjuntosDatos/example4.data')\n",
    "\n",
    "e = ValidacionCruzada()\n",
    "e.creaParticiones(d.datos)\n",
    "\n",
    "d.calcularMediasDesv(d.extraeDatos(e.particiones[0].indicesTrain))\n",
    "d.normalizarDatos()\n",
    "\n",
    "c = ClasificadorVecinosProximos(3)\n",
    "errores = c.validacion(particionado=e,dataset=d,clasificador=c)\n",
    "\n",
    "print (\"Procesando fichero: example4.data\")\n",
    "print (\"---------------------------------\")\n",
    "print (\"Media del fichero: example4.data\")\n",
    "print (np.average(errores))\n",
    "print (\"---------------------------------\")\n",
    "print (\"Desviacion tipica del fichero: example4.data\")\n",
    "print (np.std(errores))\n",
    "print (\"---------------------------------\")\n",
    "print (\"\\nGenerando grafica del fichero: example4.data\")\n",
    "\n",
    "ii = e.particiones[-1].indicesTrain\n",
    "# plotModel(d.datos[ii,0],d.datos[ii,1],d.datos[ii,-1]!=0,c,\"Frontera\",d.diccionarios)\n",
    "print (\"Grafica generada con exito\")\n",
    "print (\"---------------------------------\")"
   ]
  },
  {
   "cell_type": "code",
   "execution_count": 22,
   "metadata": {},
   "outputs": [
    {
     "name": "stdout",
     "output_type": "stream",
     "text": [
      "Procesando fichero: example4.data\n",
      "---------------------------------\n",
      "Media del fichero: example4.data\n",
      "0.4\n",
      "---------------------------------\n",
      "Desviacion tipica del fichero: example4.data\n",
      "0.10954451150103323\n",
      "---------------------------------\n",
      "\n",
      "Generando grafica del fichero: example4.data\n",
      "Grafica generada con exito\n",
      "---------------------------------\n"
     ]
    }
   ],
   "source": [
    "d = Datos('ConjuntosDatos/example4.data')\n",
    "\n",
    "e = ValidacionCruzada()\n",
    "e.creaParticiones(d.datos)\n",
    "\n",
    "d.calcularMediasDesv(d.extraeDatos(e.particiones[0].indicesTrain))\n",
    "d.normalizarDatos()\n",
    "\n",
    "c = ClasificadorVecinosProximos(5)\n",
    "errores = c.validacion(particionado=e,dataset=d,clasificador=c)\n",
    "\n",
    "print (\"Procesando fichero: example4.data\")\n",
    "print (\"---------------------------------\")\n",
    "print (\"Media del fichero: example4.data\")\n",
    "print (np.average(errores))\n",
    "print (\"---------------------------------\")\n",
    "print (\"Desviacion tipica del fichero: example4.data\")\n",
    "print (np.std(errores))\n",
    "print (\"---------------------------------\")\n",
    "print (\"\\nGenerando grafica del fichero: example4.data\")\n",
    "\n",
    "ii = e.particiones[-1].indicesTrain\n",
    "# plotModel(d.datos[ii,0],d.datos[ii,1],d.datos[ii,-1]!=0,c,\"Frontera\",d.diccionarios)\n",
    "print (\"Grafica generada con exito\")\n",
    "print (\"---------------------------------\")"
   ]
  },
  {
   "cell_type": "code",
   "execution_count": 23,
   "metadata": {},
   "outputs": [
    {
     "name": "stdout",
     "output_type": "stream",
     "text": [
      "Procesando fichero: example4.data\n",
      "---------------------------------\n",
      "Media del fichero: example4.data\n",
      "0.42000000000000004\n",
      "---------------------------------\n",
      "Desviacion tipica del fichero: example4.data\n",
      "0.13999999999999999\n",
      "---------------------------------\n",
      "\n",
      "Generando grafica del fichero: example4.data\n",
      "Grafica generada con exito\n",
      "---------------------------------\n"
     ]
    }
   ],
   "source": [
    "d = Datos('ConjuntosDatos/example4.data')\n",
    "\n",
    "e = ValidacionCruzada()\n",
    "e.creaParticiones(d.datos)\n",
    "\n",
    "d.calcularMediasDesv(d.extraeDatos(e.particiones[0].indicesTrain))\n",
    "d.normalizarDatos()\n",
    "\n",
    "c = ClasificadorVecinosProximos(11)\n",
    "errores = c.validacion(particionado=e,dataset=d,clasificador=c)\n",
    "\n",
    "print (\"Procesando fichero: example4.data\")\n",
    "print (\"---------------------------------\")\n",
    "print (\"Media del fichero: example4.data\")\n",
    "print (np.average(errores))\n",
    "print (\"---------------------------------\")\n",
    "print (\"Desviacion tipica del fichero: example4.data\")\n",
    "print (np.std(errores))\n",
    "print (\"---------------------------------\")\n",
    "print (\"\\nGenerando grafica del fichero: example4.data\")\n",
    "\n",
    "ii = e.particiones[-1].indicesTrain\n",
    "# plotModel(d.datos[ii,0],d.datos[ii,1],d.datos[ii,-1]!=0,c,\"Frontera\",d.diccionarios)\n",
    "print (\"Grafica generada con exito\")\n",
    "print (\"---------------------------------\")"
   ]
  },
  {
   "cell_type": "code",
   "execution_count": 24,
   "metadata": {},
   "outputs": [
    {
     "name": "stdout",
     "output_type": "stream",
     "text": [
      "Procesando fichero: example4.data\n",
      "---------------------------------\n",
      "Media del fichero: example4.data\n",
      "0.41\n",
      "---------------------------------\n",
      "Desviacion tipica del fichero: example4.data\n",
      "0.11357816691600546\n",
      "---------------------------------\n",
      "\n",
      "Generando grafica del fichero: example4.data\n",
      "Grafica generada con exito\n",
      "---------------------------------\n"
     ]
    }
   ],
   "source": [
    "d = Datos('ConjuntosDatos/example4.data')\n",
    "\n",
    "e = ValidacionCruzada()\n",
    "e.creaParticiones(d.datos)\n",
    "\n",
    "d.calcularMediasDesv(d.extraeDatos(e.particiones[0].indicesTrain))\n",
    "d.normalizarDatos()\n",
    "\n",
    "c = ClasificadorVecinosProximos(21)\n",
    "errores = c.validacion(particionado=e,dataset=d,clasificador=c)\n",
    "\n",
    "print (\"Procesando fichero: example4.data\")\n",
    "print (\"---------------------------------\")\n",
    "print (\"Media del fichero: example4.data\")\n",
    "print (np.average(errores))\n",
    "print (\"---------------------------------\")\n",
    "print (\"Desviacion tipica del fichero: example4.data\")\n",
    "print (np.std(errores))\n",
    "print (\"---------------------------------\")\n",
    "print (\"\\nGenerando grafica del fichero: example4.data\")\n",
    "\n",
    "ii = e.particiones[-1].indicesTrain\n",
    "# plotModel(d.datos[ii,0],d.datos[ii,1],d.datos[ii,-1]!=0,c,\"Frontera\",d.diccionarios)\n",
    "print (\"Grafica generada con exito\")\n",
    "print (\"---------------------------------\")"
   ]
  },
  {
   "cell_type": "code",
   "execution_count": 25,
   "metadata": {},
   "outputs": [
    {
     "name": "stdout",
     "output_type": "stream",
     "text": [
      "Procesando fichero: example4.data\n",
      "---------------------------------\n",
      "Media del fichero: example4.data\n",
      "0.48999999999999994\n",
      "---------------------------------\n",
      "Desviacion tipica del fichero: example4.data\n",
      "0.11357816691600545\n",
      "---------------------------------\n",
      "\n",
      "Generando grafica del fichero: example4.data\n",
      "Grafica generada con exito\n",
      "---------------------------------\n"
     ]
    }
   ],
   "source": [
    "d = Datos('ConjuntosDatos/example4.data')\n",
    "\n",
    "e = ValidacionCruzada()\n",
    "e.creaParticiones(d.datos)\n",
    "\n",
    "d.calcularMediasDesv(d.extraeDatos(e.particiones[0].indicesTrain))\n",
    "d.normalizarDatos()\n",
    "\n",
    "c = ClasificadorVecinosProximos(51)\n",
    "errores = c.validacion(particionado=e,dataset=d,clasificador=c)\n",
    "\n",
    "print (\"Procesando fichero: example4.data\")\n",
    "print (\"---------------------------------\")\n",
    "print (\"Media del fichero: example4.data\")\n",
    "print (np.average(errores))\n",
    "print (\"---------------------------------\")\n",
    "print (\"Desviacion tipica del fichero: example4.data\")\n",
    "print (np.std(errores))\n",
    "print (\"---------------------------------\")\n",
    "print (\"\\nGenerando grafica del fichero: example4.data\")\n",
    "\n",
    "ii = e.particiones[-1].indicesTrain\n",
    "# plotModel(d.datos[ii,0],d.datos[ii,1],d.datos[ii,-1]!=0,c,\"Frontera\",d.diccionarios)\n",
    "print (\"Grafica generada con exito\")\n",
    "print (\"---------------------------------\")"
   ]
  },
  {
   "cell_type": "markdown",
   "metadata": {},
   "source": [
    "## Regresión Logística"
   ]
  },
  {
   "cell_type": "code",
   "execution_count": 26,
   "metadata": {},
   "outputs": [
    {
     "name": "stdout",
     "output_type": "stream",
     "text": [
      "Grafica generada con exito\n",
      "---------------------------------\n"
     ]
    },
    {
     "data": {
      "image/png": "[encoded data removed]",
      "text/plain": [
       "<Figure size 432x288 with 1 Axes>"
      ]
     },
     "metadata": {
      "needs_background": "light"
     },
     "output_type": "display_data"
    }
   ],
   "source": [
    "d = Datos('ConjuntosDatos/example1.data')\n",
    "e = ValidacionCruzada()\n",
    "e.creaParticiones(d.datos)\n",
    "\n",
    "c = ClasificadorRegresionLogistica(20)\n",
    "c.entrenamiento(datostrain=d.extraeDatos(idx=e.particiones[0].indicesTrain))\n",
    "\n",
    "ii = e.particiones[-1].indicesTrain\n",
    "plotModel(d.datos[ii,0],d.datos[ii,1],d.datos[ii,-1]!=0,c,\"Frontera\",d.diccionarios)\n",
    "print (\"Grafica generada con exito\")\n",
    "print (\"---------------------------------\")\n",
    "# plt.figure()\n",
    "# plt.plot(d.datos[d.datos[:,-1]==0,0],d.datos[d.datos[:,-1]==0,1],'bo')\n",
    "# plt.plot(d.datos[d.datos[:,-1]==1,0],d.datos[d.datos[:,-1]==1,1],'ro')\n"
   ]
  },
  {
   "cell_type": "code",
   "execution_count": 27,
   "metadata": {},
   "outputs": [
    {
     "ename": "IndexError",
     "evalue": "list index out of range",
     "output_type": "error",
     "traceback": [
      "\u001b[1;31m---------------------------------------------------------------------------\u001b[0m",
      "\u001b[1;31mIndexError\u001b[0m                                Traceback (most recent call last)",
      "\u001b[1;32m<ipython-input-27-d9341def8618>\u001b[0m in \u001b[0;36m<module>\u001b[1;34m()\u001b[0m\n\u001b[0;32m      1\u001b[0m \u001b[0me\u001b[0m\u001b[1;33m=\u001b[0m \u001b[0mValidacionSimple\u001b[0m\u001b[1;33m(\u001b[0m\u001b[1;33m)\u001b[0m\u001b[1;33m\u001b[0m\u001b[0m\n\u001b[1;32m----> 2\u001b[1;33m \u001b[0mii\u001b[0m \u001b[1;33m=\u001b[0m \u001b[0me\u001b[0m\u001b[1;33m.\u001b[0m\u001b[0mparticiones\u001b[0m\u001b[1;33m[\u001b[0m\u001b[1;33m-\u001b[0m\u001b[1;36m1\u001b[0m\u001b[1;33m]\u001b[0m\u001b[1;33m.\u001b[0m\u001b[0mindicesTrain\u001b[0m\u001b[1;33m\u001b[0m\u001b[0m\n\u001b[0m\u001b[0;32m      3\u001b[0m \u001b[1;33m\u001b[0m\u001b[0m\n\u001b[0;32m      4\u001b[0m \u001b[0mplotModel\u001b[0m\u001b[1;33m(\u001b[0m\u001b[0md\u001b[0m\u001b[1;33m.\u001b[0m\u001b[0mdatos\u001b[0m\u001b[1;33m[\u001b[0m\u001b[0mii\u001b[0m\u001b[1;33m,\u001b[0m\u001b[1;36m0\u001b[0m\u001b[1;33m]\u001b[0m\u001b[1;33m,\u001b[0m\u001b[0md\u001b[0m\u001b[1;33m.\u001b[0m\u001b[0mdatos\u001b[0m\u001b[1;33m[\u001b[0m\u001b[0mii\u001b[0m\u001b[1;33m,\u001b[0m\u001b[1;36m1\u001b[0m\u001b[1;33m]\u001b[0m\u001b[1;33m,\u001b[0m\u001b[0md\u001b[0m\u001b[1;33m.\u001b[0m\u001b[0mdatos\u001b[0m\u001b[1;33m[\u001b[0m\u001b[0mii\u001b[0m\u001b[1;33m,\u001b[0m\u001b[1;33m-\u001b[0m\u001b[1;36m1\u001b[0m\u001b[1;33m]\u001b[0m\u001b[1;33m!=\u001b[0m\u001b[1;36m0\u001b[0m\u001b[1;33m,\u001b[0m\u001b[0mc\u001b[0m\u001b[1;33m,\u001b[0m\u001b[1;34m\"Frontera\"\u001b[0m\u001b[1;33m,\u001b[0m\u001b[0md\u001b[0m\u001b[1;33m.\u001b[0m\u001b[0mdiccionarios\u001b[0m\u001b[1;33m)\u001b[0m\u001b[1;33m\u001b[0m\u001b[0m\n",
      "\u001b[1;31mIndexError\u001b[0m: list index out of range"
     ]
    }
   ],
   "source": [
    "e= ValidacionSimple()\n",
    "ii = e.particiones[-1].indicesTrain\n",
    "\n",
    "plotModel(d.datos[ii,0],d.datos[ii,1],d.datos[ii,-1]!=0,c,\"Frontera\",d.diccionarios) \n"
   ]
  },
  {
   "cell_type": "code",
   "execution_count": null,
   "metadata": {},
   "outputs": [],
   "source": [
    "#import matplotlib.pyplot as plt\n",
    "#%matplotlib inline\n",
    "import numpy as np\n",
    "from sklearn.linear_model import LogisticRegression\n",
    "from sklearn.model_selection import cross_val_score\n",
    "from Datos import Datos\n",
    "\n",
    "\n",
    "print (\"REGRESION LOGISTICA SCIKIT\")\n",
    "print (\"---------------------------------\")\n",
    "print (\"Procesando fichero: example1.data\")\n",
    "print (\"---------------------------------\")\n",
    "dataset = Datos(\"./ConjuntosDatos/example1.data\")\n",
    "\n",
    "X=dataset.datos[:,:-1]\n",
    "Y=dataset.datos[:,-1]\n",
    "\n",
    "\n",
    "\n",
    "logreg = LogisticRegression(C=1e5,max_iter=100) # Creando el modelo\n",
    "\n",
    "logreg.fit(X, Y) #ajustando el modelo\n",
    "\n",
    "# we create an instance of Neighbours Classifier and fit the data.\n",
    "logreg.fit(X, Y)\n",
    "\n",
    "cvs =cross_val_score(logreg, X,Y, cv=10,n_jobs=-1)\n",
    "print (\"Media erronea del fichero: example3.data  :\",(1-np.mean((cvs))), \"con Desviacion Tipica (std) = \", (np.std((cvs))))\n",
    "print (\"---------------------------------\")\n",
    "\n",
    "h = .02\n",
    "# Plot the decision boundary. For that, we will assign a color to each\n",
    "# point in the mesh [x_min, x_max]x[y_min, y_max].\n",
    "x_min, x_max = X[:, 0].min() - .5, X[:, 0].max() + .5\n",
    "y_min, y_max = X[:, 1].min() - .5, X[:, 1].max() + .5\n",
    "xx, yy = np.meshgrid(np.arange(x_min, x_max, h), np.arange(y_min, y_max, h))\n",
    "Z = logreg.predict(np.c_[xx.ravel(), yy.ravel()])\n",
    "\n",
    "# Put the result into a color plot\n",
    "Z = Z.reshape(xx.shape)\n",
    "plt.figure(1, figsize=(4, 3))\n",
    "plt.pcolormesh(xx, yy, Z, cmap=plt.cm.Paired)\n",
    "\n",
    "# Plot also the training points\n",
    "plt.scatter(X[:, 0], X[:, 1], c=Y, edgecolors='k', cmap=plt.cm.Paired)\n",
    "plt.xlabel('x')\n",
    "plt.ylabel('y')\n",
    "plt.xlim(xx.min(), xx.max())\n",
    "plt.ylim(yy.min(), yy.max())\n",
    "plt.xticks(())\n",
    "plt.yticks(())\n",
    "plt.show()"
   ]
  },
  {
   "cell_type": "code",
   "execution_count": null,
   "metadata": {},
   "outputs": [],
   "source": [
    "#import matplotlib.pyplot as plt\n",
    "#%matplotlib inline\n",
    "import numpy as np\n",
    "from sklearn.linear_model import LogisticRegression\n",
    "import Datos\n",
    "\n",
    "from sklearn.model_selection import cross_val_score\n",
    "from Datos import Datos\n",
    "\n",
    "\n",
    "print (\"REGRESION LOGISTICA SCIKIT\")\n",
    "print (\"---------------------------------\")\n",
    "print (\"Procesando fichero: example1.data\")\n",
    "print (\"---------------------------------\")\n",
    "dataset = Datos(\"./ConjuntosDatos/example1.data\")\n",
    "\n",
    "X=dataset.datos[:,:-1]\n",
    "Y=dataset.datos[:,-1]\n",
    "\n",
    "\n",
    "\n",
    "logreg = LogisticRegression(C=1e5) # Creando el modelo\n",
    "\n",
    "logreg.fit(X, Y) #ajustando el modelo\n",
    "\n",
    "# we create an instance of Neighbours Classifier and fit the data.\n",
    "logreg.fit(X, Y)\n",
    "\n",
    "cvs =cross_val_score(logreg, X,Y, cv=10,n_jobs=-1)\n",
    "print (\"Media erronea del fichero: example3.data  :\",(1-np.mean((cvs))), \"con Desviacion Tipica (std) = \", (np.std((cvs))))\n",
    "print (\"---------------------------------\")\n",
    "\n",
    "\n",
    "# Plot the decision boundary. For that, we will assign a color to each\n",
    "# point in the mesh [x_min, x_max]x[y_min, y_max].\n",
    "x_min, x_max = X[:, 0].min() - .5, X[:, 0].max() + .5\n",
    "y_min, y_max = X[:, 1].min() - .5, X[:, 1].max() + .5\n",
    "xx, yy = np.meshgrid(np.arange(x_min, x_max, h), np.arange(y_min, y_max, h))\n",
    "Z = logreg.predict(np.c_[xx.ravel(), yy.ravel()])\n",
    "\n",
    "# Put the result into a color plot\n",
    "Z = Z.reshape(xx.shape)\n",
    "plt.figure(1, figsize=(4, 3))\n",
    "plt.pcolormesh(xx, yy, Z, cmap=plt.cm.Paired)\n",
    "\n",
    "# Plot also the training points\n",
    "plt.scatter(X[:, 0], X[:, 1], c=Y, edgecolors='k', cmap=plt.cm.Paired)\n",
    "plt.xlabel('x')\n",
    "plt.ylabel('y')\n",
    "plt.xlim(xx.min(), xx.max())\n",
    "plt.ylim(yy.min(), yy.max())\n",
    "plt.xticks(())\n",
    "plt.yticks(())\n",
    "plt.show()"
   ]
  }
 ],
 "metadata": {
  "kernelspec": {
   "display_name": "Python 3",
   "language": "python",
   "name": "python3"
  },
  "language_info": {
   "codemirror_mode": {
    "name": "ipython",
    "version": 3
   },
   "file_extension": ".py",
   "mimetype": "text/x-python",
   "name": "python",
   "nbconvert_exporter": "python",
   "pygments_lexer": "ipython3",
   "version": "3.7.0"
  }
 },
 "nbformat": 4,
 "nbformat_minor": 2
}
