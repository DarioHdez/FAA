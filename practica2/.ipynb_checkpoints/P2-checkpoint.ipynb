{
 "cells": [
  {
   "cell_type": "markdown",
   "metadata": {},
   "source": [
    "APARTADO 1: Resultados de la clasificacion con Vecinos Proximos\n",
    "\n",
    "En la siguiente celda mostraremos el resultado con el fichero example1.data, k_vecinos=5 y normalizacion de datos\n",
    "\n",
    "Para probar el resto de los ejemplos simplemente basta con modificar el fichero y la variable k_vecinos. En caso de no querer normalizar los datos habrá que poner la flag \"normalizaDatos\" a False."
   ]
  },
  {
   "cell_type": "code",
   "execution_count": 4,
   "metadata": {},
   "outputs": [
    {
     "ename": "TypeError",
     "evalue": "__init__() got an unexpected keyword argument 'folds'",
     "output_type": "error",
     "traceback": [
      "\u001b[1;31m---------------------------------------------------------------------------\u001b[0m",
      "\u001b[1;31mTypeError\u001b[0m                                 Traceback (most recent call last)",
      "\u001b[1;32m<ipython-input-4-55127f9991cd>\u001b[0m in \u001b[0;36m<module>\u001b[1;34m()\u001b[0m\n\u001b[0;32m      9\u001b[0m \u001b[1;33m\u001b[0m\u001b[0m\n\u001b[0;32m     10\u001b[0m \u001b[0mdataset\u001b[0m \u001b[1;33m=\u001b[0m \u001b[0mDatos\u001b[0m\u001b[1;33m(\u001b[0m\u001b[1;34m'./ConjuntosDatos/example1.data'\u001b[0m\u001b[1;33m)\u001b[0m\u001b[1;33m\u001b[0m\u001b[0m\n\u001b[1;32m---> 11\u001b[1;33m \u001b[0mestrategia\u001b[0m \u001b[1;33m=\u001b[0m \u001b[0mEstrategiaParticionado\u001b[0m\u001b[1;33m.\u001b[0m\u001b[0mValidacionCruzada\u001b[0m\u001b[1;33m(\u001b[0m\u001b[0mfolds\u001b[0m \u001b[1;33m=\u001b[0m \u001b[1;36m1\u001b[0m\u001b[1;33m)\u001b[0m\u001b[1;33m\u001b[0m\u001b[0m\n\u001b[0m\u001b[0;32m     12\u001b[0m \u001b[0mclasificador\u001b[0m\u001b[1;33m=\u001b[0m\u001b[0mClasificador\u001b[0m\u001b[1;33m.\u001b[0m\u001b[0mClasificadorVecinosProximos\u001b[0m\u001b[1;33m(\u001b[0m\u001b[0mK_vecinos\u001b[0m\u001b[1;33m=\u001b[0m \u001b[1;36m5\u001b[0m\u001b[1;33m)\u001b[0m\u001b[1;33m\u001b[0m\u001b[0m\n\u001b[0;32m     13\u001b[0m \u001b[0merrores\u001b[0m\u001b[1;33m=\u001b[0m\u001b[0mclasificador\u001b[0m\u001b[1;33m.\u001b[0m\u001b[0mvalidacion\u001b[0m\u001b[1;33m(\u001b[0m\u001b[0mparticionado\u001b[0m \u001b[1;33m=\u001b[0m \u001b[0mestrategia\u001b[0m\u001b[1;33m,\u001b[0m \u001b[0mdataset\u001b[0m \u001b[1;33m=\u001b[0m \u001b[0mdataset\u001b[0m\u001b[1;33m,\u001b[0m\u001b[0mclasificador\u001b[0m \u001b[1;33m=\u001b[0m \u001b[0mclasificador\u001b[0m\u001b[1;33m,\u001b[0m \u001b[0mlaPlace\u001b[0m \u001b[1;33m=\u001b[0m \u001b[1;32mTrue\u001b[0m\u001b[1;33m,\u001b[0m \u001b[0mnormalizaDatos\u001b[0m\u001b[1;33m=\u001b[0m \u001b[1;32mTrue\u001b[0m\u001b[1;33m)\u001b[0m\u001b[1;33m\u001b[0m\u001b[0m\n",
      "\u001b[1;31mTypeError\u001b[0m: __init__() got an unexpected keyword argument 'folds'"
     ]
    }
   ],
   "source": [
    "import Datos\n",
    "reload(Datos)\n",
    "import matplotlib.pyplot as plt\n",
    "%matplotlib inline\n",
    "from plotModel import plotModel\n",
    "from Datos import Datos\n",
    "import EstrategiaParticionado\n",
    "reload(EstrategiaParticionado)\n",
    "import Clasificador\n",
    "reload(Clasificador)\n",
    "import numpy as np\n",
    "\n",
    "dataset = Datos('./ConjuntosDatos/example1.data', True)\n",
    "estrategia = EstrategiaParticionado.ValidacionCruzada(folds = 1)\n",
    "clasificador=Clasificador.ClasificadorVecinosProximos(K_vecinos= 5)\n",
    "errores=clasificador.validacion(particionado = estrategia, dataset = dataset,clasificador = clasificador, laPlace = True, normalizaDatos= True)\n",
    "\n",
    "print (\"Procesando fichero: example1.data\")\n",
    "print (\"---------------------------------\")\n",
    "print (\"Media del fichero: example1.data\")\n",
    "print (np.average(errores))\n",
    "print (\"---------------------------------\")\n",
    "print (\"Desviacion tipica del fichero: example1.data\")\n",
    "print (np.std(errores))\n",
    "print (\"---------------------------------\")\n",
    "print (\"Media erronea del fichero: example1.data\")\n",
    "print (errores)\n",
    "print (\"---------------------------------\")\n",
    "print (\"Generando grafica del fichero: example1.data\")\n",
    "\n",
    "ii = estrategia.particiones[-1].indicesTrain\n",
    "plotModel(dataset.datos[ii,0],dataset.datos[ii,1],dataset.datos[ii,-1]!=0,clasificador,\"Frontera\",dataset.diccionarios)\n",
    "print (\"Grafica generada con exito\")\n",
    "print (\"---------------------------------\")"
   ]
  },
  {
   "cell_type": "markdown",
   "metadata": {},
   "source": [
    "Resultados obtenidos con la libreria scikit learn"
   ]
  },
  {
   "cell_type": "code",
   "execution_count": 6,
   "metadata": {},
   "outputs": [
    {
     "name": "stdout",
     "output_type": "stream",
     "text": [
      "VECINOS PROXIMOS SCIKIT\n",
      "---------------------------------\n",
      "Procesando fichero: example1.data\n",
      "---------------------------------\n",
      "K =  1\n",
      "('Media erronea del fichero: example1.data :', 0.17000000000000015, 'con Desviacion Tipica (std) = ', 0.062048368229954291)\n",
      "---------------------------------\n",
      "K =  3\n",
      "('Media erronea del fichero: example1.data :', 0.14249999999999985, 'con Desviacion Tipica (std) = ', 0.064274800660912221)\n",
      "---------------------------------\n",
      "K =  5\n",
      "('Media erronea del fichero: example1.data :', 0.13500000000000001, 'con Desviacion Tipica (std) = ', 0.058309518948453029)\n",
      "---------------------------------\n",
      "K =  11\n",
      "('Media erronea del fichero: example1.data :', 0.13749999999999996, 'con Desviacion Tipica (std) = ', 0.050311529493745288)\n",
      "---------------------------------\n",
      "K =  21\n",
      "('Media erronea del fichero: example1.data :', 0.14250000000000007, 'con Desviacion Tipica (std) = ', 0.073357003755606054)\n",
      "---------------------------------\n",
      "K =  51\n",
      "('Media erronea del fichero: example1.data :', 0.125, 'con Desviacion Tipica (std) = ', 0.048733971724044825)\n",
      "---------------------------------\n"
     ]
    }
   ],
   "source": [
    "import numpy as np\n",
    "from sklearn import cross_validation\n",
    "from sklearn.neighbors import KNeighborsClassifier\n",
    "import Datos\n",
    "from Datos import Datos\n",
    "\n",
    "print (\"VECINOS PROXIMOS SCIKIT\")\n",
    "print (\"---------------------------------\")\n",
    "print (\"Procesando fichero: example1.data\")\n",
    "print (\"---------------------------------\")\n",
    "dataset = Datos(\"./ConjuntosDatos/example1.data\", True)    \n",
    "X=dataset.datos[:,:-1]\n",
    "Y=dataset.datos[:,-1]\n",
    "for i in [1,3,5,11,21,51]:\n",
    "    print \"K = \",  i\n",
    "    resultado = KNeighborsClassifier(n_neighbors=i)\n",
    "    cvs = cross_validation.cross_val_score(resultado, X,Y, cv=10)\n",
    "    print (\"Media erronea del fichero: example1.data :\",(1-np.mean((cvs))), \"con Desviacion Tipica (std) = \", (np.std((cvs))))\n",
    "    print (\"---------------------------------\")\n"
   ]
  },
  {
   "cell_type": "markdown",
   "metadata": {},
   "source": [
    "Conclusiones Apartado 1:\n",
    "\n",
    "En este apartado solo hemos mostrado los resultados con el example1.data.\n",
    "Podemos observar que para k vecinos pequeños el error obtenido es menor. Para k vecinos grandes el %error es mayor ya que cada punto se compara con un numero mayor de puntos.\n",
    "Comparando nuestros resultados con los obtenidoo mediante la libreria scikit-learn podemos ver que se obtienen resultados parecidos, aunque la librería obtenia resultados algo mejores."
   ]
  },
  {
   "cell_type": "markdown",
   "metadata": {},
   "source": [
    "APARTADO 2: Resultados de la clasificacion con Regresion Logistica\n",
    "\n",
    "En la siguiente celda mostraremos el resultado con el fichero example2.data, tasa=0.3, epocas=150 y normalizacion de datos\n",
    "\n",
    "Para probar el resto de los ejemplos simplemente basta con modificar el fichero y la variables tasa y epocas. En caso de no querer normalizar los datos habrá que poner la flag \"normalizaDatos\" a False."
   ]
  },
  {
   "cell_type": "code",
   "execution_count": null,
   "metadata": {
    "collapsed": true
   },
   "outputs": [],
   "source": [
    "import Datos\n",
    "import matplotlib.pyplot as plt\n",
    "from plotModel import plotModel\n",
    "from Datos import Datos\n",
    "import EstrategiaParticionado\n",
    "import Clasificador\n",
    "import numpy as np\n",
    "\n",
    "dataset = Datos('./ConjuntosDatos/example2.data', True)\n",
    "estrategia = EstrategiaParticionado.ValidacionCruzada(folds = 1)\n",
    "#clasificador=Clasificador.ClasificadorVecinosProximos(K_vecinos= 1)\n",
    "clasificador=Clasificador.ClasificadorRegresionLogistica(tasa=0.3,epocas=150)\n",
    "\n",
    "errores=clasificador.validacion(particionado = estrategia, dataset = dataset,clasificador = clasificador, laPlace = True, normalizaDatos= True)\n",
    "\n",
    "print (\"Procesando fichero: example2.data\")\n",
    "print (\"---------------------------------\")\n",
    "print (\"Media del fichero: example2.data\")\n",
    "print (np.average(errores))\n",
    "print (\"---------------------------------\")\n",
    "print (\"Desviacion tipica del fichero: example2.data\")\n",
    "print (np.std(errores))\n",
    "print (\"---------------------------------\")\n",
    "print (\"Media erronea del fichero: example2.data\")\n",
    "print (errores)\n",
    "print (\"---------------------------------\")\n",
    "print (\"Generando grafica del fichero: example2.data\")\n",
    "\n",
    "ii = estrategia.particiones[-1].indicesTrain\n",
    "plotModel(dataset.datos[ii,0],dataset.datos[ii,1],dataset.datos[ii,-1]!=0,clasificador,\"Frontera\",dataset.diccionarios)\n",
    "print (\"Grafica generada con exito\")\n",
    "print (\"---------------------------------\")"
   ]
  },
  {
   "cell_type": "markdown",
   "metadata": {},
   "source": [
    "Resultados obtenidos con la libreria scikit learn"
   ]
  },
  {
   "cell_type": "code",
   "execution_count": 9,
   "metadata": {},
   "outputs": [
    {
     "name": "stdout",
     "output_type": "stream",
     "text": [
      "REGRESION LOGISTICA SCIKIT\n",
      "---------------------------------\n",
      "Procesando fichero: example1.data\n",
      "---------------------------------\n",
      "('Media erronea del fichero: example3.data  :', 0.55000000000000004, 'con Desviacion Tipica (std) = ', 0.10954451150103323)\n",
      "---------------------------------\n"
     ]
    },
    {
     "data": {
      "image/png": "[encoded data removed]",
      "text/plain": [
       "<matplotlib.figure.Figure at 0x7f20fc428f50>"
      ]
     },
     "metadata": {},
     "output_type": "display_data"
    }
   ],
   "source": [
    "#import matplotlib.pyplot as plt\n",
    "#%matplotlib inline\n",
    "import numpy as np\n",
    "from sklearn.linear_model import LogisticRegression\n",
    "import Datos\n",
    "\n",
    "from sklearn import cross_validation\n",
    "from Datos import Datos\n",
    "\n",
    "\n",
    "print (\"REGRESION LOGISTICA SCIKIT\")\n",
    "print (\"---------------------------------\")\n",
    "print (\"Procesando fichero: example1.data\")\n",
    "print (\"---------------------------------\")\n",
    "dataset = Datos(\"./ConjuntosDatos/example1.data\", True)\n",
    "\n",
    "X=dataset.datos[:,:-1]\n",
    "Y=dataset.datos[:,-1]\n",
    "\n",
    "h = .02  # step size in the mesh\n",
    "\n",
    "logreg = LogisticRegression(C=1e5) # Creando el modelo\n",
    "\n",
    "logreg.fit(X, Y) #ajustando el modelo\n",
    "\n",
    "# we create an instance of Neighbours Classifier and fit the data.\n",
    "logreg.fit(X, Y)\n",
    "\n",
    "cvs = cross_validation.cross_val_score(logreg, X,Y, cv=20)\n",
    "print (\"Media erronea del fichero: example3.data  :\",(1-np.mean((cvs))), \"con Desviacion Tipica (std) = \", (np.std((cvs))))\n",
    "print (\"---------------------------------\")\n",
    "\n",
    "\n",
    "# Plot the decision boundary. For that, we will assign a color to each\n",
    "# point in the mesh [x_min, x_max]x[y_min, y_max].\n",
    "x_min, x_max = X[:, 0].min() - .5, X[:, 0].max() + .5\n",
    "y_min, y_max = X[:, 1].min() - .5, X[:, 1].max() + .5\n",
    "xx, yy = np.meshgrid(np.arange(x_min, x_max, h), np.arange(y_min, y_max, h))\n",
    "Z = logreg.predict(np.c_[xx.ravel(), yy.ravel()])\n",
    "\n",
    "# Put the result into a color plot\n",
    "Z = Z.reshape(xx.shape)\n",
    "plt.figure(1, figsize=(4, 3))\n",
    "plt.pcolormesh(xx, yy, Z, cmap=plt.cm.Paired)\n",
    "\n",
    "# Plot also the training points\n",
    "plt.scatter(X[:, 0], X[:, 1], c=Y, edgecolors='k', cmap=plt.cm.Paired)\n",
    "plt.xlabel('x')\n",
    "plt.ylabel('y')\n",
    "plt.xlim(xx.min(), xx.max())\n",
    "plt.ylim(yy.min(), yy.max())\n",
    "plt.xticks(())\n",
    "plt.yticks(())\n",
    "plt.show()"
   ]
  },
  {
   "cell_type": "markdown",
   "metadata": {},
   "source": [
    "Conclusiones Apartado 2:\n",
    "\n",
    "En este apartado solo hemos mostrado los resultados con el example2.data.\n",
    "Ajustando la tasa y el numero de epocas para cada fichero se obtienen mejores reusltados.\n",
    "Observando los resultados que ofrecen VecinosProximos y RegresionLogistica, llegamos a la conclusion que se obtienen mejores resultados con VecinosProximos ya que con RegresionLogistica los datos son mas dificiles de ajustar."
   ]
  }
 ],
 "metadata": {
  "kernelspec": {
   "display_name": "Python 3",
   "language": "python",
   "name": "python3"
  },
  "language_info": {
   "codemirror_mode": {
    "name": "ipython",
    "version": 3
   },
   "file_extension": ".py",
   "mimetype": "text/x-python",
   "name": "python",
   "nbconvert_exporter": "python",
   "pygments_lexer": "ipython3",
   "version": "3.7.0"
  }
 },
 "nbformat": 4,
 "nbformat_minor": 2
}
