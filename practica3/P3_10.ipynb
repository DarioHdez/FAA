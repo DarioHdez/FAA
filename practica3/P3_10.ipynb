{
 "cells": [
  {
   "cell_type": "code",
   "execution_count": 1,
   "metadata": {
    "collapsed": true
   },
   "outputs": [],
   "source": [
    "from Datos.Datos import Datos\n",
    "from Estrategias.Particion import Particion\n",
    "from Estrategias.EstrategiaParticionado import EstrategiaParticionado\n",
    "from Estrategias.ValidacionSimple import ValidacionSimple\n",
    "from Estrategias.ValidacionCruzada import ValidacionCruzada\n",
    "from Estrategias.ValidacionBootstrap import ValidacionBootstrap\n",
    "from Clasificadores.Clasificador import Clasificador\n",
    "from Clasificadores.ClasificadorNaiveBayes import ClasificadorNaiveBayes\n",
    "from Clasificadores.ClasificadorVecinosProximos import ClasificadorVecinosProximos\n",
    "from Clasificadores.ClasificadorRegresionLogistica import ClasificadorRegresionLogistica\n",
    "import numpy as np"
   ]
  },
  {
   "cell_type": "code",
   "execution_count": 2,
   "metadata": {
    "scrolled": true
   },
   "outputs": [
    {
     "name": "stdout",
     "output_type": "stream",
     "text": [
      "\n",
      "Particion:  0 \n",
      "Train: \n",
      " [1, 6, 15, 20, 16, 17, 7, 8, 18, 13, 10, 19, 14, 4] \n",
      "Test: \n",
      " [3, 0, 12, 2, 11, 9, 5]\n",
      "\n",
      "Particion:  1 \n",
      "Train: \n",
      " [3, 0, 12, 2, 11, 9, 5, 8, 18, 13, 10, 19, 14, 4] \n",
      "Test: \n",
      " [1, 6, 15, 20, 16, 17, 7]\n",
      "\n",
      "Particion:  2 \n",
      "Train: \n",
      " [3, 0, 12, 2, 11, 9, 5, 1, 6, 15, 20, 16, 17, 7] \n",
      "Test: \n",
      " [8, 18, 13, 10, 19, 14, 4]\n"
     ]
    }
   ],
   "source": [
    "data = Datos('ConjuntosDatos/balloons.data')\n",
    "estrategia = ValidacionCruzada(3)\n",
    "\n",
    "estrategia.creaParticiones(datos=data.datos,seed=None)\n",
    "\n",
    "for i in range(estrategia.numeroParticiones):\n",
    "    print('\\nParticion: ',i,'\\nTrain: \\n',estrategia.particiones[i].indicesTrain,'\\nTest: \\n',estrategia.particiones[i].indicesTest)"
   ]
  },
  {
   "cell_type": "code",
   "execution_count": 3,
   "metadata": {},
   "outputs": [
    {
     "data": {
      "text/plain": [
       "[0.42857142857142855,\n",
       " 0.42857142857142855,\n",
       " 0.5714285714285714,\n",
       " 0.5714285714285714,\n",
       " 0.0,\n",
       " 0.0]"
      ]
     },
     "execution_count": 3,
     "metadata": {},
     "output_type": "execute_result"
    }
   ],
   "source": [
    "clasificador = ClasificadorNaiveBayes()\n",
    "trainData = data.extraeDatos(estrategia.particiones[-1].indicesTrain)\n",
    "clasificador._calcularMediasDesv(data)\n",
    "    \n",
    "clasificador.validacion(particionado=estrategia,dataset=data,clasificador=clasificador,normalizacion=False)"
   ]
  },
  {
   "cell_type": "code",
   "execution_count": 4,
   "metadata": {},
   "outputs": [
    {
     "data": {
      "text/plain": [
       "2"
      ]
     },
     "execution_count": 4,
     "metadata": {},
     "output_type": "execute_result"
    }
   ],
   "source": [
    "int(2.5)"
   ]
  }
 ],
 "metadata": {
  "kernelspec": {
   "display_name": "Python 3",
   "language": "python",
   "name": "python3"
  },
  "language_info": {
   "codemirror_mode": {
    "name": "ipython",
    "version": 3
   },
   "file_extension": ".py",
   "mimetype": "text/x-python",
   "name": "python",
   "nbconvert_exporter": "python",
   "pygments_lexer": "ipython3",
   "version": "3.6.3"
  }
 },
 "nbformat": 4,
 "nbformat_minor": 2
}
