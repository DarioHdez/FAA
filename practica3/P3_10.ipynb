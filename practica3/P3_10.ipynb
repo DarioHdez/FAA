{
 "cells": [
  {
   "cell_type": "code",
   "execution_count": 1,
   "metadata": {},
   "outputs": [],
   "source": [
    "from Datos.Datos import Datos\n",
    "from Estrategias.Particion import Particion\n",
    "from Estrategias.EstrategiaParticionado import EstrategiaParticionado\n",
    "from Estrategias.ValidacionSimple import ValidacionSimple\n",
    "from Estrategias.ValidacionCruzada import ValidacionCruzada\n",
    "from Estrategias.ValidacionBootstrap import ValidacionBootstrap\n",
    "from Clasificadores.Clasificador import Clasificador\n",
    "from Clasificadores.ClasificadorNaiveBayes import ClasificadorNaiveBayes\n",
    "from Clasificadores.ClasificadorVecinosProximos import ClasificadorVecinosProximos\n",
    "from Clasificadores.ClasificadorRegresionLogistica import ClasificadorRegresionLogistica\n",
    "from Clasificadores.ClasificadorAlgoritmosGeneticos import ClasificadorAG\n",
    "import numpy as np"
   ]
  },
  {
   "cell_type": "code",
   "execution_count": 2,
   "metadata": {
    "scrolled": true
   },
   "outputs": [],
   "source": [
    "# data = Datos('ConjuntosDatos/balloons.data')\n",
    "\n",
    "\n",
    "# for i in range(estrategia.numeroParticiones):\n",
    "#     print('\\nParticion: ',i,'\\nTrain: \\n',estrategia.particiones[i].indicesTrain,'\\nTest: \\n',estrategia.particiones[i].indicesTest)"
   ]
  },
  {
   "cell_type": "code",
   "execution_count": 3,
   "metadata": {},
   "outputs": [],
   "source": [
    "# from Clases_AG.Intervalo import Intervalo\n",
    "# from Clases_AG.IntervalosClase import IntervalosClase\n",
    "from Clases_AG.IntervalosDataSet import IntervalosDataSet"
   ]
  },
  {
   "cell_type": "code",
   "execution_count": 4,
   "metadata": {
    "scrolled": true
   },
   "outputs": [
    {
     "name": "stdout",
     "output_type": "stream",
     "text": [
      "Generacion:  0\n",
      "P1 nReglas:  1 \n",
      "P2 nReglas:  2\n",
      "P1 nReglas:  1 \n",
      "P2 nReglas:  2\n",
      "V1 nReglas:  3 \n",
      "V2 nReglas:  3\n",
      "P1 nReglas:  1 \n",
      "P2 nReglas:  2\n",
      "P1 nReglas:  2 \n",
      "P2 nReglas:  2\n",
      "V1 nReglas:  2 \n",
      "V2 nReglas:  2\n",
      "Generacion:  1\n",
      "P1 nReglas:  2 \n",
      "P2 nReglas:  2\n",
      "V1 nReglas:  2 \n",
      "V2 nReglas:  2\n",
      "P1 nReglas:  2 \n",
      "P2 nReglas:  2\n",
      "V1 nReglas:  2 \n",
      "V2 nReglas:  2\n",
      "P1 nReglas:  2 \n",
      "P2 nReglas:  2\n",
      "V1 nReglas:  2 \n",
      "V2 nReglas:  2\n",
      "P1 nReglas:  2 \n",
      "P2 nReglas:  2\n",
      "V1 nReglas:  2 \n",
      "V2 nReglas:  2\n",
      "Generacion:  2\n",
      "P1 nReglas:  1 \n",
      "P2 nReglas:  1\n",
      "P1 nReglas:  1 \n",
      "P2 nReglas:  2\n",
      "P1 nReglas:  2 \n",
      "P2 nReglas:  2\n",
      "P1 nReglas:  2 \n",
      "P2 nReglas:  2\n",
      "V1 nReglas:  2 \n",
      "V2 nReglas:  2\n",
      "Generacion:  3\n",
      "P1 nReglas:  1 \n",
      "P2 nReglas:  1\n",
      "P1 nReglas:  1 \n",
      "P2 nReglas:  2\n",
      "P1 nReglas:  2 \n",
      "P2 nReglas:  2\n",
      "P1 nReglas:  2 \n",
      "P2 nReglas:  2\n",
      "Generacion:  4\n",
      "P1 nReglas:  2 \n",
      "P2 nReglas:  2\n",
      "V1 nReglas:  2 \n",
      "V2 nReglas:  2\n",
      "P1 nReglas:  2 \n",
      "P2 nReglas:  2\n",
      "P1 nReglas:  1 \n",
      "P2 nReglas:  2\n",
      "V1 nReglas:  3 \n",
      "V2 nReglas:  3\n",
      "P1 nReglas:  2 \n",
      "P2 nReglas:  2\n",
      "Generacion:  5\n",
      "P1 nReglas:  1 \n",
      "P2 nReglas:  1\n",
      "P1 nReglas:  1 \n",
      "P2 nReglas:  1\n",
      "P1 nReglas:  1 \n",
      "P2 nReglas:  2\n",
      "P1 nReglas:  2 \n",
      "P2 nReglas:  2\n",
      "Generacion:  6\n",
      "P1 nReglas:  2 \n",
      "P2 nReglas:  1\n",
      "V1 nReglas:  3 \n",
      "V2 nReglas:  3\n",
      "P1 nReglas:  2 \n",
      "P2 nReglas:  2\n",
      "P1 nReglas:  2 \n",
      "P2 nReglas:  1\n",
      "V1 nReglas:  3 \n",
      "V2 nReglas:  3\n",
      "P1 nReglas:  2 \n",
      "P2 nReglas:  1\n",
      "V1 nReglas:  3 \n",
      "V2 nReglas:  3\n",
      "Generacion:  7\n",
      "P1 nReglas:  2 \n",
      "P2 nReglas:  2\n",
      "V1 nReglas:  2 \n",
      "V2 nReglas:  2\n",
      "P1 nReglas:  2 \n",
      "P2 nReglas:  1\n",
      "P1 nReglas:  2 \n",
      "P2 nReglas:  1\n",
      "P1 nReglas:  2 \n",
      "P2 nReglas:  1\n",
      "V1 nReglas:  3 \n",
      "V2 nReglas:  3\n",
      "Generacion:  8\n",
      "P1 nReglas:  1 \n",
      "P2 nReglas:  2\n",
      "V1 nReglas:  3 \n",
      "V2 nReglas:  3\n",
      "P1 nReglas:  1 \n",
      "P2 nReglas:  2\n",
      "P1 nReglas:  1 \n",
      "P2 nReglas:  2\n",
      "V1 nReglas:  3 \n",
      "V2 nReglas:  3\n",
      "P1 nReglas:  2 \n",
      "P2 nReglas:  2\n",
      "Generacion:  9\n",
      "P1 nReglas:  1 \n",
      "P2 nReglas:  2\n",
      "P1 nReglas:  1 \n",
      "P2 nReglas:  1\n",
      "P1 nReglas:  1 \n",
      "P2 nReglas:  1\n",
      "P1 nReglas:  2 \n",
      "P2 nReglas:  1\n",
      "Generacion:  10\n",
      "P1 nReglas:  2 \n",
      "P2 nReglas:  2\n",
      "V1 nReglas:  2 \n",
      "V2 nReglas:  2\n",
      "P1 nReglas:  1 \n",
      "P2 nReglas:  2\n",
      "P1 nReglas:  2 \n",
      "P2 nReglas:  1\n",
      "V1 nReglas:  3 \n",
      "V2 nReglas:  3\n",
      "P1 nReglas:  1 \n",
      "P2 nReglas:  2\n",
      "V1 nReglas:  3 \n",
      "V2 nReglas:  3\n"
     ]
    }
   ],
   "source": [
    "datos = Datos('ConjuntosDatos/example4.data')\n",
    "algoritmo = ClasificadorAG(tampoblacion=10,numgeneraciones=10,maxreglas=10,dataset=datos,probCruce=0.5,probMutacion=0.1)\n",
    "estrategia = ValidacionCruzada(3)\n",
    "\n",
    "estrategia.creaParticiones(datos=datos.datos,seed=None)\n",
    "\n",
    "algoritmo.entrenamiento(datos.extraeDatos(estrategia.particiones[0].indicesTrain))"
   ]
  },
  {
   "cell_type": "code",
   "execution_count": 5,
   "metadata": {
    "scrolled": true
   },
   "outputs": [
    {
     "name": "stdout",
     "output_type": "stream",
     "text": [
      "0 1\n",
      "2 3\n",
      "4 5\n",
      "6 7\n",
      "8 9\n"
     ]
    }
   ],
   "source": [
    "l = [n for n in range(10)]\n",
    "\n",
    "for (n1,n2) in zip(l[::2],l[1::2]):\n",
    "    print(n1,n2)"
   ]
  },
  {
   "cell_type": "code",
   "execution_count": 6,
   "metadata": {},
   "outputs": [
    {
     "name": "stdout",
     "output_type": "stream",
     "text": [
      "[[0, 0], [2, 2]] []\n"
     ]
    }
   ],
   "source": [
    "l1 = [[0,0]]\n",
    "l2 = [[2,2]]\n",
    "\n",
    "print(l1[:1]+l2[0:],l1[1:]+l2[:0])"
   ]
  }
 ],
 "metadata": {
  "kernelspec": {
   "display_name": "Python 3",
   "language": "python",
   "name": "python3"
  },
  "language_info": {
   "codemirror_mode": {
    "name": "ipython",
    "version": 3
   },
   "file_extension": ".py",
   "mimetype": "text/x-python",
   "name": "python",
   "nbconvert_exporter": "python",
   "pygments_lexer": "ipython3",
   "version": "3.7.0"
  }
 },
 "nbformat": 4,
 "nbformat_minor": 2
}
