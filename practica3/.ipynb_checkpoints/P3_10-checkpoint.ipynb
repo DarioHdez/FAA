{
 "cells": [
  {
   "cell_type": "code",
   "execution_count": 1,
   "metadata": {},
   "outputs": [],
   "source": [
    "from Datos.Datos import Datos\n",
    "from Estrategias.Particion import Particion\n",
    "from Estrategias.EstrategiaParticionado import EstrategiaParticionado\n",
    "from Estrategias.ValidacionSimple import ValidacionSimple\n",
    "from Estrategias.ValidacionCruzada import ValidacionCruzada\n",
    "from Estrategias.ValidacionBootstrap import ValidacionBootstrap\n",
    "from Clasificadores.Clasificador import Clasificador\n",
    "from Clasificadores.ClasificadorNaiveBayes import ClasificadorNaiveBayes\n",
    "from Clasificadores.ClasificadorVecinosProximos import ClasificadorVecinosProximos\n",
    "from Clasificadores.ClasificadorRegresionLogistica import ClasificadorRegresionLogistica\n",
    "import numpy as np"
   ]
  },
  {
   "cell_type": "code",
   "execution_count": 2,
   "metadata": {
    "scrolled": true
   },
   "outputs": [
    {
     "name": "stdout",
     "output_type": "stream",
     "text": [
      "\n",
      "Particion:  0 \n",
      "Train: \n",
      " [15, 20, 2, 12, 9, 1, 10, 14, 18, 7, 16, 8, 19, 5] \n",
      "Test: \n",
      " [17, 11, 0, 13, 6, 4, 3]\n",
      "\n",
      "Particion:  1 \n",
      "Train: \n",
      " [17, 11, 0, 13, 6, 4, 3, 14, 18, 7, 16, 8, 19, 5] \n",
      "Test: \n",
      " [15, 20, 2, 12, 9, 1, 10]\n",
      "\n",
      "Particion:  2 \n",
      "Train: \n",
      " [17, 11, 0, 13, 6, 4, 3, 15, 20, 2, 12, 9, 1, 10] \n",
      "Test: \n",
      " [14, 18, 7, 16, 8, 19, 5]\n"
     ]
    }
   ],
   "source": [
    "data = Datos('ConjuntosDatos/balloons.data')\n",
    "estrategia = ValidacionCruzada(3)\n",
    "\n",
    "estrategia.creaParticiones(datos=data.datos,seed=None)\n",
    "\n",
    "for i in range(estrategia.numeroParticiones):\n",
    "    print('\\nParticion: ',i,'\\nTrain: \\n',estrategia.particiones[i].indicesTrain,'\\nTest: \\n',estrategia.particiones[i].indicesTest)"
   ]
  },
  {
   "cell_type": "code",
   "execution_count": 10,
   "metadata": {},
   "outputs": [
    {
     "ename": "TypeError",
     "evalue": "_calcularMediasDesv() takes 1 positional argument but 2 were given",
     "output_type": "error",
     "traceback": [
      "\u001b[1;31m---------------------------------------------------------------------------\u001b[0m",
      "\u001b[1;31mTypeError\u001b[0m                                 Traceback (most recent call last)",
      "\u001b[1;32m<ipython-input-10-f5d7189bcf58>\u001b[0m in \u001b[0;36m<module>\u001b[1;34m()\u001b[0m\n\u001b[0;32m      1\u001b[0m \u001b[0mclasificador\u001b[0m \u001b[1;33m=\u001b[0m \u001b[0mClasificadorNaiveBayes\u001b[0m\u001b[1;33m(\u001b[0m\u001b[1;33m)\u001b[0m\u001b[1;33m\u001b[0m\u001b[0m\n\u001b[0;32m      2\u001b[0m \u001b[0mtrainData\u001b[0m \u001b[1;33m=\u001b[0m \u001b[0mdata\u001b[0m\u001b[1;33m.\u001b[0m\u001b[0mextraeDatos\u001b[0m\u001b[1;33m(\u001b[0m\u001b[0mestrategia\u001b[0m\u001b[1;33m.\u001b[0m\u001b[0mparticiones\u001b[0m\u001b[1;33m[\u001b[0m\u001b[1;33m-\u001b[0m\u001b[1;36m1\u001b[0m\u001b[1;33m]\u001b[0m\u001b[1;33m.\u001b[0m\u001b[0mindicesTrain\u001b[0m\u001b[1;33m)\u001b[0m\u001b[1;33m\u001b[0m\u001b[0m\n\u001b[1;32m----> 3\u001b[1;33m \u001b[0mclasificador\u001b[0m\u001b[1;33m.\u001b[0m\u001b[0m_calcularMediasDesv\u001b[0m\u001b[1;33m(\u001b[0m\u001b[0mtrainData\u001b[0m\u001b[1;33m)\u001b[0m\u001b[1;33m\u001b[0m\u001b[0m\n\u001b[0m\u001b[0;32m      4\u001b[0m \u001b[1;33m\u001b[0m\u001b[0m\n\u001b[0;32m      5\u001b[0m \u001b[1;31m# clasificador.validacion(particionado=estrategia,dataset=data,clasificador=clasificador,normalizacion=False)\u001b[0m\u001b[1;33m\u001b[0m\u001b[1;33m\u001b[0m\u001b[0m\n",
      "\u001b[1;31mTypeError\u001b[0m: _calcularMediasDesv() takes 1 positional argument but 2 were given"
     ]
    }
   ],
   "source": [
    "clasificador = ClasificadorNaiveBayes()\n",
    "trainData = data.extraeDatos(estrategia.particiones[-1].indicesTrain)\n",
    "clasificador._calcularMediasDesv(trainData)\n",
    "\n",
    "# clasificador.validacion(particionado=estrategia,dataset=data,clasificador=clasificador,normalizacion=False)"
   ]
  }
 ],
 "metadata": {
  "kernelspec": {
   "display_name": "Python 3",
   "language": "python",
   "name": "python3"
  },
  "language_info": {
   "codemirror_mode": {
    "name": "ipython",
    "version": 3
   },
   "file_extension": ".py",
   "mimetype": "text/x-python",
   "name": "python",
   "nbconvert_exporter": "python",
   "pygments_lexer": "ipython3",
   "version": "3.7.0"
  }
 },
 "nbformat": 4,
 "nbformat_minor": 2
}
