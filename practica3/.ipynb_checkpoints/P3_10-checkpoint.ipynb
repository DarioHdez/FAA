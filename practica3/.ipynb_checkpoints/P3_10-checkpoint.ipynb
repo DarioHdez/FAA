{
 "cells": [
  {
   "cell_type": "code",
   "execution_count": 7,
   "metadata": {},
   "outputs": [],
   "source": [
    "from Datos.Datos import Datos\n",
    "from Estrategias.Particion import Particion\n",
    "from Estrategias.EstrategiaParticionado import EstrategiaParticionado\n",
    "from Estrategias.ValidacionSimple import ValidacionSimple\n",
    "from Estrategias.ValidacionCruzada import ValidacionCruzada\n",
    "from Estrategias.ValidacionBootstrap import ValidacionBootstrap\n",
    "from Clasificadores.Clasificador import Clasificador\n",
    "from Clasificadores.ClasificadorNaiveBayes import ClasificadorNaiveBayes\n",
    "from Clasificadores.ClasificadorVecinosProximos import ClasificadorVecinosProximos\n",
    "from Clasificadores.ClasificadorRegresionLogistica import ClasificadorRegresionLogistica\n",
    "from Clasificadores.ClasificadorAG import ClasificadorAG\n",
    "from Clases_AG.Individuo import Individuo\n",
    "# from Clases_AG.IntervalosClase import IntervalosClase\n",
    "from Clases_AG.IntervalosDataSet import IntervalosDataSet\n",
    "from Clases_AG.Regla_binaria import Regla_binaria\n",
    "from Clases_AG.Regla_numerica import Regla_numerica\n",
    "from Clases_AG.Regla import Regla\n",
    "import numpy as np"
   ]
  },
  {
   "cell_type": "markdown",
   "metadata": {
    "collapsed": true,
    "scrolled": true
   },
   "source": [
    "# Apartado 1\n",
    "\n",
    "### 1.A - Generacion de población inicial\n",
    "\n",
    "La población inicial la generamos tantos individuos como tamaño de población inicial. Cada individuo recibe un número máximo de reglas, y genera un número de reglas entre 1 y el máximo.\n",
    "\n",
    "### 1.B - Mecanismo de cruce\n",
    "\n",
    "En primer lugar, hemos considerado suficiente implentar sólo el mecanismo de cruce de reglas entre distintos individuos, dado que implementar cruce interregla sería un coste y complejidad añadadidos muy alto. \n",
    "\n",
    "El algoritmo de cruce que hemos implementado es el siguiente:\n",
    "\n",
    "Para cada par de progenitores, si le número de reglas es 1, los añadimos directamente a la lista de descendencia, dado que cruzarles no serviría de nada. \n",
    "\n",
    "Por último, si tienen varias reglas cada uno y se acierta la probabilidad de cruce, entonces se calcula un punto de corte como un número aleatorio entre 1 y el mínimo del número de reglas de cada individuo, hacemos el corte tal que así:\n",
    "\n",
    "    vastago1.reglas,vastago2.reglas = p1.reglas[:corte]+p2.reglas[corte:],p1.reglas[corte:]+p2.reglas[:corte]\n",
    "    \n",
    "y añadimos los vástagos a la lista de descendientes.\n",
    "\n",
    "### 1.C - Mecanismo de mutación\n",
    "\n",
    "Nuestro AG comprueba para cada regla de cada individuo si muta o no en base a el tipo de regla que sea:\n",
    "\n",
    "- Si es numérica, se calcula un random() para cada condición y si acierta la probabilidad de mutación, se recalcula un número aleatorio entre 0 y el número de intervalos posibles.\n",
    "\n",
    "- Si es binaria, recorre cada bit de cada condición y si acierta la probabilidad de mutación hace un bit-flip "
   ]
  },
  {
   "cell_type": "code",
   "execution_count": 2,
   "metadata": {
    "collapsed": true
   },
   "outputs": [],
   "source": [
    "poblacion = [100,200]\n",
    "generaciones = [100,200]\n",
    "Reglas = [Regla_numerica,Regla_binaria]\n",
    "num_max_reglas = 12\n",
    "pr_cruce = 0.3\n",
    "pr_mutacion = 0.1\n",
    "\n",
    "datos = Datos('ConjuntosDatos/example3.data')\n",
    "\n",
    "for (p,g) in zip(poblacion,generaciones):\n",
    "    for r in Reglas:\n",
    "        algoritmo = ClasificadorAG(tampoblacion=p,numgeneraciones=g,maxreglas=num_max_reglas,\n",
    "                                   dataset=datos,probCruce=pr_cruce,probMutacion=pr_mutacion,tipoRegla=r)\n",
    "\n",
    "\n",
    "\n",
    "    "
   ]
  },
  {
   "cell_type": "code",
   "execution_count": 3,
   "metadata": {
    "scrolled": true
   },
   "outputs": [
    {
     "name": "stdout",
     "output_type": "stream",
     "text": [
      "Generacion:  0 \n",
      "\tBest fitness:  0.397\n",
      "Generacion:  1 \n",
      "\tBest fitness:  0.464\n",
      "Generacion:  2 \n",
      "\tBest fitness:  0.491\n",
      "Generacion:  3 \n",
      "\tBest fitness:  0.491\n",
      "Generacion:  4 \n",
      "\tBest fitness:  0.491\n",
      "Generacion:  5 \n",
      "\tBest fitness:  0.491\n",
      "Generacion:  6 \n",
      "\tBest fitness:  0.506\n",
      "Generacion:  7 \n",
      "\tBest fitness:  0.513\n",
      "Generacion:  8 \n",
      "\tBest fitness:  0.513\n",
      "Generacion:  9 \n",
      "\tBest fitness:  0.513\n",
      "Generacion:  10 \n",
      "\tBest fitness:  0.513\n",
      "Generacion:  11 \n",
      "\tBest fitness:  0.513\n",
      "Generacion:  12 \n",
      "\tBest fitness:  0.513\n",
      "Generacion:  13 \n",
      "\tBest fitness:  0.513\n",
      "Generacion:  14 \n",
      "\tBest fitness:  0.513\n",
      "Generacion:  15 \n",
      "\tBest fitness:  0.513\n",
      "Generacion:  16 \n",
      "\tBest fitness:  0.513\n",
      "Generacion:  17 \n",
      "\tBest fitness:  0.513\n",
      "Generacion:  18 \n",
      "\tBest fitness:  0.513\n",
      "Generacion:  19 \n",
      "\tBest fitness:  0.513\n",
      "Generacion:  20 \n",
      "\tBest fitness:  0.513\n",
      "Generacion:  21 \n",
      "\tBest fitness:  0.513\n",
      "Generacion:  22 \n",
      "\tBest fitness:  0.513\n",
      "Generacion:  23 \n",
      "\tBest fitness:  0.513\n",
      "Generacion:  24 \n",
      "\tBest fitness:  0.513\n",
      "Generacion:  25 \n",
      "\tBest fitness:  0.513\n",
      "Generacion:  26 \n",
      "\tBest fitness:  0.513\n",
      "Generacion:  27 \n",
      "\tBest fitness:  0.513\n",
      "Generacion:  28 \n",
      "\tBest fitness:  0.513\n",
      "Generacion:  29 \n",
      "\tBest fitness:  0.513\n",
      "Generacion:  30 \n",
      "\tBest fitness:  0.513\n",
      "Max generaciones alcanzada.\n",
      "\tBest fitness:  0.513\n"
     ]
    }
   ],
   "source": [
    "datos = Datos('ConjuntosDatos/example3.data')\n",
    "# datos.datos = np.delete(datos.datos,[20,21,22,23,24,25,26,27,28,29,30],axis=1)\n",
    "\n",
    "\n",
    "#  print(trimdata.shape[1])\n",
    "\n",
    "algoritmo = ClasificadorAG(tampoblacion=30,numgeneraciones=30,maxreglas=12,dataset=datos,probCruce=0.3,probMutacion=0.1,tipoRegla=Regla_binaria)\n",
    "estrategia = ValidacionCruzada(3)\n",
    "\n",
    "estrategia.creaParticiones(datos=datos.datos,seed=None)\n",
    "\n",
    "algoritmo.entrenamiento(datos.extraeDatos(estrategia.particiones[0].indicesTrain))"
   ]
  },
  {
   "cell_type": "code",
   "execution_count": 4,
   "metadata": {},
   "outputs": [
    {
     "name": "stdout",
     "output_type": "stream",
     "text": [
      "Mejor fitness:  0.513 \n",
      "Num Reglas:  9\n",
      "[[1, 0, 1, 0, 1, 1, 1, 0, 0, 1], [1, 1, 0, 1, 1, 0, 1, 1, 1, 1]] 1\n",
      "[[1, 0, 1, 1, 1, 0, 1, 1, 0, 1], [0, 0, 1, 0, 0, 1, 1, 0, 1, 1]] 1\n",
      "[[0, 1, 1, 0, 0, 0, 0, 1, 0, 1], [1, 0, 1, 0, 0, 1, 0, 0, 1, 1]] 0\n",
      "[[0, 1, 1, 0, 0, 1, 0, 1, 0, 1], [0, 1, 0, 0, 1, 1, 0, 1, 1, 0]] 1\n",
      "[[1, 0, 1, 0, 1, 0, 1, 1, 0, 0], [1, 1, 0, 1, 0, 0, 1, 0, 0, 0]] 0\n",
      "[[1, 0, 1, 0, 1, 1, 0, 1, 0, 0], [0, 0, 1, 1, 1, 1, 1, 1, 0, 0]] 0\n",
      "[[0, 1, 1, 1, 1, 1, 0, 1, 1, 1], [0, 1, 1, 1, 1, 0, 1, 0, 1, 1]] 1\n",
      "[[0, 1, 1, 1, 1, 1, 0, 1, 1, 1], [0, 1, 1, 1, 1, 0, 1, 0, 1, 1]] 1\n",
      "[[1, 1, 0, 0, 1, 1, 1, 1, 1, 0], [1, 1, 0, 0, 0, 1, 1, 1, 1, 0]] 1\n"
     ]
    }
   ],
   "source": [
    "Ario_Maximo = algoritmo.selecionar_mejor_individuo()\n",
    "\n",
    "print('Mejor fitness: ',Ario_Maximo.fitness,'\\nNum Reglas: ',Ario_Maximo.numReglas)\n",
    "\n",
    "for regla in Ario_Maximo.reglas:\n",
    "    print(regla.condiciones, regla.conclusion)\n"
   ]
  },
  {
   "cell_type": "code",
   "execution_count": 5,
   "metadata": {},
   "outputs": [
    {
     "name": "stdout",
     "output_type": "stream",
     "text": [
      "Fitness Ario:  0.513\n",
      "Error final al clasificar:  0.466\n"
     ]
    }
   ],
   "source": [
    "# from Clasificadores.ClasificadorAlgoritmosGeneticos import ClasificadorAG\n",
    "prediccion = algoritmo.clasifica(datostest=datos.extraeDatos(estrategia.particiones[0].indicesTest))\n",
    "\n",
    "\n",
    "\n",
    "error = algoritmo.error(datos.extraeDatos(estrategia.particiones[0].indicesTest),prediccion);\n",
    "\n",
    "print('Error final al clasificar: ',np.around(error,3))"
   ]
  },
  {
   "cell_type": "code",
   "execution_count": 6,
   "metadata": {},
   "outputs": [
    {
     "name": "stdout",
     "output_type": "stream",
     "text": [
      "[ 0.197  0.238  0.281  0.327  0.329  0.35   0.379  0.393  0.417  0.455\n",
      "  0.463  0.467  0.476  0.464  0.472  0.485  0.481  0.47   0.463  0.451\n",
      "  0.459  0.46   0.491  0.488  0.475  0.481  0.478  0.486  0.499  0.499\n",
      "  0.501] \n",
      "\n",
      "\n",
      "[ 0.397  0.464  0.491  0.491  0.491  0.491  0.506  0.513  0.513  0.513\n",
      "  0.513  0.513  0.513  0.513  0.513  0.513  0.513  0.513  0.513  0.513\n",
      "  0.513  0.513  0.513  0.513  0.513  0.513  0.513  0.513  0.513  0.513\n",
      "  0.513]\n"
     ]
    }
   ],
   "source": [
    "print(np.around(np.array(algoritmo.mediaFitnesPoblacion),3),'\\n\\n')\n",
    "print(np.around(np.array(algoritmo.mejoresFitness),3))"
   ]
  },
  {
   "cell_type": "code",
   "execution_count": null,
   "metadata": {},
   "outputs": [],
   "source": []
  }
 ],
 "metadata": {
  "kernelspec": {
   "display_name": "Python 3",
   "language": "python",
   "name": "python3"
  },
  "language_info": {
   "codemirror_mode": {
    "name": "ipython",
    "version": 3
   },
   "file_extension": ".py",
   "mimetype": "text/x-python",
   "name": "python",
   "nbconvert_exporter": "python",
   "pygments_lexer": "ipython3",
   "version": "3.6.3"
  }
 },
 "nbformat": 4,
 "nbformat_minor": 2
}
