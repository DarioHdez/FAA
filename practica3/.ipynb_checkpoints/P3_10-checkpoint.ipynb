{
 "cells": [
  {
   "cell_type": "code",
   "execution_count": 1,
   "metadata": {},
   "outputs": [],
   "source": [
    "from Datos.Datos import Datos\n",
    "from Estrategias.Particion import Particion\n",
    "from Estrategias.EstrategiaParticionado import EstrategiaParticionado\n",
    "from Estrategias.ValidacionSimple import ValidacionSimple\n",
    "from Estrategias.ValidacionCruzada import ValidacionCruzada\n",
    "from Estrategias.ValidacionBootstrap import ValidacionBootstrap\n",
    "from Clasificadores.Clasificador import Clasificador\n",
    "from Clasificadores.ClasificadorNaiveBayes import ClasificadorNaiveBayes\n",
    "from Clasificadores.ClasificadorVecinosProximos import ClasificadorVecinosProximos\n",
    "from Clasificadores.ClasificadorRegresionLogistica import ClasificadorRegresionLogistica\n",
    "from Clasificadores.ClasificadorAlgoritmosGeneticos import ClasificadorAG\n",
    "import numpy as np"
   ]
  },
  {
   "cell_type": "code",
   "execution_count": 2,
   "metadata": {
    "scrolled": true
   },
   "outputs": [],
   "source": [
    "# data = Datos('ConjuntosDatos/balloons.data')\n",
    "\n",
    "\n",
    "# for i in range(estrategia.numeroParticiones):\n",
    "#     print('\\nParticion: ',i,'\\nTrain: \\n',estrategia.particiones[i].indicesTrain,'\\nTest: \\n',estrategia.particiones[i].indicesTest)"
   ]
  },
  {
   "cell_type": "code",
   "execution_count": 3,
   "metadata": {},
   "outputs": [],
   "source": [
    "from Clases_AG.Individuo import Individuo\n",
    "# from Clases_AG.IntervalosClase import IntervalosClase\n",
    "from Clases_AG.IntervalosDataSet import IntervalosDataSet"
   ]
  },
  {
   "cell_type": "code",
   "execution_count": 4,
   "metadata": {
    "scrolled": true
   },
   "outputs": [
    {
     "ename": "NameError",
     "evalue": "name 'trimdata' is not defined",
     "output_type": "error",
     "traceback": [
      "\u001b[1;31m---------------------------------------------------------------------------\u001b[0m",
      "\u001b[1;31mNameError\u001b[0m                                 Traceback (most recent call last)",
      "\u001b[1;32m<ipython-input-4-dda73fd686b4>\u001b[0m in \u001b[0;36m<module>\u001b[1;34m()\u001b[0m\n\u001b[0;32m      5\u001b[0m \u001b[0mestrategia\u001b[0m \u001b[1;33m=\u001b[0m \u001b[0mValidacionCruzada\u001b[0m\u001b[1;33m(\u001b[0m\u001b[1;36m3\u001b[0m\u001b[1;33m)\u001b[0m\u001b[1;33m\u001b[0m\u001b[0m\n\u001b[0;32m      6\u001b[0m \u001b[1;33m\u001b[0m\u001b[0m\n\u001b[1;32m----> 7\u001b[1;33m \u001b[0mprint\u001b[0m\u001b[1;33m(\u001b[0m\u001b[0mtrimdata\u001b[0m\u001b[1;33m.\u001b[0m\u001b[0mshape\u001b[0m\u001b[1;33m[\u001b[0m\u001b[1;36m1\u001b[0m\u001b[1;33m]\u001b[0m\u001b[1;33m)\u001b[0m\u001b[1;33m\u001b[0m\u001b[0m\n\u001b[0m\u001b[0;32m      8\u001b[0m \u001b[0mestrategia\u001b[0m\u001b[1;33m.\u001b[0m\u001b[0mcreaParticiones\u001b[0m\u001b[1;33m(\u001b[0m\u001b[0mdatos\u001b[0m\u001b[1;33m=\u001b[0m\u001b[0mtrimdata\u001b[0m\u001b[1;33m,\u001b[0m\u001b[0mseed\u001b[0m\u001b[1;33m=\u001b[0m\u001b[1;32mNone\u001b[0m\u001b[1;33m)\u001b[0m\u001b[1;33m\u001b[0m\u001b[0m\n\u001b[0;32m      9\u001b[0m \u001b[1;33m\u001b[0m\u001b[0m\n",
      "\u001b[1;31mNameError\u001b[0m: name 'trimdata' is not defined"
     ]
    }
   ],
   "source": [
    "datos = Datos('ConjuntosDatos/wdbc.data')\n",
    "datos.datos = np.delete(datos.datos,[20,21,22,23,24,25,26,27,28,29,30],axis=1)\n",
    "\n",
    "algoritmo = ClasificadorAG(tampoblacion=20,numgeneraciones=20,maxreglas=10,dataset=datos,probCruce=0.3,probMutacion=0.1)\n",
    "estrategia = ValidacionCruzada(3)\n",
    "\n",
    "# print(trimdata.shape[1])\n",
    "estrategia.creaParticiones(datos=datos.datos,seed=None)\n",
    "\n",
    "algoritmo.entrenamiento(datos.extraeDatos(estrategia.particiones[0].indicesTrain))"
   ]
  },
  {
   "cell_type": "code",
   "execution_count": null,
   "metadata": {},
   "outputs": [],
   "source": [
    "Ario_Maximo = algoritmo.selecionar_mejor_individuo()\n",
    "\n",
    "print('Mejor fitness: ',Ario_Maximo.fitness,'\\nNum Reglas: ',Ario_Maximo.numReglas)\n",
    "\n",
    "for regla in Ario_Maximo.reglas:\n",
    "    print(regla.condiciones, regla.conclusion)\n"
   ]
  },
  {
   "cell_type": "code",
   "execution_count": null,
   "metadata": {},
   "outputs": [],
   "source": [
    "# from Clasificadores.ClasificadorAlgoritmosGeneticos import ClasificadorAG\n",
    "prediccion = algoritmo.clasifica(datostest=datos.extraeDatos(estrategia.particiones[0].indicesTest))\n",
    "\n",
    "\n",
    "\n",
    "error = algoritmo.error(datos.extraeDatos(estrategia.particiones[0].indicesTest),prediccion);\n",
    "\n",
    "print('Error final al clasificar: ',np.around(error,3))"
   ]
  }
 ],
 "metadata": {
  "kernelspec": {
   "display_name": "Python 3",
   "language": "python",
   "name": "python3"
  },
  "language_info": {
   "codemirror_mode": {
    "name": "ipython",
    "version": 3
   },
   "file_extension": ".py",
   "mimetype": "text/x-python",
   "name": "python",
   "nbconvert_exporter": "python",
   "pygments_lexer": "ipython3",
   "version": "3.7.0"
  }
 },
 "nbformat": 4,
 "nbformat_minor": 2
}
