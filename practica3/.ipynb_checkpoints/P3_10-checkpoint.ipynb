{
 "cells": [
  {
   "cell_type": "code",
   "execution_count": 1,
   "metadata": {
    "collapsed": true
   },
   "outputs": [],
   "source": [
    "from Datos.Datos import Datos\n",
    "from Estrategias.Particion import Particion\n",
    "from Estrategias.EstrategiaParticionado import EstrategiaParticionado\n",
    "from Estrategias.ValidacionSimple import ValidacionSimple\n",
    "from Estrategias.ValidacionCruzada import ValidacionCruzada\n",
    "from Estrategias.ValidacionBootstrap import ValidacionBootstrap\n",
    "from Clasificadores.Clasificador import Clasificador\n",
    "from Clasificadores.ClasificadorNaiveBayes import ClasificadorNaiveBayes\n",
    "from Clasificadores.ClasificadorVecinosProximos import ClasificadorVecinosProximos\n",
    "from Clasificadores.ClasificadorRegresionLogistica import ClasificadorRegresionLogistica\n",
    "import numpy as np"
   ]
  },
  {
   "cell_type": "code",
   "execution_count": 2,
   "metadata": {
    "scrolled": true
   },
   "outputs": [
    {
     "name": "stdout",
     "output_type": "stream",
     "text": [
      "\n",
      "Particion:  0 \n",
      "Train: \n",
      " [12, 10, 18, 13, 0, 3, 9, 8, 6, 19, 4, 5, 7, 1] \n",
      "Test: \n",
      " [15, 2, 16, 20, 11, 17, 14]\n",
      "\n",
      "Particion:  1 \n",
      "Train: \n",
      " [15, 2, 16, 20, 11, 17, 14, 8, 6, 19, 4, 5, 7, 1] \n",
      "Test: \n",
      " [12, 10, 18, 13, 0, 3, 9]\n",
      "\n",
      "Particion:  2 \n",
      "Train: \n",
      " [15, 2, 16, 20, 11, 17, 14, 12, 10, 18, 13, 0, 3, 9] \n",
      "Test: \n",
      " [8, 6, 19, 4, 5, 7, 1]\n"
     ]
    }
   ],
   "source": [
    "data = Datos('ConjuntosDatos/balloons.data')\n",
    "estrategia = ValidacionCruzada(3)\n",
    "\n",
    "estrategia.creaParticiones(datos=data.datos,seed=None)\n",
    "\n",
    "for i in range(estrategia.numeroParticiones):\n",
    "    print('\\nParticion: ',i,'\\nTrain: \\n',estrategia.particiones[i].indicesTrain,'\\nTest: \\n',estrategia.particiones[i].indicesTest)"
   ]
  },
  {
   "cell_type": "code",
   "execution_count": 3,
   "metadata": {},
   "outputs": [
    {
     "data": {
      "text/plain": [
       "[0.5714285714285714,\n",
       " 0.5714285714285714,\n",
       " 0.2857142857142857,\n",
       " 0.2857142857142857,\n",
       " 0.42857142857142855,\n",
       " 0.42857142857142855]"
      ]
     },
     "execution_count": 3,
     "metadata": {},
     "output_type": "execute_result"
    }
   ],
   "source": [
    "clasificador = ClasificadorNaiveBayes()\n",
    "trainData = data.extraeDatos(estrategia.particiones[-1].indicesTrain)\n",
    "clasificador._calcularMediasDesv(data)\n",
    "    \n",
    "clasificador.validacion(particionado=estrategia,dataset=data,clasificador=clasificador,normalizacion=False)"
   ]
  },
  {
   "cell_type": "code",
   "execution_count": 4,
   "metadata": {},
   "outputs": [],
   "source": [
    "# from Clases_AG.Intervalo import Intervalo\n",
    "# from Clases_AG.IntervalosClase import IntervalosClase\n",
    "from Clases_AG.IntervalosDataSet import IntervalosDataSet"
   ]
  },
  {
   "cell_type": "code",
   "execution_count": 5,
   "metadata": {},
   "outputs": [
    {
     "name": "stdout",
     "output_type": "stream",
     "text": [
      "Amplitud de clase:  0.055\n",
      "-0.164227 -0.219227\n",
      "Amplitud de clase:  1.033\n",
      "-2.977805 -4.010805\n",
      "\n",
      "Clase:\n",
      "\n",
      "1 -0.164227 -0.219227\n",
      "2 -0.109227 -0.164227\n",
      "3 -0.054227 -0.109227\n",
      "4 0.000773 -0.054227\n",
      "5 0.055773 0.000773\n",
      "6 0.110773 0.055773\n",
      "7 0.165773 0.110773\n",
      "8 0.21861 0.165773\n",
      "\n",
      "Clase:\n",
      "\n",
      "1 -2.977805 -4.010805\n",
      "2 -1.944805 -2.977805\n",
      "3 -0.911805 -1.944805\n",
      "4 0.121195 -0.911805\n",
      "5 1.154195 0.121195\n",
      "6 2.187195 1.154195\n",
      "7 3.220195 2.187195\n",
      "8 4.255456 3.220195\n"
     ]
    }
   ],
   "source": [
    "datos = Datos('ConjuntosDatos/example4.data')\n",
    "\n",
    "tabla = IntervalosDataSet(datos.datos)\n",
    "\n",
    "for clase in tabla.tablas:\n",
    "    print('\\nClase:\\n')\n",
    "    for intervalo in clase.Intervalos:\n",
    "        print(intervalo.id,intervalo.maximo,intervalo.minimo)"
   ]
  },
  {
   "cell_type": "code",
   "execution_count": 6,
   "metadata": {
    "scrolled": true
   },
   "outputs": [
    {
     "name": "stdout",
     "output_type": "stream",
     "text": [
      "Maximo:  -0.1 \n",
      "Minimo:  -0.27\n"
     ]
    }
   ],
   "source": [
    "# a = Intervalo(1,-0.27,-0.1)\n",
    "# print('Maximo: ',a.maximo,'\\nMinimo: ',a.minimo)"
   ]
  }
 ],
 "metadata": {
  "kernelspec": {
   "display_name": "Python 3",
   "language": "python",
   "name": "python3"
  },
  "language_info": {
   "codemirror_mode": {
    "name": "ipython",
    "version": 3
   },
   "file_extension": ".py",
   "mimetype": "text/x-python",
   "name": "python",
   "nbconvert_exporter": "python",
   "pygments_lexer": "ipython3",
   "version": "3.6.3"
  }
 },
 "nbformat": 4,
 "nbformat_minor": 2
}
