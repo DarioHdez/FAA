{
 "cells": [
  {
   "cell_type": "code",
   "execution_count": 1,
   "metadata": {},
   "outputs": [],
   "source": [
    "from Datos.Datos import Datos\n",
    "from Estrategias.Particion import Particion\n",
    "from Estrategias.EstrategiaParticionado import EstrategiaParticionado\n",
    "from Estrategias.ValidacionSimple import ValidacionSimple\n",
    "from Estrategias.ValidacionCruzada import ValidacionCruzada\n",
    "from Estrategias.ValidacionBootstrap import ValidacionBootstrap\n",
    "from Clasificadores.Clasificador import Clasificador\n",
    "from Clasificadores.ClasificadorNaiveBayes import ClasificadorNaiveBayes\n",
    "from Clasificadores.ClasificadorVecinosProximos import ClasificadorVecinosProximos\n",
    "from Clasificadores.ClasificadorRegresionLogistica import ClasificadorRegresionLogistica\n",
    "import numpy as np"
   ]
  },
  {
   "cell_type": "code",
   "execution_count": 3,
   "metadata": {
    "scrolled": true
   },
   "outputs": [
    {
     "name": "stdout",
     "output_type": "stream",
     "text": [
      "\n",
      "Particion:  0 \n",
      "Train: \n",
      " [15, 14, 10, 6, 0, 15, 11, 18, 5, 9, 16, 16, 13, 1, 7, 15, 1, 12, 12, 13, 7] \n",
      "Test: \n",
      " [2, 3, 4, 8, 17, 19, 20]\n",
      "\n",
      "Particion:  1 \n",
      "Train: \n",
      " [1, 0, 11, 0, 3, 20, 18, 18, 13, 13, 1, 7, 18, 19, 4, 15, 4, 19, 0, 12, 17] \n",
      "Test: \n",
      " [2, 5, 6, 8, 9, 10, 14, 16]\n",
      "\n",
      "Particion:  2 \n",
      "Train: \n",
      " [11, 11, 5, 18, 19, 16, 6, 7, 4, 8, 12, 9, 18, 6, 9, 10, 11, 3, 1, 2, 16] \n",
      "Test: \n",
      " [0, 13, 14, 15, 17, 20]\n",
      "\n",
      "Particion:  3 \n",
      "Train: \n",
      " [2, 0, 18, 4, 0, 12, 7, 1, 3, 6, 4, 7, 1, 11, 11, 18, 15, 15, 0, 12, 2] \n",
      "Test: \n",
      " [5, 8, 9, 10, 13, 14, 16, 17, 19, 20]\n",
      "\n",
      "Particion:  4 \n",
      "Train: \n",
      " [11, 1, 19, 15, 20, 19, 1, 10, 15, 10, 20, 16, 19, 15, 11, 11, 1, 20, 3, 7, 5] \n",
      "Test: \n",
      " [0, 2, 4, 6, 8, 9, 12, 13, 14, 17, 18]\n",
      "\n",
      "Particion:  5 \n",
      "Train: \n",
      " [12, 19, 16, 9, 9, 13, 8, 12, 1, 19, 5, 14, 8, 7, 16, 18, 12, 0, 0, 20, 11] \n",
      "Test: \n",
      " [2, 3, 4, 6, 10, 15, 17]\n",
      "\n",
      "Particion:  6 \n",
      "Train: \n",
      " [15, 0, 16, 2, 0, 18, 16, 6, 16, 7, 10, 9, 4, 2, 12, 17, 8, 11, 16, 19, 20] \n",
      "Test: \n",
      " [1, 3, 5, 13, 14]\n",
      "\n",
      "Particion:  7 \n",
      "Train: \n",
      " [7, 2, 10, 7, 19, 6, 10, 18, 19, 0, 20, 20, 15, 8, 16, 20, 12, 15, 17, 12, 16] \n",
      "Test: \n",
      " [1, 3, 4, 5, 9, 11, 13, 14]\n",
      "\n",
      "Particion:  8 \n",
      "Train: \n",
      " [14, 7, 8, 11, 3, 3, 3, 1, 19, 6, 2, 19, 1, 12, 1, 5, 9, 1, 12, 10, 11] \n",
      "Test: \n",
      " [0, 4, 13, 15, 16, 17, 18, 20]\n",
      "\n",
      "Particion:  9 \n",
      "Train: \n",
      " [2, 7, 8, 5, 15, 0, 10, 3, 9, 7, 7, 5, 15, 8, 9, 18, 15, 8, 10, 11, 8] \n",
      "Test: \n",
      " [1, 4, 6, 12, 13, 14, 16, 17, 19, 20]\n"
     ]
    }
   ],
   "source": [
    "data = Datos('ConjuntosDatos/balloons.data')\n",
    "estrategia = ValidacionCruzada(10)\n",
    "clasificador = ClasificadorRegresionLogistica(5,1)\n",
    "\n",
    "estrategia.creaParticiones(datos=data.datos,seed=None)\n",
    "\n",
    "for i in range(estrategia.numeroParticiones):\n",
    "    print('\\nParticion: ',i,'\\nTrain: \\n',estrategia.particiones[i].indicesTrain,'\\nTest: \\n',estrategia.particiones[i].indicesTest)"
   ]
  }
 ],
 "metadata": {
  "kernelspec": {
   "display_name": "Python 3",
   "language": "python",
   "name": "python3"
  },
  "language_info": {
   "codemirror_mode": {
    "name": "ipython",
    "version": 3
   },
   "file_extension": ".py",
   "mimetype": "text/x-python",
   "name": "python",
   "nbconvert_exporter": "python",
   "pygments_lexer": "ipython3",
   "version": "3.7.0"
  }
 },
 "nbformat": 4,
 "nbformat_minor": 2
}
