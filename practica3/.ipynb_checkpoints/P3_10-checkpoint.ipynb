{
 "cells": [
  {
   "cell_type": "code",
   "execution_count": 1,
   "metadata": {},
   "outputs": [],
   "source": [
    "from Datos.Datos import Datos\n",
    "from Estrategias.Particion import Particion\n",
    "from Estrategias.EstrategiaParticionado import EstrategiaParticionado\n",
    "from Estrategias.ValidacionSimple import ValidacionSimple\n",
    "from Estrategias.ValidacionCruzada import ValidacionCruzada\n",
    "from Estrategias.ValidacionBootstrap import ValidacionBootstrap\n",
    "from Clasificadores.Clasificador import Clasificador\n",
    "from Clasificadores.ClasificadorNaiveBayes import ClasificadorNaiveBayes\n",
    "from Clasificadores.ClasificadorVecinosProximos import ClasificadorVecinosProximos\n",
    "from Clasificadores.ClasificadorRegresionLogistica import ClasificadorRegresionLogistica\n",
    "from Clasificadores.ClasificadorAlgoritmosGeneticos import ClasificadorAG\n",
    "import numpy as np"
   ]
  },
  {
   "cell_type": "code",
   "execution_count": 2,
   "metadata": {
    "collapsed": true,
    "scrolled": true
   },
   "outputs": [],
   "source": [
    "# data = Datos('ConjuntosDatos/balloons.data')\n",
    "\n",
    "\n",
    "# for i in range(estrategia.numeroParticiones):\n",
    "#     print('\\nParticion: ',i,'\\nTrain: \\n',estrategia.particiones[i].indicesTrain,'\\nTest: \\n',estrategia.particiones[i].indicesTest)"
   ]
  },
  {
   "cell_type": "code",
   "execution_count": 3,
   "metadata": {
    "collapsed": true
   },
   "outputs": [],
   "source": [
    "from Clases_AG.Individuo import Individuo\n",
    "# from Clases_AG.IntervalosClase import IntervalosClase\n",
    "from Clases_AG.IntervalosDataSet import IntervalosDataSet"
   ]
  },
  {
   "cell_type": "code",
   "execution_count": 12,
   "metadata": {
    "scrolled": true
   },
   "outputs": [
    {
     "name": "stdout",
     "output_type": "stream",
     "text": [
      "Generacion:  0 \n",
      "\tBest fitness:  0.629\n",
      "Generacion:  1 \n",
      "\tBest fitness:  0.629\n",
      "Generacion:  2 \n",
      "\tBest fitness:  0.629\n",
      "Generacion:  3 \n",
      "\tBest fitness:  0.629\n",
      "Generacion:  4 \n",
      "\tBest fitness:  0.629\n",
      "Generacion:  5 \n",
      "\tBest fitness:  0.634\n",
      "Generacion:  6 \n",
      "\tBest fitness:  0.684\n",
      "Generacion:  7 \n",
      "\tBest fitness:  0.684\n",
      "Generacion:  8 \n",
      "\tBest fitness:  0.684\n",
      "Generacion:  9 \n",
      "\tBest fitness:  0.684\n",
      "Generacion:  10 \n",
      "\tBest fitness:  0.684\n",
      "Generacion:  11 \n",
      "\tBest fitness:  0.684\n",
      "Generacion:  12 \n",
      "\tBest fitness:  0.684\n",
      "Generacion:  13 \n",
      "\tBest fitness:  0.692\n",
      "Generacion:  14 \n",
      "\tBest fitness:  0.692\n",
      "Generacion:  15 \n",
      "\tBest fitness:  0.692\n",
      "Generacion:  16 \n",
      "\tBest fitness:  0.692\n",
      "Generacion:  17 \n",
      "\tBest fitness:  0.692\n",
      "Generacion:  18 \n",
      "\tBest fitness:  0.692\n",
      "Generacion:  19 \n",
      "\tBest fitness:  0.692\n",
      "Generacion:  20 \n",
      "\tBest fitness:  0.692\n",
      "Max generaciones alcanzada.\n",
      "\tBest fitness:  0.692\n"
     ]
    }
   ],
   "source": [
    "datos = Datos('ConjuntosDatos/wdbc.data')\n",
    "# datos.datos = np.delete(datos.datos,[20,21,22,23,24,25,26,27,28,29,30],axis=1)\n",
    "\n",
    "\n",
    "#  print(trimdata.shape[1])\n",
    "\n",
    "algoritmo = ClasificadorAG(tampoblacion=20,numgeneraciones=20,maxreglas=20,dataset=datos,probCruce=0.3,probMutacion=0.1)\n",
    "estrategia = ValidacionCruzada(3)\n",
    "\n",
    "estrategia.creaParticiones(datos=datos.datos,seed=None)\n",
    "\n",
    "algoritmo.entrenamiento(datos.extraeDatos(estrategia.particiones[0].indicesTrain))"
   ]
  },
  {
   "cell_type": "code",
   "execution_count": 5,
   "metadata": {},
   "outputs": [
    {
     "name": "stdout",
     "output_type": "stream",
     "text": [
      "Mejor fitness:  0.582 \n",
      "Num Reglas:  6\n",
      "[0, 0] 0\n",
      "[0, 4] 1\n",
      "[0, 0] 1\n",
      "[0, 5] 0\n",
      "[0, 1] 1\n",
      "[0, 8] 1\n"
     ]
    }
   ],
   "source": [
    "Ario_Maximo = algoritmo.selecionar_mejor_individuo()\n",
    "\n",
    "print('Mejor fitness: ',Ario_Maximo.fitness,'\\nNum Reglas: ',Ario_Maximo.numReglas)\n",
    "\n",
    "for regla in Ario_Maximo.reglas:\n",
    "    print(regla.condiciones, regla.conclusion)\n"
   ]
  },
  {
   "cell_type": "code",
   "execution_count": 6,
   "metadata": {},
   "outputs": [
    {
     "name": "stdout",
     "output_type": "stream",
     "text": [
      "Fitness Ario:  0.582\n",
      "Error final al clasificar:  0.545\n"
     ]
    }
   ],
   "source": [
    "# from Clasificadores.ClasificadorAlgoritmosGeneticos import ClasificadorAG\n",
    "prediccion = algoritmo.clasifica(datostest=datos.extraeDatos(estrategia.particiones[0].indicesTest))\n",
    "\n",
    "\n",
    "\n",
    "error = algoritmo.error(datos.extraeDatos(estrategia.particiones[0].indicesTest),prediccion);\n",
    "\n",
    "print('Error final al clasificar: ',np.around(error,3))"
   ]
  },
  {
   "cell_type": "code",
   "execution_count": 16,
   "metadata": {},
   "outputs": [
    {
     "name": "stdout",
     "output_type": "stream",
     "text": [
      "[ 0.278  0.487  0.507  0.583  0.578  0.563  0.599  0.629  0.637  0.644\n",
      "  0.644  0.661  0.627  0.636  0.596  0.668  0.647  0.605  0.647  0.653\n",
      "  0.65 ] \n",
      "\n",
      "\n",
      "[ 0.629  0.629  0.629  0.629  0.629  0.634  0.684  0.684  0.684  0.684\n",
      "  0.684  0.684  0.684  0.692  0.692  0.692  0.692  0.692  0.692  0.692\n",
      "  0.692]\n"
     ]
    }
   ],
   "source": [
    "print(np.around(np.array(algoritmo.mediaFitnesPoblacion),3),'\\n\\n')\n",
    "print(np.around(np.array(algoritmo.mejoresFitness),3))"
   ]
  }
 ],
 "metadata": {
  "kernelspec": {
   "display_name": "Python 3",
   "language": "python",
   "name": "python3"
  },
  "language_info": {
   "codemirror_mode": {
    "name": "ipython",
    "version": 3
   },
   "file_extension": ".py",
   "mimetype": "text/x-python",
   "name": "python",
   "nbconvert_exporter": "python",
   "pygments_lexer": "ipython3",
   "version": "3.6.3"
  }
 },
 "nbformat": 4,
 "nbformat_minor": 2
}
