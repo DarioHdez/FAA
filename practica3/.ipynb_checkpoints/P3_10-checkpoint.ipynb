{
 "cells": [
  {
   "cell_type": "code",
   "execution_count": 29,
   "metadata": {},
   "outputs": [],
   "source": [
    "from Datos.Datos import Datos\n",
    "from Estrategias import EstrategiaParticionado, ValidacionSimple,ValidacionCruzada,ValidacionBootstrap\n",
    "from Clasificadores import Clasificador,ClasificadorNaiveBayes,ClasificadorRegresionLogistica,ClasificadorVecinosProximos"
   ]
  },
  {
   "cell_type": "code",
   "execution_count": 43,
   "metadata": {},
   "outputs": [
    {
     "name": "stdout",
     "output_type": "stream",
     "text": [
      "Data: \n",
      "\t [[1. 1. 1. 0. 1.]\n",
      " [1. 1. 1. 0. 1.]\n",
      " [1. 1. 1. 1. 0.]\n",
      " [1. 1. 0. 0. 0.]\n",
      " [1. 1. 0. 1. 0.]\n",
      " [1. 0. 1. 0. 1.]\n",
      " [1. 0. 1. 0. 1.]\n",
      " [1. 0. 1. 1. 0.]\n",
      " [1. 0. 0. 0. 0.]\n",
      " [1. 0. 0. 1. 0.]\n",
      " [1. 0. 0. 1. 0.]\n",
      " [0. 1. 1. 0. 1.]\n",
      " [0. 1. 1. 0. 1.]\n",
      " [0. 1. 1. 1. 0.]\n",
      " [0. 1. 0. 0. 0.]\n",
      " [0. 1. 0. 1. 0.]\n",
      " [0. 0. 1. 0. 1.]\n",
      " [0. 0. 1. 0. 1.]\n",
      " [0. 0. 1. 1. 0.]\n",
      " [0. 0. 0. 0. 0.]\n",
      " [0. 0. 0. 1. 0.]]\n"
     ]
    }
   ],
   "source": [
    "data = Datos('ConjuntosDatos/balloons.data')\n",
    "\n",
    "print('Data: \\n',data.datos)"
   ]
  }
 ],
 "metadata": {
  "kernelspec": {
   "display_name": "Python 3",
   "language": "python",
   "name": "python3"
  },
  "language_info": {
   "codemirror_mode": {
    "name": "ipython",
    "version": 3
   },
   "file_extension": ".py",
   "mimetype": "text/x-python",
   "name": "python",
   "nbconvert_exporter": "python",
   "pygments_lexer": "ipython3",
   "version": "3.7.0"
  }
 },
 "nbformat": 4,
 "nbformat_minor": 2
}
