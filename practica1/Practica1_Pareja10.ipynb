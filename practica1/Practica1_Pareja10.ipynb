{
 "cells": [
  {
   "cell_type": "markdown",
   "metadata": {},
   "source": [
    "# Practica1 - Fundamentos de Aprendizaje Automático\n",
    "# Dario Hernández Barroso y Andres Martos Cuevas"
   ]
  },
  {
   "cell_type": "markdown",
   "metadata": {},
   "source": [
    "### Inicialización de las librerias a utilizar:"
   ]
  },
  {
   "cell_type": "code",
   "execution_count": null,
   "metadata": {},
   "outputs": [],
   "source": [
    "from Datos import Datos\n",
    "from Clasificador import  ClasificadorNaiveBayes\n",
    "from EstrategiaParticionado import  ValidacionCruzada,ValidacionSimple,ValidacionBootstrap\n",
    "import numpy as np\n",
    "\n",
    "from sklearn import preprocessing\n",
    "from sklearn.naive_bayes import MultinomialNB\n",
    "from sklearn.model_selection import cross_val_score\n",
    "from sklearn.model_selection import ShuffleSplit\n",
    "\n",
    "from abc import ABCMeta, abstractmethod\n",
    "import random\n",
    "\n",
    "from functools import reduce\n",
    "import math\n",
    "import operator\n",
    "\n"
   ]
  },
  {
   "cell_type": "markdown",
   "metadata": {},
   "source": [
    "### Creamos los diccionarios para los dos conjuntos de datos que se utilizaran en esta practica:"
   ]
  },
  {
   "cell_type": "code",
   "execution_count": null,
   "metadata": {
    "scrolled": true
   },
   "outputs": [],
   "source": [
    "d = Datos('german.data')\n",
    "d = Datos('tic-tac-toe.data')"
   ]
  },
  {
   "cell_type": "markdown",
   "metadata": {},
   "source": [
    "### Definimos las estrategias que vamos a utilizar: Validacion cruzada y validacion simple:"
   ]
  },
  {
   "cell_type": "code",
   "execution_count": null,
   "metadata": {},
   "outputs": [],
   "source": [
    "estrategiaSimple = ValidacionSimple()\n",
    "estrategiaCruzada = ValidacionCruzada(10)\n",
    "\n",
    "nBayes = ClasificadorNaiveBayes()"
   ]
  },
  {
   "cell_type": "markdown",
   "metadata": {},
   "source": [
    "## Apartado 1:Particionado:\n",
    "## Validacion Simple:"
   ]
  },
  {
   "cell_type": "markdown",
   "metadata": {},
   "source": [
    "Para la validacion simple, selecionamos al azar la mitad de los indices para entrenamiento del conjunto de datos.\n",
    "El resto de los indices  que no estan en el de entrenamiento, pasan a ser nuestros indices de test. Una de las principales ventajas es que muy facil de implementar.\n",
    "\n",
    "\n"
   ]
  },
  {
   "cell_type": "code",
   "execution_count": null,
   "metadata": {},
   "outputs": [],
   "source": [
    "    def creaParticiones(self, datos, seed=None):\n",
    "        self.nombreEstrategia = 'Validacion Simple'\n",
    "        self.numeroParticiones = 1\n",
    "        p = Particion()\n",
    "        num = datos.shape[0] / 2\n",
    "        random.seed(seed)\n",
    "\n",
    "        while len(p.indicesTrain) < num:\n",
    "            a = random.randint(0, datos.shape[0] - 1)\n",
    "            if not a in p.indicesTrain: p.indicesTrain.append(a)\n",
    "\n",
    "\n",
    "        p.indicesTest = [n for n in range(datos.shape[0]) if n not in p.indicesTrain]\n",
    "\n",
    "        self.particiones.append(p)"
   ]
  },
  {
   "cell_type": "markdown",
   "metadata": {},
   "source": [
    "Para la validacion cruzada,el conjunto de entrenamiento se crea con las nfolds-1 particiones y el de test con la particion restante,esta funcion devuelve una lista de particiones (clase Particion). Esta tecnica es una de las mas utilizadas y es una de las mejores maneras para seleccionar un modelo de aprendizaje automático.\n"
   ]
  },
  {
   "cell_type": "code",
   "execution_count": null,
   "metadata": {},
   "outputs": [],
   "source": [
    "    def creaParticiones(self, datos, seed=None):\n",
    "        self.nombreEstrategia = 'Validacion Cruzada'\n",
    "        p = Particion()\n",
    "        num = datos.shape[0] / 3  # check this\n",
    "        random.seed(seed)\n",
    "\n",
    "        # Vamos a trabajar con los indices directamente\n",
    "        lista = datos.tolist()\n",
    "        for i in range(self.nfolds):\n",
    "            listaInd = [n for n in range(len(lista))]\n",
    "            random.shuffle(listaInd)\n",
    "\n",
    "            p.indicesTrain = [n for n in listaInd if listaInd.index(n) <= num * 2]\n",
    "            p.indicesTest = [n for n in listaInd if n not in p.indicesTrain]\n",
    "            self.particiones.append(p)\n",
    "            p = Particion()"
   ]
  },
  {
   "cell_type": "markdown",
   "metadata": {},
   "source": [
    "En cuando a la validacion Boostrap, es muy parecida a la simple:"
   ]
  },
  {
   "cell_type": "code",
   "execution_count": null,
   "metadata": {},
   "outputs": [],
   "source": [
    "    def creaParticiones(self, datos, seed=None):\n",
    "        self.nombreEstrategia = 'Validacion Bootstrap'\n",
    "        p = Particion()\n",
    "        num = datos.shape[0]\n",
    "        random.seed(seed)\n",
    "\n",
    "        p.indicesTrain = [random.randint(0, datos.shape[0] - 1) for n in range(num)]\n",
    "        p.indicesTest = [n for n in range(datos.shape[0]) if n not in p.indicesTrain]\n",
    "\n",
    "        self.particiones.append(p)"
   ]
  },
  {
   "cell_type": "markdown",
   "metadata": {},
   "source": [
    "## Apartado 2: Naive Bayes\n",
    "\n",
    "Para obtener los distintos valores hemos ido cambiando de estrategia y dandole valores a la flag de laplace para que nos saque los valores con y sin laplace, dentro de cada conjunto de datos (German y TicTacToe).\n",
    "\n",
    "\n"
   ]
  },
  {
   "cell_type": "markdown",
   "metadata": {},
   "source": [
    "\n",
    "\n",
    "### German -> Aplicando Laplace"
   ]
  },
  {
   "cell_type": "code",
   "execution_count": null,
   "metadata": {},
   "outputs": [],
   "source": [
    "d = Datos('german.data')\n",
    "\n",
    "estrategiaSimple = ValidacionSimple()\n",
    "estrategiaCruzada = ValidacionCruzada(10)\n",
    "nBayes = ClasificadorNaiveBayes()\n",
    "errorNBayes = nBayes.validacion(estrategiaSimple,d,nBayes,seed=None, laplace=True)\n",
    "print(\"Error naive simple:\\n\")\n",
    "print(errorNBayes[0])\n",
    "errorNBayes = nBayes.validacion(estrategiaCruzada,d,nBayes,seed=None, laplace=True)\n",
    "print(\"\\nMedia de errores naive cruzada:\\n\")\n",
    "print(np.mean(errorNBayes))"
   ]
  },
  {
   "cell_type": "code",
   "execution_count": null,
   "metadata": {},
   "outputs": [],
   "source": [
    "Error naive simple:\n",
    "\n",
    "0.436\n",
    "\n",
    " Errores naive cruzada:\n",
    "\n",
    "0.436\n",
    "0.436\n",
    "0.3993993993993994\n",
    "0.3993993993993994\n",
    "0.36036036036036034\n",
    "0.36036036036036034\n",
    "0.34534534534534533\n",
    "0.34534534534534533\n",
    "0.3843843843843844\n",
    "0.3843843843843844\n",
    "0.45045045045045046\n",
    "0.45045045045045046\n",
    "0.37537537537537535\n",
    "0.37537537537537535\n",
    "0.36936936936936937\n",
    "0.36936936936936937\n",
    "0.3933933933933934\n",
    "0.3933933933933934\n",
    "0.39039039039039036\n",
    "0.39039039039039036\n",
    "\n",
    "Media errores\n",
    "0.39044684684684683\n",
    "\n",
    "Desviacion:\n",
    "0.030678755834829527"
   ]
  },
  {
   "cell_type": "markdown",
   "metadata": {},
   "source": [
    "\n",
    "### German -> Sin Laplace"
   ]
  },
  {
   "cell_type": "code",
   "execution_count": 3,
   "metadata": {},
   "outputs": [
    {
     "ename": "SyntaxError",
     "evalue": "invalid syntax (<ipython-input-3-d08203cb78cc>, line 1)",
     "output_type": "error",
     "traceback": [
      "\u001b[1;36m  File \u001b[1;32m\"<ipython-input-3-d08203cb78cc>\"\u001b[1;36m, line \u001b[1;32m1\u001b[0m\n\u001b[1;33m    Error naive simple:\u001b[0m\n\u001b[1;37m              ^\u001b[0m\n\u001b[1;31mSyntaxError\u001b[0m\u001b[1;31m:\u001b[0m invalid syntax\n"
     ]
    }
   ],
   "source": [
    "Error naive simple:\n",
    "\n",
    "0.704\n",
    "\n",
    " Errores naive cruzada:\n",
    "\n",
    "0.704\n",
    "0.704\n",
    "0.33933933933933935\n",
    "0.33933933933933935\n",
    "0.2822822822822823\n",
    "0.2822822822822823\n",
    "0.6846846846846847\n",
    "0.6846846846846847\n",
    "0.6906906906906907\n",
    "0.6906906906906907\n",
    "0.2672672672672673\n",
    "0.2672672672672673\n",
    "0.2702702702702703\n",
    "0.2702702702702703\n",
    "0.6816816816816816\n",
    "0.6816816816816816\n",
    "0.27927927927927926\n",
    "0.27927927927927926\n",
    "0.27927927927927926\n",
    "0.27927927927927926\n",
    "\n",
    "Media errores\n",
    "0.44787747747747747\n",
    "\n",
    "Desviacion:\n",
    "0.1988759491242644\n",
    "\n"
   ]
  },
  {
   "cell_type": "markdown",
   "metadata": {},
   "source": [
    "\n",
    "### Tic-tac-toe -> Aplicando Laplace"
   ]
  },
  {
   "cell_type": "code",
   "execution_count": null,
   "metadata": {},
   "outputs": [],
   "source": [
    "d = Datos('tic-tac-toe.data')\n",
    "\n",
    "estrategiaSimple = ValidacionSimple()\n",
    "estrategiaCruzada = ValidacionCruzada(10)\n",
    "nBayes = ClasificadorNaiveBayes()\n",
    "errorNBayes = nBayes.validacion(estrategiaSimple,d,nBayes,seed=None, laplace=True)\n",
    "print(\"Error naive simple:\\n\")\n",
    "print(errorNBayes[0])\n",
    "errorNBayes = nBayes.validacion(estrategiaCruzada,d,nBayes,seed=None, laplace=True)\n",
    "print(\"\\nMedia de errores naive cruzada:\\n\")\n",
    "print(errorNBayes)\n"
   ]
  },
  {
   "cell_type": "code",
   "execution_count": null,
   "metadata": {},
   "outputs": [],
   "source": [
    "Error naive simple:\n",
    "\n",
    "0.3298538622129436\n",
    "\n",
    " Errores naive cruzada:\n",
    "\n",
    "0.3298538622129436\n",
    "0.3298538622129436\n",
    "0.335423197492163\n",
    "0.335423197492163\n",
    "0.2946708463949843\n",
    "0.2946708463949843\n",
    "0.2852664576802508\n",
    "0.2852664576802508\n",
    "0.322884012539185\n",
    "0.322884012539185\n",
    "0.3510971786833856\n",
    "0.3510971786833856\n",
    "0.30094043887147337\n",
    "0.30094043887147337\n",
    "0.335423197492163\n",
    "0.335423197492163\n",
    "0.335423197492163\n",
    "0.335423197492163\n",
    "0.3448275862068966\n",
    "0.3448275862068966\n",
    "\n",
    "Media errores\n",
    "0.3235809975065608\n",
    "\n",
    "Desviacion:\n",
    "0.021179001803268063"
   ]
  },
  {
   "cell_type": "markdown",
   "metadata": {},
   "source": [
    "\n",
    "### Tic-tac-toe ->Sin aplicar laplace"
   ]
  },
  {
   "cell_type": "code",
   "execution_count": null,
   "metadata": {},
   "outputs": [],
   "source": [
    "Error naive simple:\n",
    "\n",
    "0.3465553235908142\n",
    "\n",
    " Errores naive cruzada:\n",
    "\n",
    "0.3465553235908142\n",
    "0.3465553235908142\n",
    "0.34169278996865204\n",
    "0.34169278996865204\n",
    "0.6050156739811913\n",
    "0.6050156739811913\n",
    "0.3103448275862069\n",
    "0.3103448275862069\n",
    "0.6394984326018809\n",
    "0.6394984326018809\n",
    "0.3667711598746082\n",
    "0.3667711598746082\n",
    "0.32601880877742945\n",
    "0.32601880877742945\n",
    "0.6489028213166145\n",
    "0.6489028213166145\n",
    "0.6520376175548589\n",
    "0.6520376175548589\n",
    "0.34169278996865204\n",
    "0.34169278996865204\n",
    "\n",
    "Media errores\n",
    "0.4578530245220909\n",
    "\n",
    "Desviacion:\n",
    "0.1468563903227849\n"
   ]
  },
  {
   "cell_type": "markdown",
   "metadata": {},
   "source": [
    "## Apartado 3: Comparar con los valores de SKLearn\n",
    "\n",
    "Utilizando la libreria scikit-lear obtenemos los siguientes resultados para el conjunto de datos \"German.data\":\n",
    "\n",
    "La media de error de Naive Bayes  usando Validacion Simple con Laplace es :0.3649080000000001 con Desviacion Tipica = 0.02825695553310726\n",
    "\n",
    "La media de error de Naive Bayes  usando Validacion Cruzada con Laplace es :0.361 con Desviacion Tipica = 0.025000000000000022\n",
    "\n",
    "La media de error de Naive Bayes es  usando Validacion Simple sin Laplace es :0.364556 con Desviacion Tipica = 0.028259845434821487\n",
    "\n",
    "Validacion Cruzada sin LaplaceLa media de error de Naive Bayes  usando Validacion Cruzada con Laplace es :0.362 con Desviacion Tipica = 0.02400000000000002\n",
    "\n",
    "Y los siguientes para \"tic-tac-toe\"\n",
    "\n",
    "La media de error de Naive Bayes  usando Validacion Simple con Laplace es :0.2956506610995129 con Desviacion Tipica = 0.026530565154327092\n",
    "\n",
    "La media de error de Naive Bayes  usando Validacion Cruzada con Laplace es :0.5490605427974948 con Desviacion Tipica = 0.11482254697286015\n",
    "\n",
    "La media de error de Naive Bayes es  usando Validacion Simple sin Laplace es :0.2961986778009742 con Desviacion Tipica = 0.026569633972322836\n",
    "\n",
    "Validacion Cruzada sin LaplaceLa media de error de Naive Bayes  usando Validacion Cruzada con Laplace es :0.5490605427974948 con Desviacion Tipica = 0.11482254697286015\n",
    "\n",
    "\n",
    "\n"
   ]
  },
  {
   "cell_type": "markdown",
   "metadata": {},
   "source": [
    "## Apartado 4: Problemas en la validación cruzada"
   ]
  },
  {
   "cell_type": "markdown",
   "metadata": {},
   "source": [
    "El único problema que pensamos podría tener es que al dividir el conjunto de datos realizas menos entrenamiento sobre este.\n",
    "Cierto es que luego se realiza la media de los resultados obtenidos, pero en nuestros resultados se ve que en la mayoría de casos la validación cruzada ha obtenido peores resultados, y pensamos que puede ser debido a esto."
   ]
  }
 ],
 "metadata": {
  "kernelspec": {
   "display_name": "Python 3",
   "language": "python",
   "name": "python3"
  },
  "language_info": {
   "codemirror_mode": {
    "name": "ipython",
    "version": 3
   },
   "file_extension": ".py",
   "mimetype": "text/x-python",
   "name": "python",
   "nbconvert_exporter": "python",
   "pygments_lexer": "ipython3",
   "version": "3.7.0"
  }
 },
 "nbformat": 4,
 "nbformat_minor": 2
}
